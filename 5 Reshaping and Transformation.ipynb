{
 "cells": [
  {
   "cell_type": "markdown",
   "metadata": {},
   "source": [
    "# 5 Reshaping and Transformation"
   ]
  },
  {
   "cell_type": "code",
   "execution_count": 20,
   "metadata": {
    "collapsed": true
   },
   "outputs": [],
   "source": [
    "import pandas as pd\n",
    "import numpy as np"
   ]
  },
  {
   "cell_type": "markdown",
   "metadata": {},
   "source": [
    "## Reshaping DataFrame"
   ]
  },
  {
   "cell_type": "markdown",
   "metadata": {},
   "source": [
    "### Pivoting"
   ]
  },
  {
   "cell_type": "code",
   "execution_count": 3,
   "metadata": {
    "collapsed": true
   },
   "outputs": [],
   "source": [
    "df = pd.read_csv('file6.csv')"
   ]
  },
  {
   "cell_type": "code",
   "execution_count": 4,
   "metadata": {},
   "outputs": [
    {
     "name": "stdout",
     "output_type": "stream",
     "text": [
      "         date      city  min_temp_C  max_temp_C\n",
      "0  2017-01-01    London           4          10\n",
      "1  2017-01-01  New York           5           8\n",
      "2  2017-01-01  Shanghai           5          15\n",
      "3  2017-01-02    London          -1           5\n",
      "4  2017-01-02  New York           3           4\n",
      "5  2017-01-02  Shanghai           8          15\n",
      "6  2017-01-03    London          -2           5\n",
      "7  2017-01-03  New York           4           6\n",
      "8  2017-01-03  Shanghai           7          14\n",
      "city        London  New York  Shanghai\n",
      "date                                  \n",
      "2017-01-01       4         5         5\n",
      "2017-01-02      -1         3         8\n",
      "2017-01-03      -2         4         7\n"
     ]
    }
   ],
   "source": [
    "print(df)\n",
    "df_pivoted = df.pivot(index='date', columns='city', values='min_temp_C')\n",
    "print(df_pivoted)"
   ]
  },
  {
   "cell_type": "code",
   "execution_count": 5,
   "metadata": {},
   "outputs": [
    {
     "name": "stdout",
     "output_type": "stream",
     "text": [
      "         date      city  min_temp_C  max_temp_C\n",
      "0  2017-01-01    London           4          10\n",
      "1  2017-01-01  New York           5           8\n",
      "2  2017-01-01  Shanghai           5          15\n",
      "3  2017-01-02    London          -1           5\n",
      "4  2017-01-02  New York           3           4\n",
      "5  2017-01-02  Shanghai           8          15\n",
      "6  2017-01-03    London          -2           5\n",
      "7  2017-01-03  New York           4           6\n",
      "8  2017-01-03  Shanghai           7          14\n",
      "           min_temp_C                   max_temp_C                  \n",
      "city           London New York Shanghai     London New York Shanghai\n",
      "date                                                                \n",
      "2017-01-01          4        5        5         10        8       15\n",
      "2017-01-02         -1        3        8          5        4       15\n",
      "2017-01-03         -2        4        7          5        6       14\n"
     ]
    }
   ],
   "source": [
    "# If values are not specified, all remaining columns will be used \n",
    "# and the result will have hierarchically indexed columns\n",
    "print(df)\n",
    "df_pivoted = df.pivot(index='date', columns='city')\n",
    "print(df_pivoted)"
   ]
  },
  {
   "cell_type": "markdown",
   "metadata": {},
   "source": [
    "### Stacking and Unstacking"
   ]
  },
  {
   "cell_type": "code",
   "execution_count": 6,
   "metadata": {
    "collapsed": true
   },
   "outputs": [],
   "source": [
    "df = df.set_index(['date', 'city'])"
   ]
  },
  {
   "cell_type": "code",
   "execution_count": 7,
   "metadata": {},
   "outputs": [
    {
     "name": "stdout",
     "output_type": "stream",
     "text": [
      "                     min_temp_C  max_temp_C\n",
      "date       city                            \n",
      "2017-01-01 London             4          10\n",
      "           New York           5           8\n",
      "           Shanghai           5          15\n",
      "2017-01-02 London            -1           5\n",
      "           New York           3           4\n",
      "           Shanghai           8          15\n",
      "2017-01-03 London            -2           5\n",
      "           New York           4           6\n",
      "           Shanghai           7          14\n",
      "           min_temp_C                   max_temp_C                  \n",
      "city           London New York Shanghai     London New York Shanghai\n",
      "date                                                                \n",
      "2017-01-01          4        5        5         10        8       15\n",
      "2017-01-02         -1        3        8          5        4       15\n",
      "2017-01-03         -2        4        7          5        6       14\n"
     ]
    }
   ],
   "source": [
    "# Unstack pivots a level of the row index to the column axis\n",
    "print(df)\n",
    "df_unstacked = df.unstack()\n",
    "print(df_unstacked)"
   ]
  },
  {
   "cell_type": "code",
   "execution_count": 8,
   "metadata": {
    "scrolled": false
   },
   "outputs": [
    {
     "name": "stdout",
     "output_type": "stream",
     "text": [
      "           min_temp_C                   max_temp_C                  \n",
      "city           London New York Shanghai     London New York Shanghai\n",
      "date                                                                \n",
      "2017-01-01          4        5        5         10        8       15\n",
      "2017-01-02         -1        3        8          5        4       15\n",
      "2017-01-03         -2        4        7          5        6       14\n",
      "                     min_temp_C  max_temp_C\n",
      "date       city                            \n",
      "2017-01-01 London             4          10\n",
      "           New York           5           8\n",
      "           Shanghai           5          15\n",
      "2017-01-02 London            -1           5\n",
      "           New York           3           4\n",
      "           Shanghai           8          15\n",
      "2017-01-03 London            -2           5\n",
      "           New York           4           6\n",
      "           Shanghai           7          14\n"
     ]
    }
   ],
   "source": [
    "# Stack pivots a level of the column labels to the row axis\n",
    "df = df_unstacked\n",
    "print(df)\n",
    "df_stacked = df.stack()\n",
    "print(df_stacked)"
   ]
  },
  {
   "cell_type": "markdown",
   "metadata": {},
   "source": [
    "## Data Transformation"
   ]
  },
  {
   "cell_type": "markdown",
   "metadata": {},
   "source": [
    "### Removing Duplicates"
   ]
  },
  {
   "cell_type": "code",
   "execution_count": 11,
   "metadata": {},
   "outputs": [
    {
     "name": "stdout",
     "output_type": "stream",
     "text": [
      "   col_0  col_1\n",
      "0      0      0\n",
      "1      0      0\n",
      "2      1      2\n",
      "3      1      3\n",
      "   col_0  col_1\n",
      "0      0      0\n",
      "2      1      2\n",
      "3      1      3\n"
     ]
    }
   ],
   "source": [
    "# Across all columns\n",
    "df = pd.DataFrame({\n",
    "        'col_0': [0, 0, 1, 1],\n",
    "        'col_1': [0, 0, 2, 3]\n",
    "    })\n",
    "print(df)\n",
    "df_deduplicated = df.drop_duplicates() # default keep='first'\n",
    "print(df_deduplicated)\n",
    "# keep\n",
    "# first: Drop duplicates except for the first occurrence.\n",
    "# last: Drop duplicates except for the last occurrence.\n",
    "# False: Drop all duplicates."
   ]
  },
  {
   "cell_type": "code",
   "execution_count": 12,
   "metadata": {},
   "outputs": [
    {
     "name": "stdout",
     "output_type": "stream",
     "text": [
      "   col_0  col_1\n",
      "0      0      0\n",
      "1      0      0\n",
      "2      1      2\n",
      "3      1      3\n",
      "   col_0  col_1\n",
      "0      0      0\n",
      "2      1      2\n"
     ]
    }
   ],
   "source": [
    "# Specifying columns\n",
    "df = pd.DataFrame({\n",
    "        'col_0': [0, 0, 1, 1],\n",
    "        'col_1': [0, 0, 2, 3]\n",
    "    })\n",
    "print(df)\n",
    "df_deduplicated = df.drop_duplicates(['col_0']) # default keep='first'\n",
    "print(df_deduplicated)\n",
    "# keep\n",
    "# first: Drop duplicates except for the first occurrence.\n",
    "# last: Drop duplicates except for the last occurrence.\n",
    "# False: Drop all duplicates."
   ]
  },
  {
   "cell_type": "markdown",
   "metadata": {},
   "source": [
    "### Replacing values"
   ]
  },
  {
   "cell_type": "code",
   "execution_count": 13,
   "metadata": {
    "collapsed": true
   },
   "outputs": [],
   "source": [
    "df = pd.read_csv('file6.csv')"
   ]
  },
  {
   "cell_type": "code",
   "execution_count": 17,
   "metadata": {},
   "outputs": [
    {
     "name": "stdout",
     "output_type": "stream",
     "text": [
      "         date      city  min_temp_C  max_temp_C\n",
      "0  2017-01-01    London           4          10\n",
      "1  2017-01-01  New York           5           8\n",
      "2  2017-01-01  Shanghai           5          15\n",
      "3  2017-01-02    London          -1           5\n",
      "4  2017-01-02  New York           3           4\n",
      "5  2017-01-02  Shanghai           8          15\n",
      "6  2017-01-03    London          -2           5\n",
      "7  2017-01-03  New York           4           6\n",
      "8  2017-01-03  Shanghai           7          14\n",
      "         date city  min_temp_C  max_temp_C\n",
      "0  2017-01-01   UK           4          10\n",
      "1  2017-01-01   US           5           8\n",
      "2  2017-01-01   CN           5          15\n",
      "3  2017-01-02   UK          -1           5\n",
      "4  2017-01-02   US           3           4\n",
      "5  2017-01-02   CN           8          15\n",
      "6  2017-01-03   UK          -2           5\n",
      "7  2017-01-03   US           4           6\n",
      "8  2017-01-03   CN           7          14\n"
     ]
    }
   ],
   "source": [
    "print(df)\n",
    "city_to_country = {'London': 'UK',\n",
    "                  'New York': 'US',\n",
    "                  'Shanghai': 'CN'}\n",
    "df_replaced = df.replace(city_to_country)\n",
    "print(df_replaced)"
   ]
  },
  {
   "cell_type": "markdown",
   "metadata": {},
   "source": [
    "### Renaming Axis Indexes"
   ]
  },
  {
   "cell_type": "code",
   "execution_count": 18,
   "metadata": {},
   "outputs": [
    {
     "name": "stdout",
     "output_type": "stream",
     "text": [
      "         date city  min_temp_C  max_temp_C\n",
      "0  2017-01-01   UK           4          10\n",
      "1  2017-01-01   US           5           8\n",
      "2  2017-01-01   CN           5          15\n",
      "3  2017-01-02   UK          -1           5\n",
      "4  2017-01-02   US           3           4\n",
      "5  2017-01-02   CN           8          15\n",
      "6  2017-01-03   UK          -2           5\n",
      "7  2017-01-03   US           4           6\n",
      "8  2017-01-03   CN           7          14\n",
      "         date country  min_temp_C  max_temp_C\n",
      "0  2017-01-01      UK           4          10\n",
      "1  2017-01-01      US           5           8\n",
      "2  2017-01-01      CN           5          15\n",
      "3  2017-01-02      UK          -1           5\n",
      "4  2017-01-02      US           3           4\n",
      "5  2017-01-02      CN           8          15\n",
      "6  2017-01-03      UK          -2           5\n",
      "7  2017-01-03      US           4           6\n",
      "8  2017-01-03      CN           7          14\n"
     ]
    }
   ],
   "source": [
    "# Renaming column names\n",
    "print(df_replaced)\n",
    "df_col_renamed = df_replaced.rename(columns={'city': 'country'})\n",
    "print(df_col_renamed)"
   ]
  },
  {
   "cell_type": "code",
   "execution_count": 19,
   "metadata": {},
   "outputs": [
    {
     "name": "stdout",
     "output_type": "stream",
     "text": [
      "               date  min_temp_C  max_temp_C\n",
      "country                                    \n",
      "UK       2017-01-01           4          10\n",
      "US       2017-01-01           5           8\n",
      "CN       2017-01-01           5          15\n",
      "UK       2017-01-02          -1           5\n",
      "US       2017-01-02           3           4\n",
      "CN       2017-01-02           8          15\n",
      "UK       2017-01-03          -2           5\n",
      "US       2017-01-03           4           6\n",
      "CN       2017-01-03           7          14\n",
      "                     date  min_temp_C  max_temp_C\n",
      "country                                          \n",
      "United Kindom  2017-01-01           4          10\n",
      "United States  2017-01-01           5           8\n",
      "China          2017-01-01           5          15\n",
      "United Kindom  2017-01-02          -1           5\n",
      "United States  2017-01-02           3           4\n",
      "China          2017-01-02           8          15\n",
      "United Kindom  2017-01-03          -2           5\n",
      "United States  2017-01-03           4           6\n",
      "China          2017-01-03           7          14\n"
     ]
    }
   ],
   "source": [
    "# Renaming row indexes\n",
    "df_col_renamed = df_col_renamed.set_index('country')\n",
    "print(df_col_renamed)\n",
    "df_row_renamed = df_col_renamed.rename(index={'UK': 'United Kindom',\n",
    "                                              'US': 'United States',\n",
    "                                              'CN': 'China'})\n",
    "print(df_row_renamed)"
   ]
  },
  {
   "cell_type": "markdown",
   "metadata": {},
   "source": [
    "### Binning"
   ]
  },
  {
   "cell_type": "code",
   "execution_count": 25,
   "metadata": {},
   "outputs": [
    {
     "name": "stdout",
     "output_type": "stream",
     "text": [
      "(90, 100]    1\n",
      "(80, 90]     5\n",
      "(70, 80]     4\n",
      "(60, 70]     1\n",
      "(0, 60]      1\n",
      "dtype: int64\n"
     ]
    }
   ],
   "source": [
    "# Specifying bin boundaries\n",
    "x = np.array([90, 80, 98, 85, 74, 62, 73, 56, 84, 74, 88, 85])\n",
    "binned = pd.cut(x, bins=[0, 60, 70, 80, 90, 100])\n",
    "print(pd.value_counts(binned).sort_index(ascending=False))"
   ]
  },
  {
   "cell_type": "code",
   "execution_count": 26,
   "metadata": {},
   "outputs": [
    {
     "name": "stdout",
     "output_type": "stream",
     "text": [
      "(87.5, 98.0]      3\n",
      "(77.0, 87.5]      4\n",
      "(66.5, 77.0]      3\n",
      "(55.958, 66.5]    2\n",
      "dtype: int64\n"
     ]
    }
   ],
   "source": [
    "# Specifying number of equal-length bins\n",
    "x = np.array([90, 80, 98, 85, 74, 62, 73, 56, 84, 74, 88, 85])\n",
    "binned = pd.cut(x, bins=4)\n",
    "print(pd.value_counts(binned).sort_index(ascending=False))"
   ]
  },
  {
   "cell_type": "code",
   "execution_count": 28,
   "metadata": {},
   "outputs": [
    {
     "name": "stdout",
     "output_type": "stream",
     "text": [
      "(85.75, 98.0]      3\n",
      "(82.0, 85.75]      3\n",
      "(73.75, 82.0]      3\n",
      "(55.999, 73.75]    3\n",
      "dtype: int64\n"
     ]
    }
   ],
   "source": [
    "# Specifying number of quantiles, same number of items in each bin\n",
    "x = np.array([90, 80, 98, 85, 74, 62, 73, 56, 84, 74, 88, 85])\n",
    "binned = pd.qcut(x, q=[0, 0.25, 0.5, 0.75, 1])\n",
    "print(pd.value_counts(binned).sort_index(ascending=False))"
   ]
  },
  {
   "cell_type": "code",
   "execution_count": 29,
   "metadata": {},
   "outputs": [
    {
     "name": "stdout",
     "output_type": "stream",
     "text": [
      "A    1\n",
      "B    5\n",
      "C    4\n",
      "D    1\n",
      "F    1\n",
      "dtype: int64\n"
     ]
    }
   ],
   "source": [
    "# Adding labels for the resulting bins\n",
    "x = np.array([90, 80, 98, 85, 74, 62, 73, 56, 84, 74, 88, 85])\n",
    "binned = pd.cut(x, bins=[0, 60, 70, 80, 90, 100], \n",
    "                labels=['F', 'D', 'C', 'B', 'A'])\n",
    "print(pd.value_counts(binned).sort_index(ascending=False))"
   ]
  },
  {
   "cell_type": "markdown",
   "metadata": {},
   "source": [
    "### Dummy Variables"
   ]
  },
  {
   "cell_type": "code",
   "execution_count": 32,
   "metadata": {},
   "outputs": [
    {
     "name": "stdout",
     "output_type": "stream",
     "text": [
      "  gender\n",
      "0      F\n",
      "1      M\n",
      "2      M\n",
      "3      F\n",
      "   F  M\n",
      "0  1  0\n",
      "1  0  1\n",
      "2  0  1\n",
      "3  1  0\n"
     ]
    }
   ],
   "source": [
    "df = pd.DataFrame({\n",
    "    'gender': ['F', 'M', 'M', 'F']\n",
    "})\n",
    "print(df)\n",
    "print(pd.get_dummies(df['gender']))"
   ]
  },
  {
   "cell_type": "code",
   "execution_count": 33,
   "metadata": {},
   "outputs": [
    {
     "name": "stdout",
     "output_type": "stream",
     "text": [
      "  gender\n",
      "0      F\n",
      "1      M\n",
      "2      M\n",
      "3      F\n",
      "   M\n",
      "0  0\n",
      "1  1\n",
      "2  1\n",
      "3  0\n"
     ]
    }
   ],
   "source": [
    "# Drop a column to avoid collinearity\n",
    "df = pd.DataFrame({\n",
    "    'gender': ['F', 'M', 'M', 'F']\n",
    "})\n",
    "print(df)\n",
    "print(pd.get_dummies(df['gender'], drop_first=True))"
   ]
  },
  {
   "cell_type": "code",
   "execution_count": 34,
   "metadata": {},
   "outputs": [
    {
     "name": "stdout",
     "output_type": "stream",
     "text": [
      "  gender\n",
      "0      F\n",
      "1      M\n",
      "2      M\n",
      "3      F\n",
      "   gender_F  gender_M\n",
      "0         1         0\n",
      "1         0         1\n",
      "2         0         1\n",
      "3         1         0\n"
     ]
    }
   ],
   "source": [
    "# Add prefix\n",
    "df = pd.DataFrame({\n",
    "    'gender': ['F', 'M', 'M', 'F']\n",
    "})\n",
    "print(df)\n",
    "print(pd.get_dummies(df['gender'], prefix='gender'))"
   ]
  }
 ],
 "metadata": {
  "kernelspec": {
   "display_name": "Python 3",
   "language": "python",
   "name": "python3"
  },
  "language_info": {
   "codemirror_mode": {
    "name": "ipython",
    "version": 3
   },
   "file_extension": ".py",
   "mimetype": "text/x-python",
   "name": "python",
   "nbconvert_exporter": "python",
   "pygments_lexer": "ipython3",
   "version": "3.6.2"
  }
 },
 "nbformat": 4,
 "nbformat_minor": 2
}
