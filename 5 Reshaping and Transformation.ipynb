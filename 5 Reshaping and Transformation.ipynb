{
 "cells": [
  {
   "cell_type": "markdown",
   "metadata": {},
   "source": [
    "# 5 Reshaping and Transformation"
   ]
  },
  {
   "cell_type": "code",
   "execution_count": 2,
   "metadata": {
    "collapsed": true
   },
   "outputs": [],
   "source": [
    "import pandas as pd"
   ]
  },
  {
   "cell_type": "markdown",
   "metadata": {},
   "source": [
    "## Reshaping DataFrame"
   ]
  },
  {
   "cell_type": "markdown",
   "metadata": {},
   "source": [
    "### Pivoting"
   ]
  },
  {
   "cell_type": "code",
   "execution_count": 3,
   "metadata": {},
   "outputs": [],
   "source": [
    "df = pd.read_csv('file6.csv')"
   ]
  },
  {
   "cell_type": "code",
   "execution_count": 4,
   "metadata": {},
   "outputs": [
    {
     "name": "stdout",
     "output_type": "stream",
     "text": [
      "         date      city  min_temp_C  max_temp_C\n",
      "0  2017-01-01    London           4          10\n",
      "1  2017-01-01  New York           5           8\n",
      "2  2017-01-01  Shanghai           5          15\n",
      "3  2017-01-02    London          -1           5\n",
      "4  2017-01-02  New York           3           4\n",
      "5  2017-01-02  Shanghai           8          15\n",
      "6  2017-01-03    London          -2           5\n",
      "7  2017-01-03  New York           4           6\n",
      "8  2017-01-03  Shanghai           7          14\n",
      "city        London  New York  Shanghai\n",
      "date                                  \n",
      "2017-01-01       4         5         5\n",
      "2017-01-02      -1         3         8\n",
      "2017-01-03      -2         4         7\n"
     ]
    }
   ],
   "source": [
    "print(df)\n",
    "df_pivot = df.pivot(index='date', columns='city', values='min_temp_C')\n",
    "print(df_pivot)"
   ]
  },
  {
   "cell_type": "code",
   "execution_count": 5,
   "metadata": {},
   "outputs": [
    {
     "name": "stdout",
     "output_type": "stream",
     "text": [
      "         date      city  min_temp_C  max_temp_C\n",
      "0  2017-01-01    London           4          10\n",
      "1  2017-01-01  New York           5           8\n",
      "2  2017-01-01  Shanghai           5          15\n",
      "3  2017-01-02    London          -1           5\n",
      "4  2017-01-02  New York           3           4\n",
      "5  2017-01-02  Shanghai           8          15\n",
      "6  2017-01-03    London          -2           5\n",
      "7  2017-01-03  New York           4           6\n",
      "8  2017-01-03  Shanghai           7          14\n",
      "           min_temp_C                   max_temp_C                  \n",
      "city           London New York Shanghai     London New York Shanghai\n",
      "date                                                                \n",
      "2017-01-01          4        5        5         10        8       15\n",
      "2017-01-02         -1        3        8          5        4       15\n",
      "2017-01-03         -2        4        7          5        6       14\n"
     ]
    }
   ],
   "source": [
    "# If values are not specified, all remaining columns will be used \n",
    "# and the result will have hierarchically indexed columns\n",
    "print(df)\n",
    "df_pivot = df.pivot(index='date', columns='city')\n",
    "print(df_pivot)"
   ]
  },
  {
   "cell_type": "markdown",
   "metadata": {},
   "source": [
    "### Stacking and Unstacking"
   ]
  },
  {
   "cell_type": "code",
   "execution_count": 6,
   "metadata": {
    "collapsed": true
   },
   "outputs": [],
   "source": [
    "df = df.set_index(['date', 'city'])"
   ]
  },
  {
   "cell_type": "code",
   "execution_count": 7,
   "metadata": {},
   "outputs": [
    {
     "name": "stdout",
     "output_type": "stream",
     "text": [
      "                     min_temp_C  max_temp_C\n",
      "date       city                            \n",
      "2017-01-01 London             4          10\n",
      "           New York           5           8\n",
      "           Shanghai           5          15\n",
      "2017-01-02 London            -1           5\n",
      "           New York           3           4\n",
      "           Shanghai           8          15\n",
      "2017-01-03 London            -2           5\n",
      "           New York           4           6\n",
      "           Shanghai           7          14\n",
      "           min_temp_C                   max_temp_C                  \n",
      "city           London New York Shanghai     London New York Shanghai\n",
      "date                                                                \n",
      "2017-01-01          4        5        5         10        8       15\n",
      "2017-01-02         -1        3        8          5        4       15\n",
      "2017-01-03         -2        4        7          5        6       14\n"
     ]
    }
   ],
   "source": [
    "# Unstack pivots a level of the row index to the column axis\n",
    "print(df)\n",
    "df_unstacked = df.unstack()\n",
    "print(df_unstacked)"
   ]
  },
  {
   "cell_type": "code",
   "execution_count": 8,
   "metadata": {},
   "outputs": [
    {
     "name": "stdout",
     "output_type": "stream",
     "text": [
      "           min_temp_C                   max_temp_C                  \n",
      "city           London New York Shanghai     London New York Shanghai\n",
      "date                                                                \n",
      "2017-01-01          4        5        5         10        8       15\n",
      "2017-01-02         -1        3        8          5        4       15\n",
      "2017-01-03         -2        4        7          5        6       14\n",
      "                     min_temp_C  max_temp_C\n",
      "date       city                            \n",
      "2017-01-01 London             4          10\n",
      "           New York           5           8\n",
      "           Shanghai           5          15\n",
      "2017-01-02 London            -1           5\n",
      "           New York           3           4\n",
      "           Shanghai           8          15\n",
      "2017-01-03 London            -2           5\n",
      "           New York           4           6\n",
      "           Shanghai           7          14\n"
     ]
    }
   ],
   "source": [
    "# Stack pivots a level of the column labels to the row axis\n",
    "df = df_unstacked\n",
    "print(df)\n",
    "df_stacked = df.stack()\n",
    "print(df_stacked)"
   ]
  },
  {
   "cell_type": "markdown",
   "metadata": {},
   "source": []
  }
 ],
 "metadata": {
  "kernelspec": {
   "display_name": "Python 3",
   "language": "python",
   "name": "python3"
  },
  "language_info": {
   "codemirror_mode": {
    "name": "ipython",
    "version": 3
   },
   "file_extension": ".py",
   "mimetype": "text/x-python",
   "name": "python",
   "nbconvert_exporter": "python",
   "pygments_lexer": "ipython3",
   "version": "3.6.2"
  }
 },
 "nbformat": 4,
 "nbformat_minor": 2
}
