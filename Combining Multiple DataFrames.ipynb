{
 "cells": [
  {
   "cell_type": "markdown",
   "metadata": {},
   "source": [
    "# Combining Multiple DataFrames"
   ]
  },
  {
   "cell_type": "code",
   "execution_count": 1,
   "metadata": {
    "collapsed": true
   },
   "outputs": [],
   "source": [
    "import pandas as pd"
   ]
  },
  {
   "cell_type": "markdown",
   "metadata": {},
   "source": [
    "## Database-Style DataFrame Merging"
   ]
  },
  {
   "cell_type": "markdown",
   "metadata": {},
   "source": [
    "### Relationships\n",
    "| Relationship | Description |\n",
    "|:-------------|:------------------------------------------------------------------------------------------------|\n",
    "| One-to-one | Join two columns that contain unique values |\n",
    "| Many-to-one | Join one column that contains non-unique values with another column that contains unique values |\n",
    "| Many-to-many | Join two columns that contain non-unique values |"
   ]
  },
  {
   "cell_type": "code",
   "execution_count": 3,
   "metadata": {},
   "outputs": [
    {
     "name": "stdout",
     "output_type": "stream",
     "text": [
      "    A key\n",
      "0  A0  K0\n",
      "1  A1  K1\n",
      "    B key\n",
      "0  B0  K0\n",
      "1  B1  K1\n",
      "    A key   B\n",
      "0  A0  K0  B0\n",
      "1  A1  K1  B1\n"
     ]
    }
   ],
   "source": [
    "# DataFrame merge one-to-one\n",
    "df_l = pd.DataFrame({\n",
    "        'A': ['A0', 'A1'],\n",
    "        'key': ['K0', 'K1']\n",
    "    })\n",
    "df_r = pd.DataFrame({\n",
    "        'B': ['B0', 'B1'],\n",
    "        'key': ['K0', 'K1']\n",
    "    })\n",
    "print(df_l)\n",
    "print(df_r)\n",
    "df_merged = pd.merge(df_l, df_r, on='key')\n",
    "print(df_merged)"
   ]
  },
  {
   "cell_type": "code",
   "execution_count": 4,
   "metadata": {},
   "outputs": [
    {
     "name": "stdout",
     "output_type": "stream",
     "text": [
      "     A key\n",
      "0  A00  K0\n",
      "1  A01  K0\n",
      "2  A10  K1\n",
      "3  A11  K1\n",
      "    B key\n",
      "0  B0  K0\n",
      "1  B1  K1\n",
      "     A key   B\n",
      "0  A00  K0  B0\n",
      "1  A01  K0  B0\n",
      "2  A10  K1  B1\n",
      "3  A11  K1  B1\n"
     ]
    }
   ],
   "source": [
    "# DataFrame merge many-to-one\n",
    "df_l = pd.DataFrame({\n",
    "        'A': ['A00', 'A01', 'A10', 'A11'],\n",
    "        'key': ['K0', 'K0', 'K1', 'K1']\n",
    "    })\n",
    "df_r = pd.DataFrame({\n",
    "        'B': ['B0', 'B1'],\n",
    "        'key': ['K0', 'K1']\n",
    "    })\n",
    "print(df_l)\n",
    "print(df_r)\n",
    "df_merged = pd.merge(df_l, df_r, on='key')\n",
    "print(df_merged)"
   ]
  },
  {
   "cell_type": "code",
   "execution_count": 5,
   "metadata": {
    "scrolled": true
   },
   "outputs": [
    {
     "name": "stdout",
     "output_type": "stream",
     "text": [
      "    A key\n",
      "0  A0  K0\n",
      "1  A1  K0\n",
      "2  A2  K1\n",
      "    B key\n",
      "0  B0  K0\n",
      "1  B1  K0\n",
      "2  B2  K1\n",
      "    A key   B\n",
      "0  A0  K0  B0\n",
      "1  A0  K0  B1\n",
      "2  A1  K0  B0\n",
      "3  A1  K0  B1\n",
      "4  A2  K1  B2\n"
     ]
    }
   ],
   "source": [
    "# DataFrame merge many-to-many\n",
    "df_l = pd.DataFrame({\n",
    "        'A': ['A0', 'A1', 'A2'],\n",
    "        'key': ['K0', 'K0', 'K1']\n",
    "    })\n",
    "df_r = pd.DataFrame({\n",
    "        'B': ['B0', 'B1', 'B2'],\n",
    "        'key': ['K0', 'K0', 'K1']\n",
    "    })\n",
    "print(df_l)\n",
    "print(df_r)\n",
    "df_merged = pd.merge(df_l, df_r, on='key')\n",
    "print(df_merged)"
   ]
  },
  {
   "cell_type": "markdown",
   "metadata": {},
   "source": [
    "### Merge Methods\n",
    "| Merge Method | Description |\n",
    "|:-------------|:----------------------------------------------|\n",
    "| Inner | Use intersection of keys from both DataFrames |\n",
    "| Outer | Use union of keys from both DataFrames |\n",
    "| Left | Use keys from left DataFrame only |\n",
    "| Right | Use keys from right DataFrame only |"
   ]
  },
  {
   "cell_type": "code",
   "execution_count": 7,
   "metadata": {},
   "outputs": [
    {
     "name": "stdout",
     "output_type": "stream",
     "text": [
      "    A key\n",
      "0  A0  K0\n",
      "1  A1  K1\n",
      "2  A2  K2\n",
      "    B key\n",
      "0  B1  K1\n",
      "1  B2  K2\n",
      "2  B3  K3\n",
      "    A key   B\n",
      "0  A1  K1  B1\n",
      "1  A2  K2  B2\n"
     ]
    }
   ],
   "source": [
    "# DataFrame merge method inner\n",
    "df_l = pd.DataFrame({\n",
    "        'A': ['A0', 'A1', 'A2'],\n",
    "        'key': ['K0', 'K1', 'K2']\n",
    "    })\n",
    "df_r = pd.DataFrame({\n",
    "        'B': ['B1', 'B2', 'B3'],\n",
    "        'key': ['K1', 'K2', 'K3']\n",
    "    })\n",
    "print(df_l)\n",
    "print(df_r)\n",
    "df_merged = pd.merge(df_l, df_r, on='key') # default how='inner'\n",
    "print(df_merged)"
   ]
  },
  {
   "cell_type": "code",
   "execution_count": 8,
   "metadata": {},
   "outputs": [
    {
     "name": "stdout",
     "output_type": "stream",
     "text": [
      "    A key\n",
      "0  A0  K0\n",
      "1  A1  K1\n",
      "2  A2  K2\n",
      "    B key\n",
      "0  B1  K1\n",
      "1  B2  K2\n",
      "2  B3  K3\n",
      "     A key    B\n",
      "0   A0  K0  NaN\n",
      "1   A1  K1   B1\n",
      "2   A2  K2   B2\n",
      "3  NaN  K3   B3\n"
     ]
    }
   ],
   "source": [
    "# DataFrame merge method outer\n",
    "df_l = pd.DataFrame({\n",
    "        'A': ['A0', 'A1', 'A2'],\n",
    "        'key': ['K0', 'K1', 'K2']\n",
    "    })\n",
    "df_r = pd.DataFrame({\n",
    "        'B': ['B1', 'B2', 'B3'],\n",
    "        'key': ['K1', 'K2', 'K3']\n",
    "    })\n",
    "print(df_l)\n",
    "print(df_r)\n",
    "df_merged = pd.merge(df_l, df_r, on='key', how='outer')\n",
    "print(df_merged)"
   ]
  },
  {
   "cell_type": "code",
   "execution_count": 10,
   "metadata": {},
   "outputs": [
    {
     "name": "stdout",
     "output_type": "stream",
     "text": [
      "    A key\n",
      "0  A0  K0\n",
      "1  A1  K1\n",
      "2  A2  K2\n",
      "    B key\n",
      "0  B1  K1\n",
      "1  B2  K2\n",
      "2  B3  K3\n",
      "    A key    B\n",
      "0  A0  K0  NaN\n",
      "1  A1  K1   B1\n",
      "2  A2  K2   B2\n"
     ]
    }
   ],
   "source": [
    "# DataFrame merge method left\n",
    "df_l = pd.DataFrame({\n",
    "        'A': ['A0', 'A1', 'A2'],\n",
    "        'key': ['K0', 'K1', 'K2']\n",
    "    })\n",
    "df_r = pd.DataFrame({\n",
    "        'B': ['B1', 'B2', 'B3'],\n",
    "        'key': ['K1', 'K2', 'K3']\n",
    "    })\n",
    "print(df_l)\n",
    "print(df_r)\n",
    "df_merged = pd.merge(df_l, df_r, on='key', how='left')\n",
    "print(df_merged)"
   ]
  },
  {
   "cell_type": "code",
   "execution_count": 11,
   "metadata": {},
   "outputs": [
    {
     "name": "stdout",
     "output_type": "stream",
     "text": [
      "    A key\n",
      "0  A0  K0\n",
      "1  A1  K1\n",
      "2  A2  K2\n",
      "    B key\n",
      "0  B1  K1\n",
      "1  B2  K2\n",
      "2  B3  K3\n",
      "     A key   B\n",
      "0   A1  K1  B1\n",
      "1   A2  K2  B2\n",
      "2  NaN  K3  B3\n"
     ]
    }
   ],
   "source": [
    "# DataFrame merge method right\n",
    "df_l = pd.DataFrame({\n",
    "        'A': ['A0', 'A1', 'A2'],\n",
    "        'key': ['K0', 'K1', 'K2']\n",
    "    })\n",
    "df_r = pd.DataFrame({\n",
    "        'B': ['B1', 'B2', 'B3'],\n",
    "        'key': ['K1', 'K2', 'K3']\n",
    "    })\n",
    "print(df_l)\n",
    "print(df_r)\n",
    "df_merged = pd.merge(df_l, df_r, on='key', how='right')\n",
    "print(df_merged)"
   ]
  },
  {
   "cell_type": "markdown",
   "metadata": {},
   "source": [
    "### Keys"
   ]
  },
  {
   "cell_type": "code",
   "execution_count": 6,
   "metadata": {},
   "outputs": [
    {
     "name": "stdout",
     "output_type": "stream",
     "text": [
      "    A key_l\n",
      "0  A0    K0\n",
      "1  A1    K1\n",
      "    B key_r\n",
      "0  B0    K0\n",
      "1  B1    K1\n",
      "    A key_l   B key_r\n",
      "0  A0    K0  B0    K0\n",
      "1  A1    K1  B1    K1\n"
     ]
    }
   ],
   "source": [
    "# DataFrame merge with different key names\n",
    "df_l = pd.DataFrame({\n",
    "        'A': ['A0', 'A1'],\n",
    "        'key_l': ['K0', 'K1']\n",
    "    })\n",
    "df_r = pd.DataFrame({\n",
    "        'B': ['B0', 'B1'],\n",
    "        'key_r': ['K0', 'K1']\n",
    "    })\n",
    "print(df_l)\n",
    "print(df_r)\n",
    "df_merged = pd.merge(df_l, df_r, left_on='key_l', right_on='key_r')\n",
    "print(df_merged)"
   ]
  },
  {
   "cell_type": "code",
   "execution_count": 12,
   "metadata": {},
   "outputs": [
    {
     "name": "stdout",
     "output_type": "stream",
     "text": [
      "    A key1 key2\n",
      "0  A0   K0   L0\n",
      "1  A1   K1   L0\n",
      "    B key1 key2\n",
      "0  B1   K0   L0\n",
      "1  B2   K0   L1\n",
      "     A key1 key2    B\n",
      "0   A0   K0   L0   B1\n",
      "1   A1   K1   L0  NaN\n",
      "2  NaN   K0   L1   B2\n"
     ]
    }
   ],
   "source": [
    "# DataFrame merge on multiple keys\n",
    "df_l = pd.DataFrame({\n",
    "        'A': ['A0', 'A1'],\n",
    "        'key1': ['K0', 'K1'],\n",
    "        'key2': ['L0', 'L0']\n",
    "    })\n",
    "df_r = pd.DataFrame({\n",
    "        'B': ['B1', 'B2'],\n",
    "        'key1': ['K0', 'K0'],\n",
    "        'key2': ['L0', 'L1']\n",
    "    })\n",
    "print(df_l)\n",
    "print(df_r)\n",
    "df_merged = pd.merge(df_l, df_r, on=['key1', 'key2'], how='outer')\n",
    "print(df_merged)"
   ]
  },
  {
   "cell_type": "markdown",
   "metadata": {},
   "source": [
    "### Column Names"
   ]
  },
  {
   "cell_type": "code",
   "execution_count": 13,
   "metadata": {
    "scrolled": true
   },
   "outputs": [
    {
     "name": "stdout",
     "output_type": "stream",
     "text": [
      "    A key\n",
      "0  L0  K0\n",
      "1  L1  K1\n",
      "    A key\n",
      "0  R2  K0\n",
      "1  R3  K1\n",
      "  A_x key A_y\n",
      "0  L0  K0  R2\n",
      "1  L1  K1  R3\n"
     ]
    }
   ],
   "source": [
    "# Same column name\n",
    "df_l = pd.DataFrame({\n",
    "        'A': ['L0', 'L1'],\n",
    "        'key': ['K0', 'K1']\n",
    "    })\n",
    "df_r = pd.DataFrame({\n",
    "        'A': ['R2', 'R3'],\n",
    "        'key': ['K0', 'K1']\n",
    "    })\n",
    "print(df_l)\n",
    "print(df_r)\n",
    "df_merged = pd.merge(df_l, df_r, on='key')\n",
    "print(df_merged)"
   ]
  },
  {
   "cell_type": "code",
   "execution_count": 14,
   "metadata": {
    "scrolled": false
   },
   "outputs": [
    {
     "name": "stdout",
     "output_type": "stream",
     "text": [
      "    A key\n",
      "0  L0  K0\n",
      "1  L1  K1\n",
      "    A key\n",
      "0  R2  K0\n",
      "1  R3  K1\n",
      "  A_l key A_r\n",
      "0  L0  K0  R2\n",
      "1  L1  K1  R3\n"
     ]
    }
   ],
   "source": [
    "# Add suffixes to the same column name\n",
    "df_l = pd.DataFrame({\n",
    "        'A': ['L0', 'L1'],\n",
    "        'key': ['K0', 'K1']\n",
    "    })\n",
    "df_r = pd.DataFrame({\n",
    "        'A': ['R2', 'R3'],\n",
    "        'key': ['K0', 'K1']\n",
    "    })\n",
    "print(df_l)\n",
    "print(df_r)\n",
    "df_merged = pd.merge(df_l, df_r, on='key', suffixes=('_l', '_r'))\n",
    "print(df_merged)"
   ]
  },
  {
   "cell_type": "markdown",
   "metadata": {},
   "source": [
    "### Merge on Index"
   ]
  },
  {
   "cell_type": "code",
   "execution_count": 16,
   "metadata": {},
   "outputs": [
    {
     "name": "stdout",
     "output_type": "stream",
     "text": [
      "     A\n",
      "K0  A0\n",
      "K1  A1\n",
      "     B\n",
      "K0  B0\n",
      "K1  B1\n",
      "     A   B\n",
      "K0  A0  B0\n",
      "K1  A1  B1\n"
     ]
    }
   ],
   "source": [
    "# Merge on index\n",
    "df_l = pd.DataFrame({\n",
    "        'A': ['A0', 'A1']\n",
    "    }, index=['K0', 'K1'])\n",
    "df_r = pd.DataFrame({\n",
    "        'B': ['B0', 'B1']\n",
    "    }, index=['K0', 'K1'])\n",
    "print(df_l)\n",
    "print(df_r)\n",
    "df_merged = pd.merge(df_l, df_r, left_index=True, right_index=True)\n",
    "print(df_merged)"
   ]
  },
  {
   "cell_type": "code",
   "execution_count": 18,
   "metadata": {
    "scrolled": true
   },
   "outputs": [
    {
     "name": "stdout",
     "output_type": "stream",
     "text": [
      "    A key\n",
      "0  A0  K0\n",
      "1  A1  K1\n",
      "     B\n",
      "K0  B0\n",
      "K1  B1\n",
      "    A key   B\n",
      "0  A0  K0  B0\n",
      "1  A1  K1  B1\n"
     ]
    }
   ],
   "source": [
    "# Merge on index and key\n",
    "df_l = pd.DataFrame({\n",
    "        'A': ['A0', 'A1'],\n",
    "        'key': ['K0', 'K1']\n",
    "    })\n",
    "df_r = pd.DataFrame({\n",
    "        'B': ['B0', 'B1']\n",
    "    }, index=['K0', 'K1'])\n",
    "print(df_l)\n",
    "print(df_r)\n",
    "df_merged = pd.merge(df_l, df_r, left_on='key', right_index=True)\n",
    "print(df_merged)"
   ]
  },
  {
   "cell_type": "markdown",
   "metadata": {},
   "source": [
    "## Concatenating DataFrames Along an Axis"
   ]
  },
  {
   "cell_type": "markdown",
   "metadata": {},
   "source": [
    "### Index"
   ]
  },
  {
   "cell_type": "code",
   "execution_count": 20,
   "metadata": {},
   "outputs": [
    {
     "name": "stdout",
     "output_type": "stream",
     "text": [
      "    A   B\n",
      "a  A0  B0\n",
      "b  A1  B1\n",
      "    A   B\n",
      "c  A2  B2\n",
      "d  A3  B3\n",
      "    A   B\n",
      "a  A0  B0\n",
      "b  A1  B1\n",
      "c  A2  B2\n",
      "d  A3  B3\n"
     ]
    }
   ],
   "source": [
    "# Keeping original indexes\n",
    "df1 = pd.DataFrame({\n",
    "        'A': ['A0', 'A1'],\n",
    "        'B': ['B0', 'B1']\n",
    "    }, index=['a', 'b'])\n",
    "df2 = pd.DataFrame({\n",
    "        'A': ['A2', 'A3'],\n",
    "        'B': ['B2', 'B3']\n",
    "    }, index=['c', 'd'])\n",
    "print(df1)\n",
    "print(df2)\n",
    "df_concat = pd.concat([df1, df2])\n",
    "print(df_concat)"
   ]
  },
  {
   "cell_type": "code",
   "execution_count": 22,
   "metadata": {},
   "outputs": [
    {
     "name": "stdout",
     "output_type": "stream",
     "text": [
      "    A   B\n",
      "a  A0  B0\n",
      "b  A1  B1\n",
      "    A   B\n",
      "c  A2  B2\n",
      "d  A3  B3\n",
      "    A   B\n",
      "0  A0  B0\n",
      "1  A1  B1\n",
      "2  A2  B2\n",
      "3  A3  B3\n"
     ]
    }
   ],
   "source": [
    "# Ignoring original indexes\n",
    "df1 = pd.DataFrame({\n",
    "        'A': ['A0', 'A1'],\n",
    "        'B': ['B0', 'B1']\n",
    "    }, index=['a', 'b'])\n",
    "df2 = pd.DataFrame({\n",
    "        'A': ['A2', 'A3'],\n",
    "        'B': ['B2', 'B3']\n",
    "    }, index=['c', 'd'])\n",
    "print(df1)\n",
    "print(df2)\n",
    "df_concat = pd.concat([df1, df2], ignore_index=True)\n",
    "print(df_concat)"
   ]
  },
  {
   "cell_type": "code",
   "execution_count": 23,
   "metadata": {
    "scrolled": true
   },
   "outputs": [
    {
     "name": "stdout",
     "output_type": "stream",
     "text": [
      "    A   B\n",
      "a  A0  B0\n",
      "b  A1  B1\n",
      "    A   B\n",
      "c  A2  B2\n",
      "d  A3  B3\n",
      "      A   B\n",
      "x a  A0  B0\n",
      "  b  A1  B1\n",
      "y c  A2  B2\n",
      "  d  A3  B3\n"
     ]
    }
   ],
   "source": [
    "# Hierarchical index on the concatenation axis\n",
    "df1 = pd.DataFrame({\n",
    "        'A': ['A0', 'A1'],\n",
    "        'B': ['B0', 'B1']\n",
    "    }, index=['a', 'b'])\n",
    "df2 = pd.DataFrame({\n",
    "        'A': ['A2', 'A3'],\n",
    "        'B': ['B2', 'B3']\n",
    "    }, index=['c', 'd'])\n",
    "print(df1)\n",
    "print(df2)\n",
    "df_concat = pd.concat([df1, df2], keys=['x', 'y'])\n",
    "print(df_concat)"
   ]
  },
  {
   "cell_type": "markdown",
   "metadata": {},
   "source": [
    "### Logic on the Other Axis"
   ]
  },
  {
   "cell_type": "code",
   "execution_count": 25,
   "metadata": {},
   "outputs": [
    {
     "name": "stdout",
     "output_type": "stream",
     "text": [
      "    A   B\n",
      "0  A0  B0\n",
      "1  A1  B1\n",
      "    B   C\n",
      "2  B2  C2\n",
      "3  B3  C3\n",
      "    B\n",
      "0  B0\n",
      "1  B1\n",
      "2  B2\n",
      "3  B3\n"
     ]
    }
   ],
   "source": [
    "# Inner join\n",
    "df1 = pd.DataFrame({\n",
    "        'A': ['A0', 'A1'],\n",
    "        'B': ['B0', 'B1']\n",
    "    }, index=[0, 1])\n",
    "df2 = pd.DataFrame({\n",
    "        'B': ['B2', 'B3'],\n",
    "        'C': ['C2', 'C3']\n",
    "    }, index=[2, 3])\n",
    "print(df1)\n",
    "print(df2)\n",
    "df_concat = pd.concat([df1, df2], join='inner')\n",
    "print(df_concat)"
   ]
  },
  {
   "cell_type": "code",
   "execution_count": 26,
   "metadata": {},
   "outputs": [
    {
     "name": "stdout",
     "output_type": "stream",
     "text": [
      "    A   B\n",
      "0  A0  B0\n",
      "1  A1  B1\n",
      "    B   C\n",
      "2  B2  C2\n",
      "3  B3  C3\n",
      "     A   B    C\n",
      "0   A0  B0  NaN\n",
      "1   A1  B1  NaN\n",
      "2  NaN  B2   C2\n",
      "3  NaN  B3   C3\n"
     ]
    }
   ],
   "source": [
    "# Outer join\n",
    "df1 = pd.DataFrame({\n",
    "        'A': ['A0', 'A1'],\n",
    "        'B': ['B0', 'B1']\n",
    "    }, index=[0, 1])\n",
    "df2 = pd.DataFrame({\n",
    "        'B': ['B2', 'B3'],\n",
    "        'C': ['C2', 'C3']\n",
    "    }, index=[2, 3])\n",
    "print(df1)\n",
    "print(df2)\n",
    "df_concat = pd.concat([df1, df2]) # default join='outer'\n",
    "print(df_concat)"
   ]
  },
  {
   "cell_type": "code",
   "execution_count": 27,
   "metadata": {},
   "outputs": [
    {
     "name": "stdout",
     "output_type": "stream",
     "text": [
      "    A   B\n",
      "0  A0  B0\n",
      "1  A1  B1\n",
      "    B   C\n",
      "2  B2  C2\n",
      "3  B3  C3\n",
      "     A   B\n",
      "0   A0  B0\n",
      "1   A1  B1\n",
      "2  NaN  B2\n",
      "3  NaN  B3\n"
     ]
    }
   ],
   "source": [
    "# Specifying indexes instead of inner/outer set logic\n",
    "df1 = pd.DataFrame({\n",
    "        'A': ['A0', 'A1'],\n",
    "        'B': ['B0', 'B1']\n",
    "    }, index=[0, 1])\n",
    "df2 = pd.DataFrame({\n",
    "        'B': ['B2', 'B3'],\n",
    "        'C': ['C2', 'C3']\n",
    "    }, index=[2, 3])\n",
    "print(df1)\n",
    "print(df2)\n",
    "df_concat = pd.concat([df1, df2], join_axes=[df1.columns])\n",
    "print(df_concat)"
   ]
  },
  {
   "cell_type": "markdown",
   "metadata": {},
   "source": [
    "### Axis"
   ]
  },
  {
   "cell_type": "code",
   "execution_count": 28,
   "metadata": {},
   "outputs": [
    {
     "name": "stdout",
     "output_type": "stream",
     "text": [
      "    A   B\n",
      "0  A0  B0\n",
      "1  A1  B1\n",
      "    B   C\n",
      "0  B0  C0\n",
      "1  B1  C1\n",
      "    A   B   B   C\n",
      "0  A0  B0  B0  C0\n",
      "1  A1  B1  B1  C1\n"
     ]
    }
   ],
   "source": [
    "df1 = pd.DataFrame({\n",
    "        'A': ['A0', 'A1'],\n",
    "        'B': ['B0', 'B1']\n",
    "    })\n",
    "df2 = pd.DataFrame({\n",
    "        'B': ['B0', 'B1'],\n",
    "        'C': ['C0', 'C1']\n",
    "    })\n",
    "print(df1)\n",
    "print(df2)\n",
    "df_concat = pd.concat([df1, df2], axis=1)\n",
    "print(df_concat)"
   ]
  }
 ],
 "metadata": {
  "kernelspec": {
   "display_name": "Python 3",
   "language": "python",
   "name": "python3"
  },
  "language_info": {
   "codemirror_mode": {
    "name": "ipython",
    "version": 3
   },
   "file_extension": ".py",
   "mimetype": "text/x-python",
   "name": "python",
   "nbconvert_exporter": "python",
   "pygments_lexer": "ipython3",
   "version": "3.6.2"
  }
 },
 "nbformat": 4,
 "nbformat_minor": 2
}
