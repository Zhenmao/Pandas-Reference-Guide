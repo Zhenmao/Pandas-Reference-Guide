{
 "cells": [
  {
   "cell_type": "markdown",
   "metadata": {
    "collapsed": true
   },
   "source": [
    "# Working with CSV Files"
   ]
  },
  {
   "cell_type": "code",
   "execution_count": 1,
   "metadata": {
    "collapsed": true
   },
   "outputs": [],
   "source": [
    "import pandas as pd"
   ]
  },
  {
   "cell_type": "markdown",
   "metadata": {},
   "source": [
    "### Reading CSV Files"
   ]
  },
  {
   "cell_type": "code",
   "execution_count": 2,
   "metadata": {},
   "outputs": [
    {
     "name": "stdout",
     "output_type": "stream",
     "text": [
      "Rank,Language,L1 speakers,Total\n",
      "1,Mandarin Chinese,899000000,1051000000\n",
      "2,English,500000000,840000000\n",
      "3,Spanish,500000000,570000000\n",
      "4,Hindi,370000000,490000000\n",
      "5,Arabic,290000000,422000000\n",
      "   Rank          Language  L1 speakers       Total\n",
      "0     1  Mandarin Chinese    899000000  1051000000\n",
      "1     2           English    500000000   840000000\n",
      "2     3           Spanish    500000000   570000000\n",
      "3     4             Hindi    370000000   490000000\n",
      "4     5            Arabic    290000000   422000000\n"
     ]
    }
   ],
   "source": [
    "!cat file1.csv\n",
    "df = pd.read_csv('file1.csv')\n",
    "print(df)"
   ]
  },
  {
   "cell_type": "code",
   "execution_count": 3,
   "metadata": {},
   "outputs": [
    {
     "name": "stdout",
     "output_type": "stream",
     "text": [
      "Rank\tLanguage\tL1 speakers\tTotal\n",
      "1\tMandarin Chinese\t899000000\t1051000000\n",
      "2\tEnglish\t500000000\t840000000\n",
      "3\tSpanish\t500000000\t570000000\n",
      "4\tHindi\t370000000\t490000000\n",
      "5\tArabic\t290000000\t422000000\n",
      "   Rank          Language  L1 speakers       Total\n",
      "0     1  Mandarin Chinese    899000000  1051000000\n",
      "1     2           English    500000000   840000000\n",
      "2     3           Spanish    500000000   570000000\n",
      "3     4             Hindi    370000000   490000000\n",
      "4     5            Arabic    290000000   422000000\n"
     ]
    }
   ],
   "source": [
    "# Tab delimited file\n",
    "!cat file2.txt\n",
    "df = pd.read_csv('file2.txt', sep='\\t')\n",
    "print(df)"
   ]
  },
  {
   "cell_type": "code",
   "execution_count": 4,
   "metadata": {},
   "outputs": [
    {
     "name": "stdout",
     "output_type": "stream",
     "text": [
      "1,Mandarin Chinese,899000000,1051000000\n",
      "2,English,500000000,840000000\n",
      "3,Spanish,500000000,570000000\n",
      "4,Hindi,370000000,490000000\n",
      "5,Arabic,290000000,422000000\n",
      "   0                 1          2           3\n",
      "0  1  Mandarin Chinese  899000000  1051000000\n",
      "1  2           English  500000000   840000000\n",
      "2  3           Spanish  500000000   570000000\n",
      "3  4             Hindi  370000000   490000000\n",
      "4  5            Arabic  290000000   422000000\n"
     ]
    }
   ],
   "source": [
    "# CSV file with no headers\n",
    "!cat file3.csv\n",
    "df = pd.read_csv('file3.csv', header=None)\n",
    "print(df)"
   ]
  },
  {
   "cell_type": "code",
   "execution_count": 5,
   "metadata": {},
   "outputs": [
    {
     "name": "stdout",
     "output_type": "stream",
     "text": [
      "1,Mandarin Chinese,899000000,1051000000\n",
      "2,English,500000000,840000000\n",
      "3,Spanish,500000000,570000000\n",
      "4,Hindi,370000000,490000000\n",
      "5,Arabic,290000000,422000000\n",
      "   Rank          Language  L1 speakers       Total\n",
      "0     1  Mandarin Chinese    899000000  1051000000\n",
      "1     2           English    500000000   840000000\n",
      "2     3           Spanish    500000000   570000000\n",
      "3     4             Hindi    370000000   490000000\n",
      "4     5            Arabic    290000000   422000000\n"
     ]
    }
   ],
   "source": [
    "# Add headers to no header CSV file\n",
    "!cat file3.csv\n",
    "df = pd.read_csv('file3.csv', \n",
    "                 names=['Rank', 'Language', 'L1 speakers', 'Total'])\n",
    "print(df)"
   ]
  },
  {
   "cell_type": "code",
   "execution_count": 6,
   "metadata": {},
   "outputs": [
    {
     "name": "stdout",
     "output_type": "stream",
     "text": [
      "Rank,Language,L1 speakers,Total\n",
      "1,Mandarin Chinese,899000000,1051000000\n",
      "2,English,500000000,840000000\n",
      "3,Spanish,500000000,570000000\n",
      "4,Hindi,370000000,490000000\n",
      "5,Arabic,290000000,422000000\n",
      "              Language  L1 speakers       Total\n",
      "Rank                                           \n",
      "1     Mandarin Chinese    899000000  1051000000\n",
      "2              English    500000000   840000000\n",
      "3              Spanish    500000000   570000000\n",
      "4                Hindi    370000000   490000000\n",
      "5               Arabic    290000000   422000000\n"
     ]
    }
   ],
   "source": [
    "# Set one CSV column as DataFrame index\n",
    "!cat file1.csv\n",
    "df = pd.read_csv('file1.csv', index_col='Rank')\n",
    "print(df)"
   ]
  },
  {
   "cell_type": "code",
   "execution_count": 7,
   "metadata": {},
   "outputs": [
    {
     "name": "stdout",
     "output_type": "stream",
     "text": [
      "Top 5 languages by total number of speakers,,,\n",
      "https://en.wikipedia.org/wiki/List_of_languages_by_total_number_of_speakers,,,\n",
      "Rank,Language,L1 speakers,Total\n",
      "1,Mandarin Chinese,899000000,1051000000\n",
      "2,English,500000000,840000000\n",
      "3,Spanish,500000000,570000000\n",
      "4,Hindi,370000000,490000000\n",
      "5,Arabic,290000000,422000000\n",
      "   Rank          Language  L1 speakers       Total\n",
      "0     1  Mandarin Chinese    899000000  1051000000\n",
      "1     2           English    500000000   840000000\n",
      "2     3           Spanish    500000000   570000000\n",
      "3     4             Hindi    370000000   490000000\n",
      "4     5            Arabic    290000000   422000000\n"
     ]
    }
   ],
   "source": [
    "# Skip rows of CSV file\n",
    "!cat file4.csv\n",
    "df = pd.read_csv('file4.csv', skiprows=2)\n",
    "print(df)"
   ]
  },
  {
   "cell_type": "code",
   "execution_count": 8,
   "metadata": {},
   "outputs": [
    {
     "name": "stdout",
     "output_type": "stream",
     "text": [
      "Rank,Language,L1 speakers,Total\n",
      "1,Mandarin Chinese,N/A,1051000000\n",
      "2,English,NA,840000000\n",
      "3,Spanish,NULL,570000000\n",
      "4,Hindi,N/A,490000000\n",
      "5,Arabic,290000000,422000000\n",
      "   Rank          Language  L1 speakers       Total\n",
      "0     1  Mandarin Chinese          NaN  1051000000\n",
      "1     2           English          NaN   840000000\n",
      "2     3           Spanish          NaN   570000000\n",
      "3     4             Hindi          NaN   490000000\n",
      "4     5            Arabic  290000000.0   422000000\n"
     ]
    }
   ],
   "source": [
    "# CSV with missing values\n",
    "!cat file5.csv\n",
    "df = pd.read_csv('file5.csv')\n",
    "print(df)\n",
    "# By default the following values are interpreted as NaN: \n",
    "#‘’, ‘#N/A’, ‘#N/A N/A’, ‘#NA’, ‘-1.#IND’, ‘-1.#QNAN’, ‘-NaN’, ‘-nan’, \n",
    "#‘1.#IND’, ‘1.#QNAN’, ‘N/A’, ‘NA’, ‘NULL’, ‘NaN’, ‘nan’`."
   ]
  },
  {
   "cell_type": "code",
   "execution_count": 10,
   "metadata": {},
   "outputs": [
    {
     "name": "stdout",
     "output_type": "stream",
     "text": [
      "Rank,Language,L1 speakers,Total\n",
      "1,Mandarin Chinese,899000000,1051000000\n",
      "2,English,500000000,840000000\n",
      "3,Spanish,500000000,570000000\n",
      "4,Hindi,370000000,490000000\n",
      "5,Arabic,290000000,422000000\n",
      "   Rank          Language  L1 speakers       Total\n",
      "0     1  Mandarin Chinese    899000000  1051000000\n",
      "1     2           English    500000000   840000000\n",
      "2     3           Spanish    500000000   570000000\n"
     ]
    }
   ],
   "source": [
    "# Read a small number of rows\n",
    "!cat file1.csv\n",
    "df = pd.read_csv('file1.csv', nrows=3)\n",
    "print(df)"
   ]
  },
  {
   "cell_type": "code",
   "execution_count": 11,
   "metadata": {},
   "outputs": [
    {
     "name": "stdout",
     "output_type": "stream",
     "text": [
      "Rank,Language,L1 speakers,Total\n",
      "1,Mandarin Chinese,899000000,1051000000\n",
      "2,English,500000000,840000000\n",
      "3,Spanish,500000000,570000000\n",
      "4,Hindi,370000000,490000000\n",
      "5,Arabic,290000000,422000000\n",
      "   Rank          Language  L1 speakers       Total\n",
      "0     1  Mandarin Chinese    899000000  1051000000\n",
      "1     2           English    500000000   840000000\n",
      "   Rank Language  L1 speakers      Total\n",
      "2     3  Spanish    500000000  570000000\n",
      "3     4    Hindi    370000000  490000000\n",
      "   Rank Language  L1 speakers      Total\n",
      "4     5   Arabic    290000000  422000000\n"
     ]
    }
   ],
   "source": [
    "# Read in chunks for large CSV files\n",
    "!cat file1.csv\n",
    "reader = pd.read_csv('file1.csv', chunksize=2)\n",
    "for chunck in reader:\n",
    "    print(chunck)\n",
    "# The return value is an iterable TextFileReader object."
   ]
  },
  {
   "cell_type": "markdown",
   "metadata": {},
   "source": [
    "### Writing CSV Files"
   ]
  },
  {
   "cell_type": "code",
   "execution_count": 12,
   "metadata": {},
   "outputs": [
    {
     "name": "stdout",
     "output_type": "stream",
     "text": [
      "   Rank          Language  L1 speakers       Total\n",
      "0     1  Mandarin Chinese    899000000  1051000000\n",
      "1     2           English    500000000   840000000\n",
      "2     3           Spanish    500000000   570000000\n",
      "3     4             Hindi    370000000   490000000\n",
      "4     5            Arabic    290000000   422000000\n",
      ",Rank,Language,L1 speakers,Total\r\n",
      "0,1,Mandarin Chinese,899000000,1051000000\r\n",
      "1,2,English,500000000,840000000\r\n",
      "2,3,Spanish,500000000,570000000\r\n",
      "3,4,Hindi,370000000,490000000\r\n",
      "4,5,Arabic,290000000,422000000\r\n"
     ]
    }
   ],
   "source": [
    "# With DataFrame index\n",
    "df = pd.read_csv('file1.csv')\n",
    "print(df)\n",
    "df.to_csv('file_out1.csv')\n",
    "!cat file_out1.csv"
   ]
  },
  {
   "cell_type": "code",
   "execution_count": 14,
   "metadata": {},
   "outputs": [
    {
     "name": "stdout",
     "output_type": "stream",
     "text": [
      "   Rank          Language  L1 speakers       Total\n",
      "0     1  Mandarin Chinese    899000000  1051000000\n",
      "1     2           English    500000000   840000000\n",
      "2     3           Spanish    500000000   570000000\n",
      "3     4             Hindi    370000000   490000000\n",
      "4     5            Arabic    290000000   422000000\n",
      "Rank,Language,L1 speakers,Total\r\n",
      "1,Mandarin Chinese,899000000,1051000000\r\n",
      "2,English,500000000,840000000\r\n",
      "3,Spanish,500000000,570000000\r\n",
      "4,Hindi,370000000,490000000\r\n",
      "5,Arabic,290000000,422000000\r\n"
     ]
    }
   ],
   "source": [
    "# No DataFrame index\n",
    "df = pd.read_csv('file1.csv')\n",
    "print(df)\n",
    "df.to_csv('file_out2.csv', index=False)\n",
    "!cat file_out2.csv"
   ]
  }
 ],
 "metadata": {
  "kernelspec": {
   "display_name": "Python 3",
   "language": "python",
   "name": "python3"
  },
  "language_info": {
   "codemirror_mode": {
    "name": "ipython",
    "version": 3
   },
   "file_extension": ".py",
   "mimetype": "text/x-python",
   "name": "python",
   "nbconvert_exporter": "python",
   "pygments_lexer": "ipython3",
   "version": "3.6.2"
  }
 },
 "nbformat": 4,
 "nbformat_minor": 2
}
