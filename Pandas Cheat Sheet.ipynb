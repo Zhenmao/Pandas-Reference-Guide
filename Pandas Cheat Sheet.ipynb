{
 "cells": [
  {
   "cell_type": "code",
   "execution_count": 1,
   "metadata": {
    "collapsed": true
   },
   "outputs": [],
   "source": [
    "import pandas as pd\n",
    "import numpy as np"
   ]
  },
  {
   "cell_type": "markdown",
   "metadata": {},
   "source": [
    "### Series Initialization"
   ]
  },
  {
   "cell_type": "code",
   "execution_count": 7,
   "metadata": {},
   "outputs": [
    {
     "name": "stdout",
     "output_type": "stream",
     "text": [
      "0    1\n",
      "1    2\n",
      "2    3\n",
      "dtype: int64\n"
     ]
    }
   ],
   "source": [
    "s = pd.Series([1, 2, 3])\n",
    "print(s)"
   ]
  },
  {
   "cell_type": "code",
   "execution_count": 8,
   "metadata": {},
   "outputs": [
    {
     "name": "stdout",
     "output_type": "stream",
     "text": [
      "a    1\n",
      "b    2\n",
      "c    3\n",
      "dtype: int64\n"
     ]
    }
   ],
   "source": [
    "s = pd.Series([1, 2, 3], index=['a', 'b', 'c'])\n",
    "print(s)"
   ]
  },
  {
   "cell_type": "code",
   "execution_count": 9,
   "metadata": {},
   "outputs": [
    {
     "name": "stdout",
     "output_type": "stream",
     "text": [
      "a    1\n",
      "b    2\n",
      "c    3\n",
      "dtype: int64\n"
     ]
    }
   ],
   "source": [
    "s = pd.Series({'a': 1, 'b': 2, 'c': 3})\n",
    "print(s)"
   ]
  },
  {
   "cell_type": "markdown",
   "metadata": {},
   "source": [
    "### Series Adding/Deleting an Element"
   ]
  },
  {
   "cell_type": "code",
   "execution_count": 10,
   "metadata": {},
   "outputs": [
    {
     "name": "stdout",
     "output_type": "stream",
     "text": [
      "a    1\n",
      "b    2\n",
      "c    3\n",
      "dtype: int64\n",
      "a    1\n",
      "b    2\n",
      "c    3\n",
      "d    4\n",
      "dtype: int64\n"
     ]
    }
   ],
   "source": [
    "s = pd.Series([1, 2, 3], index=['a', 'b', 'c'])\n",
    "print(s)\n",
    "s['d'] = 4 # Add an element\n",
    "print(s)"
   ]
  },
  {
   "cell_type": "code",
   "execution_count": 11,
   "metadata": {},
   "outputs": [
    {
     "name": "stdout",
     "output_type": "stream",
     "text": [
      "a    1\n",
      "b    2\n",
      "c    3\n",
      "dtype: int64\n",
      "a    1\n",
      "b    2\n",
      "dtype: int64\n"
     ]
    }
   ],
   "source": [
    "s = pd.Series([1, 2, 3], index=['a', 'b', 'c'])\n",
    "print(s)\n",
    "del s['c'] # Delete an element\n",
    "print(s)"
   ]
  },
  {
   "cell_type": "markdown",
   "metadata": {},
   "source": [
    "### Series Drop Element(s) "
   ]
  },
  {
   "cell_type": "code",
   "execution_count": 47,
   "metadata": {},
   "outputs": [
    {
     "name": "stdout",
     "output_type": "stream",
     "text": [
      "a    1\n",
      "b    2\n",
      "c    3\n",
      "dtype: int64\n",
      "a    1\n",
      "dtype: int64\n"
     ]
    }
   ],
   "source": [
    "s = pd.Series([1, 2, 3], index=['a', 'b', 'c'])\n",
    "print(s)\n",
    "s_dropped = s.drop(['b', 'c'])\n",
    "print(s_dropped)"
   ]
  },
  {
   "cell_type": "markdown",
   "metadata": {},
   "source": [
    "### Series Index and Values"
   ]
  },
  {
   "cell_type": "code",
   "execution_count": 17,
   "metadata": {},
   "outputs": [
    {
     "name": "stdout",
     "output_type": "stream",
     "text": [
      "a    1\n",
      "b    2\n",
      "c    3\n",
      "dtype: int64\n",
      "Index(['a', 'b', 'c'], dtype='object')\n",
      "['a' 'b' 'c']\n"
     ]
    }
   ],
   "source": [
    "s = pd.Series([1, 2, 3], index=['a', 'b', 'c'])\n",
    "print(s)\n",
    "print(s.index) # Series index\n",
    "print(s.index.values)"
   ]
  },
  {
   "cell_type": "code",
   "execution_count": 15,
   "metadata": {},
   "outputs": [
    {
     "name": "stdout",
     "output_type": "stream",
     "text": [
      "a    1\n",
      "b    2\n",
      "c    3\n",
      "dtype: int64\n",
      "[1 2 3]\n"
     ]
    }
   ],
   "source": [
    "s = pd.Series([1, 2, 3], index=['a', 'b', 'c'])\n",
    "print(s)\n",
    "print(s.values) # Series values"
   ]
  },
  {
   "cell_type": "markdown",
   "metadata": {},
   "source": [
    "### Series Reindexing"
   ]
  },
  {
   "cell_type": "code",
   "execution_count": 44,
   "metadata": {},
   "outputs": [
    {
     "name": "stdout",
     "output_type": "stream",
     "text": [
      "a    1\n",
      "b    2\n",
      "c    3\n",
      "dtype: int64\n",
      "d    0\n",
      "c    3\n",
      "b    2\n",
      "a    1\n",
      "dtype: int64\n"
     ]
    }
   ],
   "source": [
    "s = pd.Series([1, 2, 3], index=['a', 'b', 'c'])\n",
    "print(s)\n",
    "s_reindexed = s.reindex(['d', 'c', 'b', 'a'], fill_value=0)\n",
    "print(s_reindexed)"
   ]
  },
  {
   "cell_type": "markdown",
   "metadata": {},
   "source": [
    "### DataFrame Initialization"
   ]
  },
  {
   "cell_type": "code",
   "execution_count": 20,
   "metadata": {},
   "outputs": [
    {
     "name": "stdout",
     "output_type": "stream",
     "text": [
      "   col_0  col_1\n",
      "0      0      1\n",
      "1     10     11\n",
      "2     20     21\n"
     ]
    }
   ],
   "source": [
    "df = pd.DataFrame({\n",
    "        'col_0': [0, 10, 20],\n",
    "        'col_1': [1, 11, 21]\n",
    "    })\n",
    "print(df)"
   ]
  },
  {
   "cell_type": "code",
   "execution_count": 22,
   "metadata": {},
   "outputs": [
    {
     "name": "stdout",
     "output_type": "stream",
     "text": [
      "       col_0  col_1\n",
      "row_0      0      1\n",
      "row_1     10     11\n",
      "row_2     20     21\n"
     ]
    }
   ],
   "source": [
    "df = pd.DataFrame({\n",
    "        'col_0': [0, 10, 20],\n",
    "        'col_1': [1, 11, 21]\n",
    "    }, index = ['row_0', 'row_1', 'row_2'])\n",
    "print(df)"
   ]
  },
  {
   "cell_type": "code",
   "execution_count": 23,
   "metadata": {},
   "outputs": [
    {
     "name": "stdout",
     "output_type": "stream",
     "text": [
      "       col_0  col_1\n",
      "row_0      0      1\n",
      "row_1     10     11\n",
      "row_2     20     21\n"
     ]
    }
   ],
   "source": [
    "df = pd.DataFrame({\n",
    "        'col_0': {'row_0': 0, 'row_1': 10, 'row_2': 20},\n",
    "        'col_1': {'row_0': 1, 'row_1': 11, 'row_2': 21}\n",
    "    })\n",
    "print(df)"
   ]
  },
  {
   "cell_type": "markdown",
   "metadata": {},
   "source": [
    "### DataFrame Adding/Deleting a Column"
   ]
  },
  {
   "cell_type": "code",
   "execution_count": 24,
   "metadata": {},
   "outputs": [
    {
     "name": "stdout",
     "output_type": "stream",
     "text": [
      "       col_0  col_1\n",
      "row_0      0      1\n",
      "row_1     10     11\n",
      "row_2     20     21\n",
      "       col_0  col_1  col_2\n",
      "row_0      0      1      2\n",
      "row_1     10     11     21\n",
      "row_2     20     21     22\n"
     ]
    }
   ],
   "source": [
    "df = pd.DataFrame({\n",
    "        'col_0': [0, 10, 20],\n",
    "        'col_1': [1, 11, 21]\n",
    "    }, index = ['row_0', 'row_1', 'row_2'])\n",
    "print(df)\n",
    "df['col_2'] = [2, 21, 22] # Add a column\n",
    "print(df)"
   ]
  },
  {
   "cell_type": "code",
   "execution_count": 25,
   "metadata": {},
   "outputs": [
    {
     "name": "stdout",
     "output_type": "stream",
     "text": [
      "       col_0  col_1\n",
      "row_0      0      1\n",
      "row_1     10     11\n",
      "row_2     20     21\n",
      "       col_0\n",
      "row_0      0\n",
      "row_1     10\n",
      "row_2     20\n"
     ]
    }
   ],
   "source": [
    "df = pd.DataFrame({\n",
    "        'col_0': [0, 10, 20],\n",
    "        'col_1': [1, 11, 21]\n",
    "    }, index = ['row_0', 'row_1', 'row_2'])\n",
    "print(df)\n",
    "del df['col_1'] # Delete a column\n",
    "print(df)"
   ]
  },
  {
   "cell_type": "markdown",
   "metadata": {},
   "source": [
    "### DataFrame Index, Columns and Values"
   ]
  },
  {
   "cell_type": "code",
   "execution_count": 35,
   "metadata": {
    "scrolled": false
   },
   "outputs": [
    {
     "name": "stdout",
     "output_type": "stream",
     "text": [
      "       col_0  col_1\n",
      "row_0      0      1\n",
      "row_1     10     11\n",
      "row_2     20     21\n",
      "Index(['row_0', 'row_1', 'row_2'], dtype='object')\n",
      "['row_0' 'row_1' 'row_2']\n"
     ]
    }
   ],
   "source": [
    "df = pd.DataFrame({\n",
    "        'col_0': [0, 10, 20],\n",
    "        'col_1': [1, 11, 21]\n",
    "    }, index = ['row_0', 'row_1', 'row_2'])\n",
    "print(df)\n",
    "print(df.index) # DataFrame index\n",
    "print(df.index.values)"
   ]
  },
  {
   "cell_type": "code",
   "execution_count": 38,
   "metadata": {},
   "outputs": [
    {
     "name": "stdout",
     "output_type": "stream",
     "text": [
      "       col_0  col_1\n",
      "row_0      0      1\n",
      "row_1     10     11\n",
      "row_2     20     21\n",
      "Index(['col_0', 'col_1'], dtype='object')\n",
      "['col_0' 'col_1']\n"
     ]
    }
   ],
   "source": [
    "df = pd.DataFrame({\n",
    "        'col_0': [0, 10, 20],\n",
    "        'col_1': [1, 11, 21]\n",
    "    }, index = ['row_0', 'row_1', 'row_2'])\n",
    "print(df)\n",
    "print(df.columns) # DataFrame columns\n",
    "print(df.columns.values)"
   ]
  },
  {
   "cell_type": "code",
   "execution_count": 36,
   "metadata": {},
   "outputs": [
    {
     "name": "stdout",
     "output_type": "stream",
     "text": [
      "       col_0  col_1\n",
      "row_0      0      1\n",
      "row_1     10     11\n",
      "row_2     20     21\n",
      "[[ 0  1]\n",
      " [10 11]\n",
      " [20 21]]\n"
     ]
    }
   ],
   "source": [
    "df = pd.DataFrame({\n",
    "        'col_0': [0, 10, 20],\n",
    "        'col_1': [1, 11, 21]\n",
    "    }, index = ['row_0', 'row_1', 'row_2'])\n",
    "print(df)\n",
    "print(df.values) # DataFrame values"
   ]
  },
  {
   "cell_type": "markdown",
   "metadata": {},
   "source": [
    "### DataFrame Transpose"
   ]
  },
  {
   "cell_type": "code",
   "execution_count": 41,
   "metadata": {},
   "outputs": [
    {
     "name": "stdout",
     "output_type": "stream",
     "text": [
      "       col_0  col_1\n",
      "row_0      0      1\n",
      "row_1     10     11\n",
      "row_2     20     21\n",
      "       row_0  row_1  row_2\n",
      "col_0      0     10     20\n",
      "col_1      1     11     21\n"
     ]
    }
   ],
   "source": [
    "df = pd.DataFrame({\n",
    "        'col_0': [0, 10, 20],\n",
    "        'col_1': [1, 11, 21]\n",
    "    }, index = ['row_0', 'row_1', 'row_2'])\n",
    "print(df)\n",
    "print(df.T) # DataFrame transpose"
   ]
  },
  {
   "cell_type": "markdown",
   "metadata": {},
   "source": [
    "### DataFrame Reindexing"
   ]
  },
  {
   "cell_type": "code",
   "execution_count": 45,
   "metadata": {},
   "outputs": [
    {
     "name": "stdout",
     "output_type": "stream",
     "text": [
      "       col_0  col_1\n",
      "row_0      0      1\n",
      "row_1     10     11\n",
      "row_2     20     21\n",
      "       col_0  col_1\n",
      "row_2     20     21\n",
      "row_1     10     11\n",
      "row_0      0      1\n"
     ]
    }
   ],
   "source": [
    "df = pd.DataFrame({\n",
    "        'col_0': [0, 10, 20],\n",
    "        'col_1': [1, 11, 21]\n",
    "    }, index = ['row_0', 'row_1', 'row_2'])\n",
    "print(df)\n",
    "df_reindexed = df.reindex(index=['row_2', 'row_1', 'row_0'])\n",
    "print(df_reindexed)"
   ]
  },
  {
   "cell_type": "code",
   "execution_count": 46,
   "metadata": {},
   "outputs": [
    {
     "name": "stdout",
     "output_type": "stream",
     "text": [
      "       col_0  col_1\n",
      "row_0      0      1\n",
      "row_1     10     11\n",
      "row_2     20     21\n",
      "       col_1  col_0\n",
      "row_0      1      0\n",
      "row_1     11     10\n",
      "row_2     21     20\n"
     ]
    }
   ],
   "source": [
    "df = pd.DataFrame({\n",
    "        'col_0': [0, 10, 20],\n",
    "        'col_1': [1, 11, 21]\n",
    "    }, index = ['row_0', 'row_1', 'row_2'])\n",
    "print(df)\n",
    "df_reindexed = df.reindex(columns=['col_1', 'col_0'])\n",
    "print(df_reindexed)"
   ]
  },
  {
   "cell_type": "markdown",
   "metadata": {},
   "source": [
    "### DataFrame Drop Entries"
   ]
  },
  {
   "cell_type": "code",
   "execution_count": 48,
   "metadata": {},
   "outputs": [
    {
     "name": "stdout",
     "output_type": "stream",
     "text": [
      "       col_0  col_1\n",
      "row_0      0      1\n",
      "row_1     10     11\n",
      "row_2     20     21\n",
      "       col_0  col_1\n",
      "row_2     20     21\n"
     ]
    }
   ],
   "source": [
    "df = pd.DataFrame({\n",
    "        'col_0': [0, 10, 20],\n",
    "        'col_1': [1, 11, 21]\n",
    "    }, index = ['row_0', 'row_1', 'row_2'])\n",
    "print(df)\n",
    "df_dropped = df.drop(['row_0', 'row_1']) # DataFrame drop row(s)\n",
    "print(df_dropped)"
   ]
  },
  {
   "cell_type": "code",
   "execution_count": 49,
   "metadata": {},
   "outputs": [
    {
     "name": "stdout",
     "output_type": "stream",
     "text": [
      "       col_0  col_1\n",
      "row_0      0      1\n",
      "row_1     10     11\n",
      "row_2     20     21\n",
      "       col_0\n",
      "row_0      0\n",
      "row_1     10\n",
      "row_2     20\n"
     ]
    }
   ],
   "source": [
    "df = pd.DataFrame({\n",
    "        'col_0': [0, 10, 20],\n",
    "        'col_1': [1, 11, 21]\n",
    "    }, index = ['row_0', 'row_1', 'row_2'])\n",
    "print(df)\n",
    "df_dropped = df.drop('col_1', axis=1) # DataFrame drop column(s)\n",
    "print(df_dropped)"
   ]
  },
  {
   "cell_type": "code",
   "execution_count": null,
   "metadata": {
    "collapsed": true
   },
   "outputs": [],
   "source": []
  }
 ],
 "metadata": {
  "kernelspec": {
   "display_name": "Python 3",
   "language": "python",
   "name": "python3"
  },
  "language_info": {
   "codemirror_mode": {
    "name": "ipython",
    "version": 3
   },
   "file_extension": ".py",
   "mimetype": "text/x-python",
   "name": "python",
   "nbconvert_exporter": "python",
   "pygments_lexer": "ipython3",
   "version": "3.6.2"
  }
 },
 "nbformat": 4,
 "nbformat_minor": 2
}
