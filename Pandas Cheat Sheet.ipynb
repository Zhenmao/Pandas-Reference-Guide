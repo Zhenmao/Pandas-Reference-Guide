{
 "cells": [
  {
   "cell_type": "code",
   "execution_count": 1,
   "metadata": {
    "collapsed": true
   },
   "outputs": [],
   "source": [
    "import pandas as pd\n",
    "import numpy as np"
   ]
  },
  {
   "cell_type": "markdown",
   "metadata": {},
   "source": [
    "### Series Initialization"
   ]
  },
  {
   "cell_type": "code",
   "execution_count": 7,
   "metadata": {},
   "outputs": [
    {
     "name": "stdout",
     "output_type": "stream",
     "text": [
      "0    1\n",
      "1    2\n",
      "2    3\n",
      "dtype: int64\n"
     ]
    }
   ],
   "source": [
    "s = pd.Series([1, 2, 3])\n",
    "print(s)"
   ]
  },
  {
   "cell_type": "code",
   "execution_count": 8,
   "metadata": {},
   "outputs": [
    {
     "name": "stdout",
     "output_type": "stream",
     "text": [
      "a    1\n",
      "b    2\n",
      "c    3\n",
      "dtype: int64\n"
     ]
    }
   ],
   "source": [
    "s = pd.Series([1, 2, 3], index=['a', 'b', 'c'])\n",
    "print(s)"
   ]
  },
  {
   "cell_type": "code",
   "execution_count": 9,
   "metadata": {},
   "outputs": [
    {
     "name": "stdout",
     "output_type": "stream",
     "text": [
      "a    1\n",
      "b    2\n",
      "c    3\n",
      "dtype: int64\n"
     ]
    }
   ],
   "source": [
    "s = pd.Series({'a': 1, 'b': 2, 'c': 3})\n",
    "print(s)"
   ]
  },
  {
   "cell_type": "markdown",
   "metadata": {},
   "source": [
    "### Series Adding/Deleting an Element"
   ]
  },
  {
   "cell_type": "code",
   "execution_count": 10,
   "metadata": {},
   "outputs": [
    {
     "name": "stdout",
     "output_type": "stream",
     "text": [
      "a    1\n",
      "b    2\n",
      "c    3\n",
      "dtype: int64\n",
      "a    1\n",
      "b    2\n",
      "c    3\n",
      "d    4\n",
      "dtype: int64\n"
     ]
    }
   ],
   "source": [
    "# Add an element\n",
    "s = pd.Series([1, 2, 3], index=['a', 'b', 'c'])\n",
    "print(s)\n",
    "s['d'] = 4\n",
    "print(s)"
   ]
  },
  {
   "cell_type": "code",
   "execution_count": 11,
   "metadata": {},
   "outputs": [
    {
     "name": "stdout",
     "output_type": "stream",
     "text": [
      "a    1\n",
      "b    2\n",
      "c    3\n",
      "dtype: int64\n",
      "a    1\n",
      "b    2\n",
      "dtype: int64\n"
     ]
    }
   ],
   "source": [
    "# Delete an element\n",
    "s = pd.Series([1, 2, 3], index=['a', 'b', 'c'])\n",
    "print(s)\n",
    "del s['c']\n",
    "print(s)"
   ]
  },
  {
   "cell_type": "markdown",
   "metadata": {},
   "source": [
    "### Series Drop Element(s) "
   ]
  },
  {
   "cell_type": "code",
   "execution_count": 47,
   "metadata": {},
   "outputs": [
    {
     "name": "stdout",
     "output_type": "stream",
     "text": [
      "a    1\n",
      "b    2\n",
      "c    3\n",
      "dtype: int64\n",
      "a    1\n",
      "dtype: int64\n"
     ]
    }
   ],
   "source": [
    "s = pd.Series([1, 2, 3], index=['a', 'b', 'c'])\n",
    "print(s)\n",
    "s_dropped = s.drop(['b', 'c'])\n",
    "print(s_dropped)"
   ]
  },
  {
   "cell_type": "markdown",
   "metadata": {},
   "source": [
    "### Series Index and Values"
   ]
  },
  {
   "cell_type": "code",
   "execution_count": 17,
   "metadata": {},
   "outputs": [
    {
     "name": "stdout",
     "output_type": "stream",
     "text": [
      "a    1\n",
      "b    2\n",
      "c    3\n",
      "dtype: int64\n",
      "Index(['a', 'b', 'c'], dtype='object')\n",
      "['a' 'b' 'c']\n"
     ]
    }
   ],
   "source": [
    "# Series index\n",
    "s = pd.Series([1, 2, 3], index=['a', 'b', 'c'])\n",
    "print(s)\n",
    "print(s.index)\n",
    "print(s.index.values)"
   ]
  },
  {
   "cell_type": "code",
   "execution_count": 15,
   "metadata": {},
   "outputs": [
    {
     "name": "stdout",
     "output_type": "stream",
     "text": [
      "a    1\n",
      "b    2\n",
      "c    3\n",
      "dtype: int64\n",
      "[1 2 3]\n"
     ]
    }
   ],
   "source": [
    "# Series values\n",
    "s = pd.Series([1, 2, 3], index=['a', 'b', 'c'])\n",
    "print(s)\n",
    "print(s.values)"
   ]
  },
  {
   "cell_type": "markdown",
   "metadata": {},
   "source": [
    "### Series Reindexing"
   ]
  },
  {
   "cell_type": "code",
   "execution_count": 44,
   "metadata": {},
   "outputs": [
    {
     "name": "stdout",
     "output_type": "stream",
     "text": [
      "a    1\n",
      "b    2\n",
      "c    3\n",
      "dtype: int64\n",
      "d    0\n",
      "c    3\n",
      "b    2\n",
      "a    1\n",
      "dtype: int64\n"
     ]
    }
   ],
   "source": [
    "s = pd.Series([1, 2, 3], index=['a', 'b', 'c'])\n",
    "print(s)\n",
    "s_reindexed = s.reindex(['d', 'c', 'b', 'a'], fill_value=0)\n",
    "print(s_reindexed)"
   ]
  },
  {
   "cell_type": "markdown",
   "metadata": {},
   "source": [
    "### Series Indexing and Selecting"
   ]
  },
  {
   "cell_type": "markdown",
   "metadata": {},
   "source": [
    "#### Label"
   ]
  },
  {
   "cell_type": "code",
   "execution_count": 50,
   "metadata": {},
   "outputs": [
    {
     "name": "stdout",
     "output_type": "stream",
     "text": [
      "a    1\n",
      "b    2\n",
      "c    3\n",
      "dtype: int64\n",
      "1\n"
     ]
    }
   ],
   "source": [
    "s = pd.Series([1, 2, 3], index=['a', 'b', 'c'])\n",
    "print(s)\n",
    "print(s['a'])"
   ]
  },
  {
   "cell_type": "code",
   "execution_count": 52,
   "metadata": {},
   "outputs": [
    {
     "name": "stdout",
     "output_type": "stream",
     "text": [
      "a    1\n",
      "b    2\n",
      "c    3\n",
      "dtype: int64\n",
      "a    1\n",
      "b    2\n",
      "dtype: int64\n"
     ]
    }
   ],
   "source": [
    "s = pd.Series([1, 2, 3], index=['a', 'b', 'c'])\n",
    "print(s)\n",
    "print(s['a':'b']) # Slicing with label, the endpoint is included"
   ]
  },
  {
   "cell_type": "markdown",
   "metadata": {},
   "source": [
    "#### Position"
   ]
  },
  {
   "cell_type": "code",
   "execution_count": 51,
   "metadata": {},
   "outputs": [
    {
     "name": "stdout",
     "output_type": "stream",
     "text": [
      "a    1\n",
      "b    2\n",
      "c    3\n",
      "dtype: int64\n",
      "1\n"
     ]
    }
   ],
   "source": [
    "s = pd.Series([1, 2, 3], index=['a', 'b', 'c'])\n",
    "print(s)\n",
    "print(s[0])"
   ]
  },
  {
   "cell_type": "code",
   "execution_count": 53,
   "metadata": {},
   "outputs": [
    {
     "name": "stdout",
     "output_type": "stream",
     "text": [
      "a    1\n",
      "b    2\n",
      "c    3\n",
      "dtype: int64\n",
      "a    1\n",
      "dtype: int64\n"
     ]
    }
   ],
   "source": [
    "s = pd.Series([1, 2, 3], index=['a', 'b', 'c'])\n",
    "print(s)\n",
    "print(s[:1]) # Slicing with position, the endpoint is excluded"
   ]
  },
  {
   "cell_type": "markdown",
   "metadata": {},
   "source": [
    "### Series Applying Function"
   ]
  },
  {
   "cell_type": "code",
   "execution_count": 88,
   "metadata": {},
   "outputs": [
    {
     "name": "stdout",
     "output_type": "stream",
     "text": [
      "a    1\n",
      "b    2\n",
      "c    3\n",
      "dtype: int64\n",
      "a    1\n",
      "b    4\n",
      "c    9\n",
      "dtype: int64\n"
     ]
    }
   ],
   "source": [
    "# Series elementwise function application\n",
    "s = pd.Series([1, 2, 3], index=['a', 'b', 'c'])\n",
    "print(s)\n",
    "print(s.map(np.square))"
   ]
  },
  {
   "cell_type": "markdown",
   "metadata": {},
   "source": [
    "### DataFrame Initialization"
   ]
  },
  {
   "cell_type": "code",
   "execution_count": 20,
   "metadata": {},
   "outputs": [
    {
     "name": "stdout",
     "output_type": "stream",
     "text": [
      "   col_0  col_1\n",
      "0      0      1\n",
      "1     10     11\n",
      "2     20     21\n"
     ]
    }
   ],
   "source": [
    "df = pd.DataFrame({\n",
    "        'col_0': [0, 10, 20],\n",
    "        'col_1': [1, 11, 21]\n",
    "    })\n",
    "print(df)"
   ]
  },
  {
   "cell_type": "code",
   "execution_count": 22,
   "metadata": {},
   "outputs": [
    {
     "name": "stdout",
     "output_type": "stream",
     "text": [
      "       col_0  col_1\n",
      "row_0      0      1\n",
      "row_1     10     11\n",
      "row_2     20     21\n"
     ]
    }
   ],
   "source": [
    "df = pd.DataFrame({\n",
    "        'col_0': [0, 10, 20],\n",
    "        'col_1': [1, 11, 21]\n",
    "    }, index = ['row_0', 'row_1', 'row_2'])\n",
    "print(df)"
   ]
  },
  {
   "cell_type": "code",
   "execution_count": 23,
   "metadata": {},
   "outputs": [
    {
     "name": "stdout",
     "output_type": "stream",
     "text": [
      "       col_0  col_1\n",
      "row_0      0      1\n",
      "row_1     10     11\n",
      "row_2     20     21\n"
     ]
    }
   ],
   "source": [
    "df = pd.DataFrame({\n",
    "        'col_0': {'row_0': 0, 'row_1': 10, 'row_2': 20},\n",
    "        'col_1': {'row_0': 1, 'row_1': 11, 'row_2': 21}\n",
    "    })\n",
    "print(df)"
   ]
  },
  {
   "cell_type": "markdown",
   "metadata": {},
   "source": [
    "### DataFrame Adding/Deleting a Column"
   ]
  },
  {
   "cell_type": "code",
   "execution_count": 24,
   "metadata": {},
   "outputs": [
    {
     "name": "stdout",
     "output_type": "stream",
     "text": [
      "       col_0  col_1\n",
      "row_0      0      1\n",
      "row_1     10     11\n",
      "row_2     20     21\n",
      "       col_0  col_1  col_2\n",
      "row_0      0      1      2\n",
      "row_1     10     11     21\n",
      "row_2     20     21     22\n"
     ]
    }
   ],
   "source": [
    "# Add a column\n",
    "df = pd.DataFrame({\n",
    "        'col_0': [0, 10, 20],\n",
    "        'col_1': [1, 11, 21]\n",
    "    }, index = ['row_0', 'row_1', 'row_2'])\n",
    "print(df)\n",
    "df['col_2'] = [2, 21, 22]\n",
    "print(df)"
   ]
  },
  {
   "cell_type": "code",
   "execution_count": 25,
   "metadata": {},
   "outputs": [
    {
     "name": "stdout",
     "output_type": "stream",
     "text": [
      "       col_0  col_1\n",
      "row_0      0      1\n",
      "row_1     10     11\n",
      "row_2     20     21\n",
      "       col_0\n",
      "row_0      0\n",
      "row_1     10\n",
      "row_2     20\n"
     ]
    }
   ],
   "source": [
    "# Delete a column\n",
    "df = pd.DataFrame({\n",
    "        'col_0': [0, 10, 20],\n",
    "        'col_1': [1, 11, 21]\n",
    "    }, index = ['row_0', 'row_1', 'row_2'])\n",
    "print(df)\n",
    "del df['col_1']\n",
    "print(df)"
   ]
  },
  {
   "cell_type": "markdown",
   "metadata": {},
   "source": [
    "### DataFrame Index, Columns and Values"
   ]
  },
  {
   "cell_type": "code",
   "execution_count": 35,
   "metadata": {
    "scrolled": false
   },
   "outputs": [
    {
     "name": "stdout",
     "output_type": "stream",
     "text": [
      "       col_0  col_1\n",
      "row_0      0      1\n",
      "row_1     10     11\n",
      "row_2     20     21\n",
      "Index(['row_0', 'row_1', 'row_2'], dtype='object')\n",
      "['row_0' 'row_1' 'row_2']\n"
     ]
    }
   ],
   "source": [
    "# DataFrame index\n",
    "df = pd.DataFrame({\n",
    "        'col_0': [0, 10, 20],\n",
    "        'col_1': [1, 11, 21]\n",
    "    }, index = ['row_0', 'row_1', 'row_2'])\n",
    "print(df)\n",
    "print(df.index)\n",
    "print(df.index.values)"
   ]
  },
  {
   "cell_type": "code",
   "execution_count": 38,
   "metadata": {},
   "outputs": [
    {
     "name": "stdout",
     "output_type": "stream",
     "text": [
      "       col_0  col_1\n",
      "row_0      0      1\n",
      "row_1     10     11\n",
      "row_2     20     21\n",
      "Index(['col_0', 'col_1'], dtype='object')\n",
      "['col_0' 'col_1']\n"
     ]
    }
   ],
   "source": [
    "# DataFrame columns\n",
    "df = pd.DataFrame({\n",
    "        'col_0': [0, 10, 20],\n",
    "        'col_1': [1, 11, 21]\n",
    "    }, index = ['row_0', 'row_1', 'row_2'])\n",
    "print(df)\n",
    "print(df.columns)\n",
    "print(df.columns.values)"
   ]
  },
  {
   "cell_type": "code",
   "execution_count": 36,
   "metadata": {},
   "outputs": [
    {
     "name": "stdout",
     "output_type": "stream",
     "text": [
      "       col_0  col_1\n",
      "row_0      0      1\n",
      "row_1     10     11\n",
      "row_2     20     21\n",
      "[[ 0  1]\n",
      " [10 11]\n",
      " [20 21]]\n"
     ]
    }
   ],
   "source": [
    "# DataFrame values\n",
    "df = pd.DataFrame({\n",
    "        'col_0': [0, 10, 20],\n",
    "        'col_1': [1, 11, 21]\n",
    "    }, index = ['row_0', 'row_1', 'row_2'])\n",
    "print(df)\n",
    "print(df.values)"
   ]
  },
  {
   "cell_type": "markdown",
   "metadata": {},
   "source": [
    "### DataFrame Transpose"
   ]
  },
  {
   "cell_type": "code",
   "execution_count": 41,
   "metadata": {},
   "outputs": [
    {
     "name": "stdout",
     "output_type": "stream",
     "text": [
      "       col_0  col_1\n",
      "row_0      0      1\n",
      "row_1     10     11\n",
      "row_2     20     21\n",
      "       row_0  row_1  row_2\n",
      "col_0      0     10     20\n",
      "col_1      1     11     21\n"
     ]
    }
   ],
   "source": [
    "df = pd.DataFrame({\n",
    "        'col_0': [0, 10, 20],\n",
    "        'col_1': [1, 11, 21]\n",
    "    }, index = ['row_0', 'row_1', 'row_2'])\n",
    "print(df)\n",
    "print(df.T)"
   ]
  },
  {
   "cell_type": "markdown",
   "metadata": {},
   "source": [
    "### DataFrame Reindexing"
   ]
  },
  {
   "cell_type": "code",
   "execution_count": 45,
   "metadata": {},
   "outputs": [
    {
     "name": "stdout",
     "output_type": "stream",
     "text": [
      "       col_0  col_1\n",
      "row_0      0      1\n",
      "row_1     10     11\n",
      "row_2     20     21\n",
      "       col_0  col_1\n",
      "row_2     20     21\n",
      "row_1     10     11\n",
      "row_0      0      1\n"
     ]
    }
   ],
   "source": [
    "# Reindex rows\n",
    "df = pd.DataFrame({\n",
    "        'col_0': [0, 10, 20],\n",
    "        'col_1': [1, 11, 21]\n",
    "    }, index = ['row_0', 'row_1', 'row_2'])\n",
    "print(df)\n",
    "df_reindexed = df.reindex(index=['row_2', 'row_1', 'row_0'])\n",
    "print(df_reindexed)"
   ]
  },
  {
   "cell_type": "code",
   "execution_count": 46,
   "metadata": {},
   "outputs": [
    {
     "name": "stdout",
     "output_type": "stream",
     "text": [
      "       col_0  col_1\n",
      "row_0      0      1\n",
      "row_1     10     11\n",
      "row_2     20     21\n",
      "       col_1  col_0\n",
      "row_0      1      0\n",
      "row_1     11     10\n",
      "row_2     21     20\n"
     ]
    }
   ],
   "source": [
    "# Reindex columns\n",
    "df = pd.DataFrame({\n",
    "        'col_0': [0, 10, 20],\n",
    "        'col_1': [1, 11, 21]\n",
    "    }, index = ['row_0', 'row_1', 'row_2'])\n",
    "print(df)\n",
    "df_reindexed = df.reindex(columns=['col_1', 'col_0'])\n",
    "print(df_reindexed)"
   ]
  },
  {
   "cell_type": "markdown",
   "metadata": {},
   "source": [
    "### DataFrame Drop Entries"
   ]
  },
  {
   "cell_type": "code",
   "execution_count": 48,
   "metadata": {},
   "outputs": [
    {
     "name": "stdout",
     "output_type": "stream",
     "text": [
      "       col_0  col_1\n",
      "row_0      0      1\n",
      "row_1     10     11\n",
      "row_2     20     21\n",
      "       col_0  col_1\n",
      "row_2     20     21\n"
     ]
    }
   ],
   "source": [
    "# Drop rows\n",
    "df = pd.DataFrame({\n",
    "        'col_0': [0, 10, 20],\n",
    "        'col_1': [1, 11, 21]\n",
    "    }, index = ['row_0', 'row_1', 'row_2'])\n",
    "print(df)\n",
    "df_dropped = df.drop(['row_0', 'row_1'])\n",
    "print(df_dropped)"
   ]
  },
  {
   "cell_type": "code",
   "execution_count": 49,
   "metadata": {},
   "outputs": [
    {
     "name": "stdout",
     "output_type": "stream",
     "text": [
      "       col_0  col_1\n",
      "row_0      0      1\n",
      "row_1     10     11\n",
      "row_2     20     21\n",
      "       col_0\n",
      "row_0      0\n",
      "row_1     10\n",
      "row_2     20\n"
     ]
    }
   ],
   "source": [
    "# Drop columns\n",
    "df = pd.DataFrame({\n",
    "        'col_0': [0, 10, 20],\n",
    "        'col_1': [1, 11, 21]\n",
    "    }, index = ['row_0', 'row_1', 'row_2'])\n",
    "print(df)\n",
    "df_dropped = df.drop('col_1', axis=1)"
   ]
  },
  {
   "cell_type": "markdown",
   "metadata": {},
   "source": [
    "### DataFrame Indexing and Selecting"
   ]
  },
  {
   "cell_type": "markdown",
   "metadata": {},
   "source": [
    "#### Label with .loc"
   ]
  },
  {
   "cell_type": "code",
   "execution_count": 60,
   "metadata": {},
   "outputs": [
    {
     "name": "stdout",
     "output_type": "stream",
     "text": [
      "       col_0  col_1\n",
      "row_0      0      1\n",
      "row_1     10     11\n",
      "row_2     20     21\n",
      "row_0     0\n",
      "row_1    10\n",
      "row_2    20\n",
      "Name: col_0, dtype: int64\n"
     ]
    }
   ],
   "source": [
    "# df.loc[:, col_label] selects columns\n",
    "df = pd.DataFrame({\n",
    "        'col_0': [0, 10, 20],\n",
    "        'col_1': [1, 11, 21]\n",
    "    }, index = ['row_0', 'row_1', 'row_2'])\n",
    "print(df)\n",
    "print(df.loc[:, 'col_0']) "
   ]
  },
  {
   "cell_type": "code",
   "execution_count": 62,
   "metadata": {},
   "outputs": [
    {
     "name": "stdout",
     "output_type": "stream",
     "text": [
      "       col_0  col_1\n",
      "row_0      0      1\n",
      "row_1     10     11\n",
      "row_2     20     21\n",
      "col_0    0\n",
      "col_1    1\n",
      "Name: row_0, dtype: int64\n"
     ]
    }
   ],
   "source": [
    "# df.loc[row_label] selects rows\n",
    "df = pd.DataFrame({\n",
    "        'col_0': [0, 10, 20],\n",
    "        'col_1': [1, 11, 21]\n",
    "    }, index = ['row_0', 'row_1', 'row_2'])\n",
    "print(df)\n",
    "print(df.loc['row_0'])"
   ]
  },
  {
   "cell_type": "markdown",
   "metadata": {},
   "source": [
    "#### Position with .iloc"
   ]
  },
  {
   "cell_type": "code",
   "execution_count": 63,
   "metadata": {},
   "outputs": [
    {
     "name": "stdout",
     "output_type": "stream",
     "text": [
      "       col_0  col_1\n",
      "row_0      0      1\n",
      "row_1     10     11\n",
      "row_2     20     21\n",
      "row_0     0\n",
      "row_1    10\n",
      "row_2    20\n",
      "Name: col_0, dtype: int64\n"
     ]
    }
   ],
   "source": [
    "# df.iloc[:, col_position] selects columns\n",
    "df = pd.DataFrame({\n",
    "        'col_0': [0, 10, 20],\n",
    "        'col_1': [1, 11, 21]\n",
    "    }, index = ['row_0', 'row_1', 'row_2'])\n",
    "print(df)\n",
    "print(df.iloc[:, 0])"
   ]
  },
  {
   "cell_type": "code",
   "execution_count": 64,
   "metadata": {},
   "outputs": [
    {
     "name": "stdout",
     "output_type": "stream",
     "text": [
      "       col_0  col_1\n",
      "row_0      0      1\n",
      "row_1     10     11\n",
      "row_2     20     21\n",
      "df.iloc[row_position] selects rows\n",
      "col_0    0\n",
      "col_1    1\n",
      "Name: row_0, dtype: int64\n"
     ]
    }
   ],
   "source": [
    "# df.iloc[row_position] selects rows\n",
    "df = pd.DataFrame({\n",
    "        'col_0': [0, 10, 20],\n",
    "        'col_1': [1, 11, 21]\n",
    "    }, index = ['row_0', 'row_1', 'row_2'])\n",
    "print(df)\n",
    "print(df.iloc[0])"
   ]
  },
  {
   "cell_type": "markdown",
   "metadata": {},
   "source": [
    "#### Label and Position"
   ]
  },
  {
   "cell_type": "code",
   "execution_count": 76,
   "metadata": {},
   "outputs": [
    {
     "name": "stdout",
     "output_type": "stream",
     "text": [
      "       col_0  col_1\n",
      "row_0      0      1\n",
      "row_1     10     11\n",
      "row_2     20     21\n",
      "21\n"
     ]
    }
   ],
   "source": [
    "# df.loc[df.index[row_position], col_label]\n",
    "df = pd.DataFrame({\n",
    "        'col_0': [0, 10, 20],\n",
    "        'col_1': [1, 11, 21]\n",
    "    }, index = ['row_0', 'row_1', 'row_2'])\n",
    "print(df)\n",
    "print(df.loc[df.index[2], 'col_1'])"
   ]
  },
  {
   "cell_type": "code",
   "execution_count": 77,
   "metadata": {},
   "outputs": [
    {
     "name": "stdout",
     "output_type": "stream",
     "text": [
      "       col_0  col_1\n",
      "row_0      0      1\n",
      "row_1     10     11\n",
      "row_2     20     21\n",
      "21\n"
     ]
    }
   ],
   "source": [
    "# df.loc[row_label, df.colums[col_position]]\n",
    "df = pd.DataFrame({\n",
    "        'col_0': [0, 10, 20],\n",
    "        'col_1': [1, 11, 21]\n",
    "    }, index = ['row_0', 'row_1', 'row_2'])\n",
    "print(df)\n",
    "print(df.loc['row_2', df.columns[1]])"
   ]
  },
  {
   "cell_type": "markdown",
   "metadata": {},
   "source": [
    "#### With [ ]"
   ]
  },
  {
   "cell_type": "code",
   "execution_count": 57,
   "metadata": {},
   "outputs": [
    {
     "name": "stdout",
     "output_type": "stream",
     "text": [
      "       col_0  col_1\n",
      "row_0      0      1\n",
      "row_1     10     11\n",
      "row_2     20     21\n",
      "row_0     0\n",
      "row_1    10\n",
      "row_2    20\n",
      "Name: col_0, dtype: int64\n"
     ]
    }
   ],
   "source": [
    "# df[col_label] selects columns\n",
    "df = pd.DataFrame({\n",
    "        'col_0': [0, 10, 20],\n",
    "        'col_1': [1, 11, 21]\n",
    "    }, index = ['row_0', 'row_1', 'row_2'])\n",
    "print(df)\n",
    "print(df['col_0']) "
   ]
  },
  {
   "cell_type": "code",
   "execution_count": 73,
   "metadata": {},
   "outputs": [
    {
     "name": "stdout",
     "output_type": "stream",
     "text": [
      "       col_0  col_1\n",
      "row_0      0      1\n",
      "row_1     10     11\n",
      "row_2     20     21\n",
      "       col_0  col_1\n",
      "row_1     10     11\n"
     ]
    }
   ],
   "source": [
    "# Convenience 1: [] with a slice to slice rows\n",
    "# df[row_position_slice]\n",
    "df = pd.DataFrame({\n",
    "        'col_0': [0, 10, 20],\n",
    "        'col_1': [1, 11, 21]\n",
    "    }, index = ['row_0', 'row_1', 'row_2'])\n",
    "print(df)\n",
    "print(df[1:2])"
   ]
  },
  {
   "cell_type": "code",
   "execution_count": 80,
   "metadata": {},
   "outputs": [
    {
     "name": "stdout",
     "output_type": "stream",
     "text": [
      "       col_0  col_1\n",
      "row_0      0      1\n",
      "row_1     10     11\n",
      "row_2     20     21\n",
      "row_0    False\n",
      "row_1     True\n",
      "row_2     True\n",
      "Name: col_1, dtype: bool\n",
      "       col_0  col_1\n",
      "row_2     20     21\n"
     ]
    }
   ],
   "source": [
    "# Convenience 2: [] with a boolean array to filter rows\n",
    "df = pd.DataFrame({\n",
    "        'col_0': [0, 10, 20],\n",
    "        'col_1': [1, 11, 21]\n",
    "    }, index = ['row_0', 'row_1', 'row_2'])\n",
    "print(df)\n",
    "print(df['col_1']>10) # Returns a boolean array\n",
    "print(df[df['col_0']>10])"
   ]
  },
  {
   "cell_type": "code",
   "execution_count": 86,
   "metadata": {},
   "outputs": [
    {
     "name": "stdout",
     "output_type": "stream",
     "text": [
      "       col_0  col_1\n",
      "row_0      0      1\n",
      "row_1     10     11\n",
      "row_2     20     21\n",
      "       col_0  col_1\n",
      "row_0  False  False\n",
      "row_1  False   True\n",
      "row_2   True   True\n",
      "       col_0  col_1\n",
      "row_0    NaN    NaN\n",
      "row_1    NaN   11.0\n",
      "row_2   20.0   21.0\n",
      "       col_0  col_1\n",
      "row_0      0      1\n",
      "row_1     10    999\n",
      "row_2    999    999\n"
     ]
    }
   ],
   "source": [
    "# Convenience 3: [] with a boolean DataFrame to filter element\n",
    "df = pd.DataFrame({\n",
    "        'col_0': [0, 10, 20],\n",
    "        'col_1': [1, 11, 21]\n",
    "    }, index = ['row_0', 'row_1', 'row_2'])\n",
    "print(df)\n",
    "print(df>10)\n",
    "print(df[df>10])\n",
    "# This is used to set values elementwise based on some criterion\n",
    "df[df>10] = 999\n",
    "print(df)"
   ]
  },
  {
   "cell_type": "code",
   "execution_count": null,
   "metadata": {
    "collapsed": true
   },
   "outputs": [],
   "source": []
  },
  {
   "cell_type": "markdown",
   "metadata": {},
   "source": [
    "### DataFrame Applying Function"
   ]
  },
  {
   "cell_type": "code",
   "execution_count": 89,
   "metadata": {},
   "outputs": [
    {
     "name": "stdout",
     "output_type": "stream",
     "text": [
      "       col_0  col_1\n",
      "row_0      0      1\n",
      "row_1     10     11\n",
      "row_2     20     21\n",
      "       col_0  col_1\n",
      "row_0      0      1\n",
      "row_1    100    121\n",
      "row_2    400    441\n"
     ]
    }
   ],
   "source": [
    "# DataFrame element-wise function application\n",
    "df = pd.DataFrame({\n",
    "        'col_0': [0, 10, 20],\n",
    "        'col_1': [1, 11, 21]\n",
    "    }, index = ['row_0', 'row_1', 'row_2'])\n",
    "print(df)\n",
    "print(df.applymap(np.square))"
   ]
  },
  {
   "cell_type": "code",
   "execution_count": 90,
   "metadata": {},
   "outputs": [
    {
     "name": "stdout",
     "output_type": "stream",
     "text": [
      "       col_0  col_1\n",
      "row_0      0      1\n",
      "row_1     10     11\n",
      "row_2     20     21\n",
      "col_0    20\n",
      "col_1    20\n",
      "dtype: int64\n"
     ]
    }
   ],
   "source": [
    "# DataFrame column-wise function application\n",
    "df = pd.DataFrame({\n",
    "        'col_0': [0, 10, 20],\n",
    "        'col_1': [1, 11, 21]\n",
    "    }, index = ['row_0', 'row_1', 'row_2'])\n",
    "print(df)\n",
    "print(df.apply(lambda x: x.max() - x.min()))"
   ]
  },
  {
   "cell_type": "code",
   "execution_count": 96,
   "metadata": {},
   "outputs": [
    {
     "name": "stdout",
     "output_type": "stream",
     "text": [
      "       col_0  col_1\n",
      "row_0      0      1\n",
      "row_1     10     11\n",
      "row_2     20     21\n",
      "row_0    1\n",
      "row_1    1\n",
      "row_2    1\n",
      "dtype: int64\n"
     ]
    }
   ],
   "source": [
    "# DataFrame row-wise function application\n",
    "df = pd.DataFrame({\n",
    "        'col_0': [0, 10, 20],\n",
    "        'col_1': [1, 11, 21]\n",
    "    }, index = ['row_0', 'row_1', 'row_2'])\n",
    "print(df)\n",
    "print(df.apply(lambda x: x.max() - x.min(), axis=1))"
   ]
  },
  {
   "cell_type": "code",
   "execution_count": null,
   "metadata": {
    "collapsed": true
   },
   "outputs": [],
   "source": []
  }
 ],
 "metadata": {
  "kernelspec": {
   "display_name": "Python 3",
   "language": "python",
   "name": "python3"
  },
  "language_info": {
   "codemirror_mode": {
    "name": "ipython",
    "version": 3
   },
   "file_extension": ".py",
   "mimetype": "text/x-python",
   "name": "python",
   "nbconvert_exporter": "python",
   "pygments_lexer": "ipython3",
   "version": "3.6.2"
  }
 },
 "nbformat": 4,
 "nbformat_minor": 2
}
