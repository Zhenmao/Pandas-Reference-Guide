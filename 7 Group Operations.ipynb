{
 "cells": [
  {
   "cell_type": "markdown",
   "metadata": {},
   "source": [
    "# 7 Group Operations"
   ]
  },
  {
   "cell_type": "markdown",
   "metadata": {},
   "source": [
    "The \"group by\" process:\n",
    "* Splitting the data into groups\n",
    "* Applying a function to each group\n",
    "    - Aggreation\n",
    "    - Transformation\n",
    "    - Filtration\n",
    "* Combinging the results"
   ]
  },
  {
   "cell_type": "code",
   "execution_count": 8,
   "metadata": {
    "collapsed": true
   },
   "outputs": [],
   "source": [
    "import pandas as pd\n",
    "import numpy as np"
   ]
  },
  {
   "cell_type": "markdown",
   "metadata": {
    "collapsed": true
   },
   "source": [
    "## Splitting the Data into Groups"
   ]
  },
  {
   "cell_type": "markdown",
   "metadata": {},
   "source": [
    "Grouping needs a mapping of labels to group names:\n",
    "* For DataFrame, a string indicating a column name to be grouped by.\n",
    "* A list of the same length as the selected axis.\n",
    "* A dict providing a mapping from labels to group names.\n",
    "* A function to be called on each of the axis lables."
   ]
  },
  {
   "cell_type": "code",
   "execution_count": 4,
   "metadata": {},
   "outputs": [
    {
     "name": "stdout",
     "output_type": "stream",
     "text": [
      "   data1  data2 key1 key2\n",
      "0      1     10  foo  one\n",
      "1      2     20  bar  two\n",
      "2      3     30  foo  one\n",
      "3      4     40  bar  one\n",
      "bar\n",
      "   data1  data2 key1 key2\n",
      "1      2     20  bar  two\n",
      "3      4     40  bar  one\n",
      "foo\n",
      "   data1  data2 key1 key2\n",
      "0      1     10  foo  one\n",
      "2      3     30  foo  one\n"
     ]
    }
   ],
   "source": [
    "# Splitting by DataFrame column name(s)\n",
    "df = pd.DataFrame({'key1': ['foo', 'bar', 'foo', 'bar'],\n",
    "                   'key2': ['one', 'two', 'one', 'one'],\n",
    "                   'data1': [1, 2, 3, 4],\n",
    "                   'data2': [10, 20, 30, 40]})\n",
    "print(df)\n",
    "grouped = df.groupby('key1')\n",
    "for key, group in grouped:\n",
    "    print(key)\n",
    "    print(group)"
   ]
  },
  {
   "cell_type": "code",
   "execution_count": 5,
   "metadata": {
    "scrolled": true
   },
   "outputs": [
    {
     "name": "stdout",
     "output_type": "stream",
     "text": [
      "   data1  data2 key1 key2\n",
      "0      1     10  foo  one\n",
      "1      2     20  bar  two\n",
      "2      3     30  foo  one\n",
      "3      4     40  bar  one\n",
      "bar one\n",
      "   data1  data2 key1 key2\n",
      "3      4     40  bar  one\n",
      "bar two\n",
      "   data1  data2 key1 key2\n",
      "1      2     20  bar  two\n",
      "foo one\n",
      "   data1  data2 key1 key2\n",
      "0      1     10  foo  one\n",
      "2      3     30  foo  one\n"
     ]
    }
   ],
   "source": [
    "# Splitting by DataFrame column name(s)\n",
    "df = pd.DataFrame({'key1': ['foo', 'bar', 'foo', 'bar'],\n",
    "                   'key2': ['one', 'two', 'one', 'one'],\n",
    "                   'data1': [1, 2, 3, 4],\n",
    "                   'data2': [10, 20, 30, 40]})\n",
    "print(df)\n",
    "grouped = df.groupby(['key1', 'key2'])\n",
    "for (key1, key2), group in grouped:\n",
    "    print(key1, key2)\n",
    "    print(group)"
   ]
  },
  {
   "cell_type": "code",
   "execution_count": 6,
   "metadata": {},
   "outputs": [
    {
     "name": "stdout",
     "output_type": "stream",
     "text": [
      "   data1  data2 key1 key2\n",
      "0      1     10  foo  one\n",
      "1      2     20  bar  two\n",
      "2      3     30  foo  one\n",
      "3      4     40  bar  one\n",
      "group1\n",
      "   data1  data2 key1 key2\n",
      "0      1     10  foo  one\n",
      "2      3     30  foo  one\n",
      "group2\n",
      "   data1  data2 key1 key2\n",
      "1      2     20  bar  two\n",
      "3      4     40  bar  one\n"
     ]
    }
   ],
   "source": [
    "# Splitting by a list of the same length as the selected axis.\n",
    "df = pd.DataFrame({'key1': ['foo', 'bar', 'foo', 'bar'],\n",
    "                   'key2': ['one', 'two', 'one', 'one'],\n",
    "                   'data1': [1, 2, 3, 4],\n",
    "                   'data2': [10, 20, 30, 40]})\n",
    "print(df)\n",
    "alist = ['group1', 'group2', 'group1', 'group2']\n",
    "grouped = df.groupby(alist)\n",
    "for key, group in grouped:\n",
    "    print(key)\n",
    "    print(group)"
   ]
  },
  {
   "cell_type": "code",
   "execution_count": 7,
   "metadata": {},
   "outputs": [
    {
     "name": "stdout",
     "output_type": "stream",
     "text": [
      "   data1  data2 key1 key2\n",
      "0      1     10  foo  one\n",
      "1      2     20  bar  two\n",
      "2      3     30  foo  one\n",
      "3      4     40  bar  one\n",
      "group1\n",
      "   data1  data2 key1 key2\n",
      "0      1     10  foo  one\n",
      "2      3     30  foo  one\n",
      "group2\n",
      "   data1  data2 key1 key2\n",
      "1      2     20  bar  two\n",
      "3      4     40  bar  one\n"
     ]
    }
   ],
   "source": [
    "# Splitting by a dict providing a mapping from labels to group names.\n",
    "df = pd.DataFrame({'key1': ['foo', 'bar', 'foo', 'bar'],\n",
    "                   'key2': ['one', 'two', 'one', 'one'],\n",
    "                   'data1': [1, 2, 3, 4],\n",
    "                   'data2': [10, 20, 30, 40]})\n",
    "print(df)\n",
    "adict = {0: 'group1', 1: 'group2', 2: 'group1', 3: 'group2'}\n",
    "grouped = df.groupby(adict)\n",
    "for key, group in grouped:\n",
    "    print(key)\n",
    "    print(group)"
   ]
  },
  {
   "cell_type": "code",
   "execution_count": 9,
   "metadata": {},
   "outputs": [
    {
     "name": "stdout",
     "output_type": "stream",
     "text": [
      "   data1  data2 key1 key2\n",
      "0      1     10  foo  one\n",
      "1      2     20  bar  two\n",
      "2      3     30  foo  one\n",
      "3      4     40  bar  one\n",
      "0\n",
      "   data1  data2 key1 key2\n",
      "0      1     10  foo  one\n",
      "2      3     30  foo  one\n",
      "1\n",
      "   data1  data2 key1 key2\n",
      "1      2     20  bar  two\n",
      "3      4     40  bar  one\n"
     ]
    }
   ],
   "source": [
    "# Splitting by a function to be called on each of the axis lables.\n",
    "# Return values will be used as group names\n",
    "df = pd.DataFrame({'key1': ['foo', 'bar', 'foo', 'bar'],\n",
    "                   'key2': ['one', 'two', 'one', 'one'],\n",
    "                   'data1': [1, 2, 3, 4],\n",
    "                   'data2': [10, 20, 30, 40]})\n",
    "print(df)\n",
    "afunc = lambda x: np.remainder(x, 2)\n",
    "grouped = df.groupby(afunc)\n",
    "for key, group in grouped:\n",
    "    print(key)\n",
    "    print(group)"
   ]
  },
  {
   "cell_type": "code",
   "execution_count": 10,
   "metadata": {},
   "outputs": [
    {
     "name": "stdout",
     "output_type": "stream",
     "text": [
      "   data1  data2 key1 key2\n",
      "0      1     10  foo  one\n",
      "1      2     20  bar  two\n",
      "2      3     30  foo  one\n",
      "3      4     40  bar  one\n",
      "bar one\n",
      "   data1  data2 key1 key2\n",
      "3      4     40  bar  one\n",
      "bar two\n",
      "   data1  data2 key1 key2\n",
      "1      2     20  bar  two\n",
      "foo one\n",
      "   data1  data2 key1 key2\n",
      "0      1     10  foo  one\n",
      "2      3     30  foo  one\n",
      "   data1  data2 key1 key2\n",
      "3      4     40  bar  one\n"
     ]
    }
   ],
   "source": [
    "# Selecting a group\n",
    "df = pd.DataFrame({'key1': ['foo', 'bar', 'foo', 'bar'],\n",
    "                   'key2': ['one', 'two', 'one', 'one'],\n",
    "                   'data1': [1, 2, 3, 4],\n",
    "                   'data2': [10, 20, 30, 40]})\n",
    "print(df)\n",
    "grouped = df.groupby(['key1', 'key2'])\n",
    "for (key1, key2), group in grouped:\n",
    "    print(key1, key2)\n",
    "    print(group)\n",
    "print(grouped.get_group(('bar', 'one')))"
   ]
  },
  {
   "cell_type": "code",
   "execution_count": null,
   "metadata": {
    "collapsed": true
   },
   "outputs": [],
   "source": []
  }
 ],
 "metadata": {
  "kernelspec": {
   "display_name": "Python 3",
   "language": "python",
   "name": "python3"
  },
  "language_info": {
   "codemirror_mode": {
    "name": "ipython",
    "version": 3
   },
   "file_extension": ".py",
   "mimetype": "text/x-python",
   "name": "python",
   "nbconvert_exporter": "python",
   "pygments_lexer": "ipython3",
   "version": "3.6.2"
  }
 },
 "nbformat": 4,
 "nbformat_minor": 2
}
