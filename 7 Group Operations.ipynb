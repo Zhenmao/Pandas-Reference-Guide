{
 "cells": [
  {
   "cell_type": "markdown",
   "metadata": {},
   "source": [
    "# 7 Group Operations\n",
    "See also the official document [Group By: split-apply-combine](https://pandas.pydata.org/pandas-docs/stable/groupby.html)"
   ]
  },
  {
   "cell_type": "markdown",
   "metadata": {},
   "source": [
    "The \"group by\" process:\n",
    "* Splitting the data into groups\n",
    "* Applying a function to each group\n",
    "    - Aggreation\n",
    "    - Transformation\n",
    "    - Filtration\n",
    "* Combinging the results"
   ]
  },
  {
   "cell_type": "code",
   "execution_count": 3,
   "metadata": {
    "collapsed": true
   },
   "outputs": [],
   "source": [
    "import pandas as pd\n",
    "import numpy as np"
   ]
  },
  {
   "cell_type": "markdown",
   "metadata": {
    "collapsed": true
   },
   "source": [
    "## Splitting the Data into Groups"
   ]
  },
  {
   "cell_type": "markdown",
   "metadata": {},
   "source": [
    "Grouping needs a mapping of labels to group names:\n",
    "* For DataFrame, a string indicating a column name to be grouped by.\n",
    "* A list of the same length as the selected axis.\n",
    "* A dict providing a mapping from labels to group names.\n",
    "* A function to be called on each of the axis lables."
   ]
  },
  {
   "cell_type": "code",
   "execution_count": 4,
   "metadata": {},
   "outputs": [
    {
     "name": "stdout",
     "output_type": "stream",
     "text": [
      "   data1  data2 key1 key2\n",
      "0      1     10  foo  one\n",
      "1      2     20  bar  two\n",
      "2      3     30  foo  one\n",
      "3      4     40  bar  one\n",
      "bar\n",
      "   data1  data2 key1 key2\n",
      "1      2     20  bar  two\n",
      "3      4     40  bar  one\n",
      "foo\n",
      "   data1  data2 key1 key2\n",
      "0      1     10  foo  one\n",
      "2      3     30  foo  one\n"
     ]
    }
   ],
   "source": [
    "# Splitting by DataFrame column name(s)\n",
    "df = pd.DataFrame({'key1': ['foo', 'bar', 'foo', 'bar'],\n",
    "                   'key2': ['one', 'two', 'one', 'one'],\n",
    "                   'data1': [1, 2, 3, 4],\n",
    "                   'data2': [10, 20, 30, 40]})\n",
    "print(df)\n",
    "grouped = df.groupby('key1')\n",
    "for key, group in grouped:\n",
    "    print(key)\n",
    "    print(group)"
   ]
  },
  {
   "cell_type": "code",
   "execution_count": 5,
   "metadata": {
    "scrolled": true
   },
   "outputs": [
    {
     "name": "stdout",
     "output_type": "stream",
     "text": [
      "   data1  data2 key1 key2\n",
      "0      1     10  foo  one\n",
      "1      2     20  bar  two\n",
      "2      3     30  foo  one\n",
      "3      4     40  bar  one\n",
      "bar one\n",
      "   data1  data2 key1 key2\n",
      "3      4     40  bar  one\n",
      "bar two\n",
      "   data1  data2 key1 key2\n",
      "1      2     20  bar  two\n",
      "foo one\n",
      "   data1  data2 key1 key2\n",
      "0      1     10  foo  one\n",
      "2      3     30  foo  one\n"
     ]
    }
   ],
   "source": [
    "# Splitting by DataFrame column name(s)\n",
    "df = pd.DataFrame({'key1': ['foo', 'bar', 'foo', 'bar'],\n",
    "                   'key2': ['one', 'two', 'one', 'one'],\n",
    "                   'data1': [1, 2, 3, 4],\n",
    "                   'data2': [10, 20, 30, 40]})\n",
    "print(df)\n",
    "grouped = df.groupby(['key1', 'key2'])\n",
    "for (key1, key2), group in grouped:\n",
    "    print(key1, key2)\n",
    "    print(group)"
   ]
  },
  {
   "cell_type": "code",
   "execution_count": 6,
   "metadata": {},
   "outputs": [
    {
     "name": "stdout",
     "output_type": "stream",
     "text": [
      "   data1  data2 key1 key2\n",
      "0      1     10  foo  one\n",
      "1      2     20  bar  two\n",
      "2      3     30  foo  one\n",
      "3      4     40  bar  one\n",
      "group1\n",
      "   data1  data2 key1 key2\n",
      "0      1     10  foo  one\n",
      "2      3     30  foo  one\n",
      "group2\n",
      "   data1  data2 key1 key2\n",
      "1      2     20  bar  two\n",
      "3      4     40  bar  one\n"
     ]
    }
   ],
   "source": [
    "# Splitting by a list of the same length as the selected axis.\n",
    "df = pd.DataFrame({'key1': ['foo', 'bar', 'foo', 'bar'],\n",
    "                   'key2': ['one', 'two', 'one', 'one'],\n",
    "                   'data1': [1, 2, 3, 4],\n",
    "                   'data2': [10, 20, 30, 40]})\n",
    "print(df)\n",
    "alist = ['group1', 'group2', 'group1', 'group2']\n",
    "grouped = df.groupby(alist)\n",
    "for key, group in grouped:\n",
    "    print(key)\n",
    "    print(group)"
   ]
  },
  {
   "cell_type": "code",
   "execution_count": 7,
   "metadata": {},
   "outputs": [
    {
     "name": "stdout",
     "output_type": "stream",
     "text": [
      "   data1  data2 key1 key2\n",
      "0      1     10  foo  one\n",
      "1      2     20  bar  two\n",
      "2      3     30  foo  one\n",
      "3      4     40  bar  one\n",
      "group1\n",
      "   data1  data2 key1 key2\n",
      "0      1     10  foo  one\n",
      "2      3     30  foo  one\n",
      "group2\n",
      "   data1  data2 key1 key2\n",
      "1      2     20  bar  two\n",
      "3      4     40  bar  one\n"
     ]
    }
   ],
   "source": [
    "# Splitting by a dict providing a mapping from labels to group names.\n",
    "df = pd.DataFrame({'key1': ['foo', 'bar', 'foo', 'bar'],\n",
    "                   'key2': ['one', 'two', 'one', 'one'],\n",
    "                   'data1': [1, 2, 3, 4],\n",
    "                   'data2': [10, 20, 30, 40]})\n",
    "print(df)\n",
    "adict = {0: 'group1', 1: 'group2', 2: 'group1', 3: 'group2'}\n",
    "grouped = df.groupby(adict)\n",
    "for key, group in grouped:\n",
    "    print(key)\n",
    "    print(group)"
   ]
  },
  {
   "cell_type": "code",
   "execution_count": 9,
   "metadata": {},
   "outputs": [
    {
     "name": "stdout",
     "output_type": "stream",
     "text": [
      "   data1  data2 key1 key2\n",
      "0      1     10  foo  one\n",
      "1      2     20  bar  two\n",
      "2      3     30  foo  one\n",
      "3      4     40  bar  one\n",
      "0\n",
      "   data1  data2 key1 key2\n",
      "0      1     10  foo  one\n",
      "2      3     30  foo  one\n",
      "1\n",
      "   data1  data2 key1 key2\n",
      "1      2     20  bar  two\n",
      "3      4     40  bar  one\n"
     ]
    }
   ],
   "source": [
    "# Splitting by a function to be called on each of the axis lables.\n",
    "# Return values will be used as group names\n",
    "df = pd.DataFrame({'key1': ['foo', 'bar', 'foo', 'bar'],\n",
    "                   'key2': ['one', 'two', 'one', 'one'],\n",
    "                   'data1': [1, 2, 3, 4],\n",
    "                   'data2': [10, 20, 30, 40]})\n",
    "print(df)\n",
    "afunc = lambda x: np.remainder(x, 2)\n",
    "grouped = df.groupby(afunc)\n",
    "for key, group in grouped:\n",
    "    print(key)\n",
    "    print(group)"
   ]
  },
  {
   "cell_type": "code",
   "execution_count": 10,
   "metadata": {},
   "outputs": [
    {
     "name": "stdout",
     "output_type": "stream",
     "text": [
      "   data1  data2 key1 key2\n",
      "0      1     10  foo  one\n",
      "1      2     20  bar  two\n",
      "2      3     30  foo  one\n",
      "3      4     40  bar  one\n",
      "bar one\n",
      "   data1  data2 key1 key2\n",
      "3      4     40  bar  one\n",
      "bar two\n",
      "   data1  data2 key1 key2\n",
      "1      2     20  bar  two\n",
      "foo one\n",
      "   data1  data2 key1 key2\n",
      "0      1     10  foo  one\n",
      "2      3     30  foo  one\n",
      "   data1  data2 key1 key2\n",
      "3      4     40  bar  one\n"
     ]
    }
   ],
   "source": [
    "# Selecting a group\n",
    "df = pd.DataFrame({'key1': ['foo', 'bar', 'foo', 'bar'],\n",
    "                   'key2': ['one', 'two', 'one', 'one'],\n",
    "                   'data1': [1, 2, 3, 4],\n",
    "                   'data2': [10, 20, 30, 40]})\n",
    "print(df)\n",
    "grouped = df.groupby(['key1', 'key2'])\n",
    "for (key1, key2), group in grouped:\n",
    "    print(key1, key2)\n",
    "    print(group)\n",
    "print(grouped.get_group(('bar', 'one')))"
   ]
  },
  {
   "cell_type": "markdown",
   "metadata": {},
   "source": [
    "## Applying a Function to Each Group"
   ]
  },
  {
   "cell_type": "markdown",
   "metadata": {},
   "source": [
    "### Aggregation\n",
    "Aggregation computes a summary statistic about each group.  \n",
    "Aggregation reduces the dimension."
   ]
  },
  {
   "cell_type": "code",
   "execution_count": 13,
   "metadata": {
    "scrolled": false
   },
   "outputs": [
    {
     "name": "stdout",
     "output_type": "stream",
     "text": [
      "   data1  data2 key1 key2\n",
      "0      1     10  foo  one\n",
      "1      2     20  bar  two\n",
      "2      3     30  foo  one\n",
      "3      4     40  bar  one\n",
      "      data1  data2\n",
      "key1              \n",
      "bar       3     30\n",
      "foo       2     20\n"
     ]
    }
   ],
   "source": [
    "# Aggregation via GroupBy object method\n",
    "df = pd.DataFrame({'key1': ['foo', 'bar', 'foo', 'bar'],\n",
    "                   'key2': ['one', 'two', 'one', 'one'],\n",
    "                   'data1': [1, 2, 3, 4],\n",
    "                   'data2': [10, 20, 30, 40]})\n",
    "print(df)\n",
    "print(df.groupby('key1').mean())"
   ]
  },
  {
   "cell_type": "code",
   "execution_count": 14,
   "metadata": {
    "scrolled": true
   },
   "outputs": [
    {
     "name": "stdout",
     "output_type": "stream",
     "text": [
      "   data1  data2 key1 key2\n",
      "0      1     10  foo  one\n",
      "1      2     20  bar  two\n",
      "2      3     30  foo  one\n",
      "3      4     40  bar  one\n",
      "key1\n",
      "bar    2\n",
      "foo    2\n",
      "dtype: int64\n"
     ]
    }
   ],
   "source": [
    "# Aggregation via GroupBy object method\n",
    "df = pd.DataFrame({'key1': ['foo', 'bar', 'foo', 'bar'],\n",
    "                   'key2': ['one', 'two', 'one', 'one'],\n",
    "                   'data1': [1, 2, 3, 4],\n",
    "                   'data2': [10, 20, 30, 40]})\n",
    "print(df)\n",
    "print(df.groupby('key1').size())"
   ]
  },
  {
   "cell_type": "code",
   "execution_count": 16,
   "metadata": {
    "scrolled": false
   },
   "outputs": [
    {
     "name": "stdout",
     "output_type": "stream",
     "text": [
      "   data1  data2 key1 key2\n",
      "0      1     10  foo  one\n",
      "1      2     20  bar  two\n",
      "2      3     30  foo  one\n",
      "3      4     40  bar  one\n",
      "key1               bar        foo\n",
      "data1 count   2.000000   2.000000\n",
      "      mean    3.000000   2.000000\n",
      "      std     1.414214   1.414214\n",
      "      min     2.000000   1.000000\n",
      "      25%     2.500000   1.500000\n",
      "      50%     3.000000   2.000000\n",
      "      75%     3.500000   2.500000\n",
      "      max     4.000000   3.000000\n",
      "data2 count   2.000000   2.000000\n",
      "      mean   30.000000  20.000000\n",
      "      std    14.142136  14.142136\n",
      "      min    20.000000  10.000000\n",
      "      25%    25.000000  15.000000\n",
      "      50%    30.000000  20.000000\n",
      "      75%    35.000000  25.000000\n",
      "      max    40.000000  30.000000\n"
     ]
    }
   ],
   "source": [
    "# Aggregation via GroupBy object method\n",
    "df = pd.DataFrame({'key1': ['foo', 'bar', 'foo', 'bar'],\n",
    "                   'key2': ['one', 'two', 'one', 'one'],\n",
    "                   'data1': [1, 2, 3, 4],\n",
    "                   'data2': [10, 20, 30, 40]})\n",
    "print(df)\n",
    "print(df.groupby('key1').describe().T)"
   ]
  },
  {
   "cell_type": "code",
   "execution_count": 11,
   "metadata": {},
   "outputs": [
    {
     "name": "stdout",
     "output_type": "stream",
     "text": [
      "   data1  data2 key1 key2\n",
      "0      1     10  foo  one\n",
      "1      2     20  bar  two\n",
      "2      3     30  foo  one\n",
      "3      4     40  bar  one\n",
      "      data1  data2\n",
      "key1              \n",
      "bar       3     30\n",
      "foo       2     20\n"
     ]
    }
   ],
   "source": [
    "# Aggregation via the aggregate method\n",
    "df = pd.DataFrame({'key1': ['foo', 'bar', 'foo', 'bar'],\n",
    "                   'key2': ['one', 'two', 'one', 'one'],\n",
    "                   'data1': [1, 2, 3, 4],\n",
    "                   'data2': [10, 20, 30, 40]})\n",
    "print(df)\n",
    "print(df.groupby('key1').agg(np.mean)) \n",
    "# Group names will be the new index"
   ]
  },
  {
   "cell_type": "code",
   "execution_count": 12,
   "metadata": {
    "scrolled": true
   },
   "outputs": [
    {
     "name": "stdout",
     "output_type": "stream",
     "text": [
      "   data1  data2 key1 key2\n",
      "0      1     10  foo  one\n",
      "1      2     20  bar  two\n",
      "2      3     30  foo  one\n",
      "3      4     40  bar  one\n",
      "  key1  data1  data2\n",
      "0  bar      3     30\n",
      "1  foo      2     20\n"
     ]
    }
   ],
   "source": [
    "# Aggregation via the aggregate method\n",
    "df = pd.DataFrame({'key1': ['foo', 'bar', 'foo', 'bar'],\n",
    "                   'key2': ['one', 'two', 'one', 'one'],\n",
    "                   'data1': [1, 2, 3, 4],\n",
    "                   'data2': [10, 20, 30, 40]})\n",
    "print(df)\n",
    "print(df.groupby('key1', as_index=False).agg(np.mean)) \n",
    "# Group names will NOT be the new index"
   ]
  },
  {
   "cell_type": "markdown",
   "metadata": {},
   "source": [
    "### Transformation\n",
    "Transformation performs a group-specific computation and returns a like-indexed object.  \n",
    "Transformation keeps the same dimension."
   ]
  },
  {
   "cell_type": "code",
   "execution_count": 17,
   "metadata": {
    "scrolled": true
   },
   "outputs": [
    {
     "name": "stdout",
     "output_type": "stream",
     "text": [
      "   data1  data2 key1 key2\n",
      "0      1     10  foo  one\n",
      "1      2     20  bar  two\n",
      "2      3     30  foo  one\n",
      "3      4     40  bar  one\n",
      "   data1  data2\n",
      "0      2     20\n",
      "1      3     30\n",
      "2      2     20\n",
      "3      3     30\n"
     ]
    }
   ],
   "source": [
    "df = pd.DataFrame({'key1': ['foo', 'bar', 'foo', 'bar'],\n",
    "                   'key2': ['one', 'two', 'one', 'one'],\n",
    "                   'data1': [1, 2, 3, 4],\n",
    "                   'data2': [10, 20, 30, 40]})\n",
    "print(df)\n",
    "print(df.groupby('key1').transform(np.mean))"
   ]
  },
  {
   "cell_type": "markdown",
   "metadata": {},
   "source": [
    "### Filtration\n",
    "Filtration discard some groups according to a group-wise computation that returns True or False.  \n",
    "Filtration returns a subset of the original object."
   ]
  },
  {
   "cell_type": "code",
   "execution_count": 21,
   "metadata": {
    "scrolled": true
   },
   "outputs": [
    {
     "name": "stdout",
     "output_type": "stream",
     "text": [
      "   data1  data2 key1 key2\n",
      "0      1     10  foo  one\n",
      "1      2     20  bar  two\n",
      "2      3     30  foo  one\n",
      "3      4     40  bar  one\n",
      "   data1  data2 key1 key2\n",
      "1      2     20  bar  two\n",
      "3      4     40  bar  one\n"
     ]
    }
   ],
   "source": [
    "df = pd.DataFrame({'key1': ['foo', 'bar', 'foo', 'bar'],\n",
    "                   'key2': ['one', 'two', 'one', 'one'],\n",
    "                   'data1': [1, 2, 3, 4],\n",
    "                   'data2': [10, 20, 30, 40]})\n",
    "print(df)\n",
    "print(df.groupby('key1').filter(lambda x: x['data1'].mean() > 2))"
   ]
  },
  {
   "cell_type": "markdown",
   "metadata": {},
   "source": [
    "## Pivot Tables and Cross Tabulations"
   ]
  },
  {
   "cell_type": "markdown",
   "metadata": {},
   "source": [
    "### Pivot Tables\n",
    "pivot_table pivots with aggregation of numeric data."
   ]
  },
  {
   "cell_type": "code",
   "execution_count": 5,
   "metadata": {},
   "outputs": [
    {
     "name": "stdout",
     "output_type": "stream",
     "text": [
      "   data1  data2 key1 key2\n",
      "0      1     10  foo  one\n",
      "1      2     20  bar  two\n",
      "2      3     30  foo  one\n",
      "3      4     40  bar  one\n",
      "key2  one  two\n",
      "key1          \n",
      "bar   4.0  2.0\n",
      "foo   2.0  NaN\n"
     ]
    }
   ],
   "source": [
    "df = pd.DataFrame({'key1': ['foo', 'bar', 'foo', 'bar'],\n",
    "                   'key2': ['one', 'two', 'one', 'one'],\n",
    "                   'data1': [1, 2, 3, 4],\n",
    "                   'data2': [10, 20, 30, 40]})\n",
    "print(df)\n",
    "df_pivoted = df.pivot_table(values='data1', \n",
    "                            index='key1', \n",
    "                            columns='key2', \n",
    "                            aggfunc=np.mean)\n",
    "print(df_pivoted)"
   ]
  },
  {
   "cell_type": "code",
   "execution_count": 15,
   "metadata": {},
   "outputs": [
    {
     "name": "stdout",
     "output_type": "stream",
     "text": [
      "   data1  data2 key1 key2\n",
      "0      1     10  foo  one\n",
      "1      2     20  bar  two\n",
      "2      3     30  foo  one\n",
      "3      4     40  bar  one\n",
      "key2       one  two  All\n",
      "key1                    \n",
      "bar   4.000000  2.0  3.0\n",
      "foo   2.000000  NaN  2.0\n",
      "All   2.666667  2.0  2.5\n"
     ]
    }
   ],
   "source": [
    "# Add margins\n",
    "df = pd.DataFrame({'key1': ['foo', 'bar', 'foo', 'bar'],\n",
    "                   'key2': ['one', 'two', 'one', 'one'],\n",
    "                   'data1': [1, 2, 3, 4],\n",
    "                   'data2': [10, 20, 30, 40]})\n",
    "print(df)\n",
    "df_pivoted = df.pivot_table(values='data1', \n",
    "                            index='key1', \n",
    "                            columns='key2', \n",
    "                            aggfunc=np.mean, \n",
    "                            margins=True)\n",
    "print(df_pivoted)"
   ]
  },
  {
   "cell_type": "markdown",
   "metadata": {},
   "source": [
    "### Cross Tabulations\n",
    "crosstab computes a cross-tabulation of two factors."
   ]
  },
  {
   "cell_type": "code",
   "execution_count": 19,
   "metadata": {},
   "outputs": [
    {
     "name": "stdout",
     "output_type": "stream",
     "text": [
      "   data1  data2 key1 key2\n",
      "0      1     10  foo  one\n",
      "1      2     20  bar  two\n",
      "2      3     30  foo  one\n",
      "3      4     40  bar  one\n",
      "key2  one  two\n",
      "key1          \n",
      "bar     1    1\n",
      "foo     2    0\n"
     ]
    }
   ],
   "source": [
    "df = pd.DataFrame({'key1': ['foo', 'bar', 'foo', 'bar'],\n",
    "                   'key2': ['one', 'two', 'one', 'one'],\n",
    "                   'data1': [1, 2, 3, 4],\n",
    "                   'data2': [10, 20, 30, 40]})\n",
    "print(df)\n",
    "df_crosstab = pd.crosstab(index=df['key1'], columns=df['key2'])\n",
    "print(df_crosstab)"
   ]
  }
 ],
 "metadata": {
  "kernelspec": {
   "display_name": "Python 3",
   "language": "python",
   "name": "python3"
  },
  "language_info": {
   "codemirror_mode": {
    "name": "ipython",
    "version": 3
   },
   "file_extension": ".py",
   "mimetype": "text/x-python",
   "name": "python",
   "nbconvert_exporter": "python",
   "pygments_lexer": "ipython3",
   "version": "3.6.2"
  }
 },
 "nbformat": 4,
 "nbformat_minor": 2
}
