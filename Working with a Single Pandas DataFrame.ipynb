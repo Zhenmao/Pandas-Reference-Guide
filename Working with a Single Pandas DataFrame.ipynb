{
 "cells": [
  {
   "cell_type": "markdown",
   "metadata": {},
   "source": [
    "# Working with a Single Pandas DataFrame"
   ]
  },
  {
   "cell_type": "code",
   "execution_count": 1,
   "metadata": {
    "collapsed": true
   },
   "outputs": [],
   "source": [
    "import pandas as pd\n",
    "import numpy as np"
   ]
  },
  {
   "cell_type": "markdown",
   "metadata": {},
   "source": [
    "### DataFrame Initialization"
   ]
  },
  {
   "cell_type": "code",
   "execution_count": 20,
   "metadata": {},
   "outputs": [
    {
     "name": "stdout",
     "output_type": "stream",
     "text": [
      "   col_0  col_1\n",
      "0      0      1\n",
      "1     10     11\n",
      "2     20     21\n"
     ]
    }
   ],
   "source": [
    "df = pd.DataFrame({\n",
    "        'col_0': [0, 10, 20],\n",
    "        'col_1': [1, 11, 21]\n",
    "    })\n",
    "print(df)"
   ]
  },
  {
   "cell_type": "code",
   "execution_count": 22,
   "metadata": {},
   "outputs": [
    {
     "name": "stdout",
     "output_type": "stream",
     "text": [
      "       col_0  col_1\n",
      "row_0      0      1\n",
      "row_1     10     11\n",
      "row_2     20     21\n"
     ]
    }
   ],
   "source": [
    "df = pd.DataFrame({\n",
    "        'col_0': [0, 10, 20],\n",
    "        'col_1': [1, 11, 21]\n",
    "    }, index = ['row_0', 'row_1', 'row_2'])\n",
    "print(df)"
   ]
  },
  {
   "cell_type": "code",
   "execution_count": 23,
   "metadata": {},
   "outputs": [
    {
     "name": "stdout",
     "output_type": "stream",
     "text": [
      "       col_0  col_1\n",
      "row_0      0      1\n",
      "row_1     10     11\n",
      "row_2     20     21\n"
     ]
    }
   ],
   "source": [
    "df = pd.DataFrame({\n",
    "        'col_0': {'row_0': 0, 'row_1': 10, 'row_2': 20},\n",
    "        'col_1': {'row_0': 1, 'row_1': 11, 'row_2': 21}\n",
    "    })\n",
    "print(df)"
   ]
  },
  {
   "cell_type": "markdown",
   "metadata": {},
   "source": [
    "### DataFrame Adding/Deleting a Column"
   ]
  },
  {
   "cell_type": "code",
   "execution_count": 24,
   "metadata": {},
   "outputs": [
    {
     "name": "stdout",
     "output_type": "stream",
     "text": [
      "       col_0  col_1\n",
      "row_0      0      1\n",
      "row_1     10     11\n",
      "row_2     20     21\n",
      "       col_0  col_1  col_2\n",
      "row_0      0      1      2\n",
      "row_1     10     11     21\n",
      "row_2     20     21     22\n"
     ]
    }
   ],
   "source": [
    "# Add a column\n",
    "df = pd.DataFrame({\n",
    "        'col_0': [0, 10, 20],\n",
    "        'col_1': [1, 11, 21]\n",
    "    }, index = ['row_0', 'row_1', 'row_2'])\n",
    "print(df)\n",
    "df['col_2'] = [2, 21, 22]\n",
    "print(df)"
   ]
  },
  {
   "cell_type": "code",
   "execution_count": 25,
   "metadata": {},
   "outputs": [
    {
     "name": "stdout",
     "output_type": "stream",
     "text": [
      "       col_0  col_1\n",
      "row_0      0      1\n",
      "row_1     10     11\n",
      "row_2     20     21\n",
      "       col_0\n",
      "row_0      0\n",
      "row_1     10\n",
      "row_2     20\n"
     ]
    }
   ],
   "source": [
    "# Delete a column\n",
    "df = pd.DataFrame({\n",
    "        'col_0': [0, 10, 20],\n",
    "        'col_1': [1, 11, 21]\n",
    "    }, index = ['row_0', 'row_1', 'row_2'])\n",
    "print(df)\n",
    "del df['col_1']\n",
    "print(df)"
   ]
  },
  {
   "cell_type": "markdown",
   "metadata": {},
   "source": [
    "### DataFrame Index, Columns and Values"
   ]
  },
  {
   "cell_type": "code",
   "execution_count": 35,
   "metadata": {
    "scrolled": false
   },
   "outputs": [
    {
     "name": "stdout",
     "output_type": "stream",
     "text": [
      "       col_0  col_1\n",
      "row_0      0      1\n",
      "row_1     10     11\n",
      "row_2     20     21\n",
      "Index(['row_0', 'row_1', 'row_2'], dtype='object')\n",
      "['row_0' 'row_1' 'row_2']\n"
     ]
    }
   ],
   "source": [
    "# DataFrame index\n",
    "df = pd.DataFrame({\n",
    "        'col_0': [0, 10, 20],\n",
    "        'col_1': [1, 11, 21]\n",
    "    }, index = ['row_0', 'row_1', 'row_2'])\n",
    "print(df)\n",
    "print(df.index)\n",
    "print(df.index.values)"
   ]
  },
  {
   "cell_type": "code",
   "execution_count": 38,
   "metadata": {},
   "outputs": [
    {
     "name": "stdout",
     "output_type": "stream",
     "text": [
      "       col_0  col_1\n",
      "row_0      0      1\n",
      "row_1     10     11\n",
      "row_2     20     21\n",
      "Index(['col_0', 'col_1'], dtype='object')\n",
      "['col_0' 'col_1']\n"
     ]
    }
   ],
   "source": [
    "# DataFrame columns\n",
    "df = pd.DataFrame({\n",
    "        'col_0': [0, 10, 20],\n",
    "        'col_1': [1, 11, 21]\n",
    "    }, index = ['row_0', 'row_1', 'row_2'])\n",
    "print(df)\n",
    "print(df.columns)\n",
    "print(df.columns.values)"
   ]
  },
  {
   "cell_type": "code",
   "execution_count": 36,
   "metadata": {},
   "outputs": [
    {
     "name": "stdout",
     "output_type": "stream",
     "text": [
      "       col_0  col_1\n",
      "row_0      0      1\n",
      "row_1     10     11\n",
      "row_2     20     21\n",
      "[[ 0  1]\n",
      " [10 11]\n",
      " [20 21]]\n"
     ]
    }
   ],
   "source": [
    "# DataFrame values\n",
    "df = pd.DataFrame({\n",
    "        'col_0': [0, 10, 20],\n",
    "        'col_1': [1, 11, 21]\n",
    "    }, index = ['row_0', 'row_1', 'row_2'])\n",
    "print(df)\n",
    "print(df.values)"
   ]
  },
  {
   "cell_type": "markdown",
   "metadata": {},
   "source": [
    "### DataFrame Transpose"
   ]
  },
  {
   "cell_type": "code",
   "execution_count": 41,
   "metadata": {},
   "outputs": [
    {
     "name": "stdout",
     "output_type": "stream",
     "text": [
      "       col_0  col_1\n",
      "row_0      0      1\n",
      "row_1     10     11\n",
      "row_2     20     21\n",
      "       row_0  row_1  row_2\n",
      "col_0      0     10     20\n",
      "col_1      1     11     21\n"
     ]
    }
   ],
   "source": [
    "df = pd.DataFrame({\n",
    "        'col_0': [0, 10, 20],\n",
    "        'col_1': [1, 11, 21]\n",
    "    }, index = ['row_0', 'row_1', 'row_2'])\n",
    "print(df)\n",
    "print(df.T)"
   ]
  },
  {
   "cell_type": "markdown",
   "metadata": {},
   "source": [
    "### DataFrame Reindexing"
   ]
  },
  {
   "cell_type": "code",
   "execution_count": 45,
   "metadata": {},
   "outputs": [
    {
     "name": "stdout",
     "output_type": "stream",
     "text": [
      "       col_0  col_1\n",
      "row_0      0      1\n",
      "row_1     10     11\n",
      "row_2     20     21\n",
      "       col_0  col_1\n",
      "row_2     20     21\n",
      "row_1     10     11\n",
      "row_0      0      1\n"
     ]
    }
   ],
   "source": [
    "# Reindex rows\n",
    "df = pd.DataFrame({\n",
    "        'col_0': [0, 10, 20],\n",
    "        'col_1': [1, 11, 21]\n",
    "    }, index = ['row_0', 'row_1', 'row_2'])\n",
    "print(df)\n",
    "df_reindexed = df.reindex(index=['row_2', 'row_1', 'row_0'])\n",
    "print(df_reindexed)"
   ]
  },
  {
   "cell_type": "code",
   "execution_count": 46,
   "metadata": {},
   "outputs": [
    {
     "name": "stdout",
     "output_type": "stream",
     "text": [
      "       col_0  col_1\n",
      "row_0      0      1\n",
      "row_1     10     11\n",
      "row_2     20     21\n",
      "       col_1  col_0\n",
      "row_0      1      0\n",
      "row_1     11     10\n",
      "row_2     21     20\n"
     ]
    }
   ],
   "source": [
    "# Reindex columns\n",
    "df = pd.DataFrame({\n",
    "        'col_0': [0, 10, 20],\n",
    "        'col_1': [1, 11, 21]\n",
    "    }, index = ['row_0', 'row_1', 'row_2'])\n",
    "print(df)\n",
    "df_reindexed = df.reindex(columns=['col_1', 'col_0'])\n",
    "print(df_reindexed)"
   ]
  },
  {
   "cell_type": "markdown",
   "metadata": {},
   "source": [
    "### DataFrame Drop Entries"
   ]
  },
  {
   "cell_type": "code",
   "execution_count": 48,
   "metadata": {},
   "outputs": [
    {
     "name": "stdout",
     "output_type": "stream",
     "text": [
      "       col_0  col_1\n",
      "row_0      0      1\n",
      "row_1     10     11\n",
      "row_2     20     21\n",
      "       col_0  col_1\n",
      "row_2     20     21\n"
     ]
    }
   ],
   "source": [
    "# Drop rows\n",
    "df = pd.DataFrame({\n",
    "        'col_0': [0, 10, 20],\n",
    "        'col_1': [1, 11, 21]\n",
    "    }, index = ['row_0', 'row_1', 'row_2'])\n",
    "print(df)\n",
    "df_dropped = df.drop(['row_0', 'row_1'])\n",
    "print(df_dropped)"
   ]
  },
  {
   "cell_type": "code",
   "execution_count": 49,
   "metadata": {},
   "outputs": [
    {
     "name": "stdout",
     "output_type": "stream",
     "text": [
      "       col_0  col_1\n",
      "row_0      0      1\n",
      "row_1     10     11\n",
      "row_2     20     21\n",
      "       col_0\n",
      "row_0      0\n",
      "row_1     10\n",
      "row_2     20\n"
     ]
    }
   ],
   "source": [
    "# Drop columns\n",
    "df = pd.DataFrame({\n",
    "        'col_0': [0, 10, 20],\n",
    "        'col_1': [1, 11, 21]\n",
    "    }, index = ['row_0', 'row_1', 'row_2'])\n",
    "print(df)\n",
    "df_dropped = df.drop('col_1', axis=1)"
   ]
  },
  {
   "cell_type": "markdown",
   "metadata": {},
   "source": [
    "### DataFrame Indexing and Selecting"
   ]
  },
  {
   "cell_type": "markdown",
   "metadata": {},
   "source": [
    "#### Label with .loc"
   ]
  },
  {
   "cell_type": "code",
   "execution_count": 60,
   "metadata": {},
   "outputs": [
    {
     "name": "stdout",
     "output_type": "stream",
     "text": [
      "       col_0  col_1\n",
      "row_0      0      1\n",
      "row_1     10     11\n",
      "row_2     20     21\n",
      "row_0     0\n",
      "row_1    10\n",
      "row_2    20\n",
      "Name: col_0, dtype: int64\n"
     ]
    }
   ],
   "source": [
    "# df.loc[:, col_label] selects columns\n",
    "df = pd.DataFrame({\n",
    "        'col_0': [0, 10, 20],\n",
    "        'col_1': [1, 11, 21]\n",
    "    }, index = ['row_0', 'row_1', 'row_2'])\n",
    "print(df)\n",
    "print(df.loc[:, 'col_0']) "
   ]
  },
  {
   "cell_type": "code",
   "execution_count": 62,
   "metadata": {},
   "outputs": [
    {
     "name": "stdout",
     "output_type": "stream",
     "text": [
      "       col_0  col_1\n",
      "row_0      0      1\n",
      "row_1     10     11\n",
      "row_2     20     21\n",
      "col_0    0\n",
      "col_1    1\n",
      "Name: row_0, dtype: int64\n"
     ]
    }
   ],
   "source": [
    "# df.loc[row_label] selects rows\n",
    "df = pd.DataFrame({\n",
    "        'col_0': [0, 10, 20],\n",
    "        'col_1': [1, 11, 21]\n",
    "    }, index = ['row_0', 'row_1', 'row_2'])\n",
    "print(df)\n",
    "print(df.loc['row_0'])"
   ]
  },
  {
   "cell_type": "markdown",
   "metadata": {},
   "source": [
    "#### Position with .iloc"
   ]
  },
  {
   "cell_type": "code",
   "execution_count": 63,
   "metadata": {},
   "outputs": [
    {
     "name": "stdout",
     "output_type": "stream",
     "text": [
      "       col_0  col_1\n",
      "row_0      0      1\n",
      "row_1     10     11\n",
      "row_2     20     21\n",
      "row_0     0\n",
      "row_1    10\n",
      "row_2    20\n",
      "Name: col_0, dtype: int64\n"
     ]
    }
   ],
   "source": [
    "# df.iloc[:, col_position] selects columns\n",
    "df = pd.DataFrame({\n",
    "        'col_0': [0, 10, 20],\n",
    "        'col_1': [1, 11, 21]\n",
    "    }, index = ['row_0', 'row_1', 'row_2'])\n",
    "print(df)\n",
    "print(df.iloc[:, 0])"
   ]
  },
  {
   "cell_type": "code",
   "execution_count": 64,
   "metadata": {},
   "outputs": [
    {
     "name": "stdout",
     "output_type": "stream",
     "text": [
      "       col_0  col_1\n",
      "row_0      0      1\n",
      "row_1     10     11\n",
      "row_2     20     21\n",
      "df.iloc[row_position] selects rows\n",
      "col_0    0\n",
      "col_1    1\n",
      "Name: row_0, dtype: int64\n"
     ]
    }
   ],
   "source": [
    "# df.iloc[row_position] selects rows\n",
    "df = pd.DataFrame({\n",
    "        'col_0': [0, 10, 20],\n",
    "        'col_1': [1, 11, 21]\n",
    "    }, index = ['row_0', 'row_1', 'row_2'])\n",
    "print(df)\n",
    "print(df.iloc[0])"
   ]
  },
  {
   "cell_type": "markdown",
   "metadata": {},
   "source": [
    "#### Label and Position"
   ]
  },
  {
   "cell_type": "code",
   "execution_count": 76,
   "metadata": {},
   "outputs": [
    {
     "name": "stdout",
     "output_type": "stream",
     "text": [
      "       col_0  col_1\n",
      "row_0      0      1\n",
      "row_1     10     11\n",
      "row_2     20     21\n",
      "21\n"
     ]
    }
   ],
   "source": [
    "# df.loc[df.index[row_position], col_label]\n",
    "df = pd.DataFrame({\n",
    "        'col_0': [0, 10, 20],\n",
    "        'col_1': [1, 11, 21]\n",
    "    }, index = ['row_0', 'row_1', 'row_2'])\n",
    "print(df)\n",
    "print(df.loc[df.index[2], 'col_1'])"
   ]
  },
  {
   "cell_type": "code",
   "execution_count": 77,
   "metadata": {},
   "outputs": [
    {
     "name": "stdout",
     "output_type": "stream",
     "text": [
      "       col_0  col_1\n",
      "row_0      0      1\n",
      "row_1     10     11\n",
      "row_2     20     21\n",
      "21\n"
     ]
    }
   ],
   "source": [
    "# df.loc[row_label, df.colums[col_position]]\n",
    "df = pd.DataFrame({\n",
    "        'col_0': [0, 10, 20],\n",
    "        'col_1': [1, 11, 21]\n",
    "    }, index = ['row_0', 'row_1', 'row_2'])\n",
    "print(df)\n",
    "print(df.loc['row_2', df.columns[1]])"
   ]
  },
  {
   "cell_type": "markdown",
   "metadata": {},
   "source": [
    "#### With [ ]"
   ]
  },
  {
   "cell_type": "code",
   "execution_count": 57,
   "metadata": {},
   "outputs": [
    {
     "name": "stdout",
     "output_type": "stream",
     "text": [
      "       col_0  col_1\n",
      "row_0      0      1\n",
      "row_1     10     11\n",
      "row_2     20     21\n",
      "row_0     0\n",
      "row_1    10\n",
      "row_2    20\n",
      "Name: col_0, dtype: int64\n"
     ]
    }
   ],
   "source": [
    "# df[col_label] selects columns\n",
    "df = pd.DataFrame({\n",
    "        'col_0': [0, 10, 20],\n",
    "        'col_1': [1, 11, 21]\n",
    "    }, index = ['row_0', 'row_1', 'row_2'])\n",
    "print(df)\n",
    "print(df['col_0']) "
   ]
  },
  {
   "cell_type": "code",
   "execution_count": 73,
   "metadata": {},
   "outputs": [
    {
     "name": "stdout",
     "output_type": "stream",
     "text": [
      "       col_0  col_1\n",
      "row_0      0      1\n",
      "row_1     10     11\n",
      "row_2     20     21\n",
      "       col_0  col_1\n",
      "row_1     10     11\n"
     ]
    }
   ],
   "source": [
    "# Convenience 1: [] with a slice to slice rows\n",
    "# df[row_position_slice]\n",
    "df = pd.DataFrame({\n",
    "        'col_0': [0, 10, 20],\n",
    "        'col_1': [1, 11, 21]\n",
    "    }, index = ['row_0', 'row_1', 'row_2'])\n",
    "print(df)\n",
    "print(df[1:2])"
   ]
  },
  {
   "cell_type": "code",
   "execution_count": 80,
   "metadata": {},
   "outputs": [
    {
     "name": "stdout",
     "output_type": "stream",
     "text": [
      "       col_0  col_1\n",
      "row_0      0      1\n",
      "row_1     10     11\n",
      "row_2     20     21\n",
      "row_0    False\n",
      "row_1     True\n",
      "row_2     True\n",
      "Name: col_1, dtype: bool\n",
      "       col_0  col_1\n",
      "row_2     20     21\n"
     ]
    }
   ],
   "source": [
    "# Convenience 2: [] with a boolean array to filter rows\n",
    "df = pd.DataFrame({\n",
    "        'col_0': [0, 10, 20],\n",
    "        'col_1': [1, 11, 21]\n",
    "    }, index = ['row_0', 'row_1', 'row_2'])\n",
    "print(df)\n",
    "print(df['col_1']>10) # Returns a boolean array\n",
    "print(df[df['col_0']>10])"
   ]
  },
  {
   "cell_type": "code",
   "execution_count": 86,
   "metadata": {},
   "outputs": [
    {
     "name": "stdout",
     "output_type": "stream",
     "text": [
      "       col_0  col_1\n",
      "row_0      0      1\n",
      "row_1     10     11\n",
      "row_2     20     21\n",
      "       col_0  col_1\n",
      "row_0  False  False\n",
      "row_1  False   True\n",
      "row_2   True   True\n",
      "       col_0  col_1\n",
      "row_0    NaN    NaN\n",
      "row_1    NaN   11.0\n",
      "row_2   20.0   21.0\n",
      "       col_0  col_1\n",
      "row_0      0      1\n",
      "row_1     10    999\n",
      "row_2    999    999\n"
     ]
    }
   ],
   "source": [
    "# Convenience 3: [] with a boolean DataFrame to filter element\n",
    "df = pd.DataFrame({\n",
    "        'col_0': [0, 10, 20],\n",
    "        'col_1': [1, 11, 21]\n",
    "    }, index = ['row_0', 'row_1', 'row_2'])\n",
    "print(df)\n",
    "print(df>10)\n",
    "print(df[df>10])\n",
    "# This is used to set values elementwise based on some criterion\n",
    "df[df>10] = 999\n",
    "print(df)"
   ]
  },
  {
   "cell_type": "markdown",
   "metadata": {},
   "source": [
    "### DataFrame Sorting"
   ]
  },
  {
   "cell_type": "markdown",
   "metadata": {},
   "source": [
    "#### Sorting by Index"
   ]
  },
  {
   "cell_type": "code",
   "execution_count": 109,
   "metadata": {},
   "outputs": [
    {
     "name": "stdout",
     "output_type": "stream",
     "text": [
      "       col_2  col_1  col_0\n",
      "row_2      0      1      2\n",
      "row_1      3      4      5\n",
      "row_0      6      7      8\n",
      "       col_2  col_1  col_0\n",
      "row_0      6      7      8\n",
      "row_1      3      4      5\n",
      "row_2      0      1      2\n"
     ]
    }
   ],
   "source": [
    "# Sort rows by index\n",
    "df = pd.DataFrame(np.arange(9).reshape((3,3)),\n",
    "                  index=['row_2', 'row_1', 'row_0'],\n",
    "                  columns=['col_2', 'col_1', 'col_0'])\n",
    "print(df)\n",
    "df_sorted = df.sort_index()\n",
    "print(df_sorted)"
   ]
  },
  {
   "cell_type": "code",
   "execution_count": 110,
   "metadata": {},
   "outputs": [
    {
     "name": "stdout",
     "output_type": "stream",
     "text": [
      "       col_2  col_1  col_0\n",
      "row_2      0      1      2\n",
      "row_1      3      4      5\n",
      "row_0      6      7      8\n",
      "       col_0  col_1  col_2\n",
      "row_2      2      1      0\n",
      "row_1      5      4      3\n",
      "row_0      8      7      6\n"
     ]
    }
   ],
   "source": [
    "# Sort columns by index\n",
    "df = pd.DataFrame(np.arange(9).reshape((3,3)),\n",
    "                  index=['row_2', 'row_1', 'row_0'],\n",
    "                  columns=['col_2', 'col_1', 'col_0'])\n",
    "print(df)\n",
    "df_sorted = df.sort_index(axis=1)\n",
    "print(df_sorted)"
   ]
  },
  {
   "cell_type": "markdown",
   "metadata": {},
   "source": [
    "#### Sorting by Values"
   ]
  },
  {
   "cell_type": "code",
   "execution_count": 112,
   "metadata": {
    "scrolled": true
   },
   "outputs": [
    {
     "name": "stdout",
     "output_type": "stream",
     "text": [
      "       col_0  col_1  col_2\n",
      "row_0      8      7      6\n",
      "row_1      5      4      3\n",
      "row_2      2      1      0\n",
      "       col_0  col_1  col_2\n",
      "row_2      2      1      0\n",
      "row_1      5      4      3\n",
      "row_0      8      7      6\n"
     ]
    }
   ],
   "source": [
    "# Sort rows by values\n",
    "df = pd.DataFrame(np.arange(9)[::-1].reshape((3,3)),\n",
    "                  index=['row_0', 'row_1', 'row_2'],\n",
    "                  columns=['col_0', 'col_1', 'col_2'])\n",
    "print(df)\n",
    "df_sorted = df.sort_values(by=['col_0'])\n",
    "print(df_sorted)"
   ]
  },
  {
   "cell_type": "code",
   "execution_count": 114,
   "metadata": {},
   "outputs": [
    {
     "name": "stdout",
     "output_type": "stream",
     "text": [
      "       col_0  col_1  col_2\n",
      "row_0      8      7      6\n",
      "row_1      5      4      3\n",
      "row_2      2      1      0\n",
      "       col_2  col_1  col_0\n",
      "row_0      6      7      8\n",
      "row_1      3      4      5\n",
      "row_2      0      1      2\n"
     ]
    }
   ],
   "source": [
    "# Sort columns by values\n",
    "df = pd.DataFrame(np.arange(9)[::-1].reshape((3,3)),\n",
    "                  index=['row_0', 'row_1', 'row_2'],\n",
    "                  columns=['col_0', 'col_1', 'col_2'])\n",
    "print(df)\n",
    "df_sorted = df.sort_values(by=['row_0'], axis=1)\n",
    "print(df_sorted)"
   ]
  },
  {
   "cell_type": "markdown",
   "metadata": {},
   "source": [
    "### DataFrame Ranking"
   ]
  },
  {
   "cell_type": "code",
   "execution_count": 116,
   "metadata": {},
   "outputs": [
    {
     "name": "stdout",
     "output_type": "stream",
     "text": [
      "   0  1\n",
      "0  3  4\n",
      "1  2  5\n",
      "2  1  4\n",
      "3  0  5\n",
      "     0    1\n",
      "0  4.0  1.0\n",
      "1  3.0  3.0\n",
      "2  2.0  1.0\n",
      "3  1.0  3.0\n"
     ]
    }
   ],
   "source": [
    "df = pd.DataFrame([\n",
    "    [3, 4],\n",
    "    [2, 5],\n",
    "    [1, 4],\n",
    "    [0, 5]\n",
    "])\n",
    "print(df)\n",
    "print(df.rank(method='min'))\n",
    "# Tie-breaking methods with rank:\n",
    "# average: average rank of group\n",
    "# min: lowest rank in group\n",
    "# max: highest rank in group\n",
    "# first: ranks assigned in order they appear in the array\n",
    "# dense: like ‘min’, but rank always increases by 1 between groups"
   ]
  },
  {
   "cell_type": "markdown",
   "metadata": {},
   "source": [
    "### DataFrame Computations"
   ]
  },
  {
   "cell_type": "code",
   "execution_count": 117,
   "metadata": {},
   "outputs": [
    {
     "name": "stdout",
     "output_type": "stream",
     "text": [
      "       col_0  col_1\n",
      "row_0      0      1\n",
      "row_1     10     11\n",
      "row_2     20     21\n",
      "col_0    20\n",
      "col_1    21\n",
      "dtype: int64\n"
     ]
    }
   ],
   "source": [
    "# DataFrame max value\n",
    "df = pd.DataFrame({\n",
    "        'col_0': [0, 10, 20],\n",
    "        'col_1': [1, 11, 21]\n",
    "    }, index = ['row_0', 'row_1', 'row_2'])\n",
    "print(df)\n",
    "print(df.max())"
   ]
  },
  {
   "cell_type": "code",
   "execution_count": 119,
   "metadata": {},
   "outputs": [
    {
     "name": "stdout",
     "output_type": "stream",
     "text": [
      "       col_0  col_1\n",
      "row_0      0      1\n",
      "row_1     10     11\n",
      "row_2     20     21\n",
      "row_0     0\n",
      "row_1    10\n",
      "row_2    20\n",
      "dtype: int64\n"
     ]
    }
   ],
   "source": [
    "# DataFrame min value\n",
    "df = pd.DataFrame({\n",
    "        'col_0': [0, 10, 20],\n",
    "        'col_1': [1, 11, 21]\n",
    "    }, index = ['row_0', 'row_1', 'row_2'])\n",
    "print(df)\n",
    "print(df.min(axis=1))"
   ]
  },
  {
   "cell_type": "code",
   "execution_count": 121,
   "metadata": {},
   "outputs": [
    {
     "name": "stdout",
     "output_type": "stream",
     "text": [
      "       col_0  col_1\n",
      "row_0      0      1\n",
      "row_1     10     11\n",
      "row_2     20     21\n",
      "col_0    row_2\n",
      "col_1    row_2\n",
      "dtype: object\n"
     ]
    }
   ],
   "source": [
    "# DataFrame max label\n",
    "df = pd.DataFrame({\n",
    "        'col_0': [0, 10, 20],\n",
    "        'col_1': [1, 11, 21]\n",
    "    }, index = ['row_0', 'row_1', 'row_2'])\n",
    "print(df)\n",
    "print(df.idxmax())"
   ]
  },
  {
   "cell_type": "code",
   "execution_count": 122,
   "metadata": {},
   "outputs": [
    {
     "name": "stdout",
     "output_type": "stream",
     "text": [
      "       col_0  col_1\n",
      "row_0      0      1\n",
      "row_1     10     11\n",
      "row_2     20     21\n",
      "row_0    col_0\n",
      "row_1    col_0\n",
      "row_2    col_0\n",
      "dtype: object\n"
     ]
    }
   ],
   "source": [
    "# DataFrame min label\n",
    "df = pd.DataFrame({\n",
    "        'col_0': [0, 10, 20],\n",
    "        'col_1': [1, 11, 21]\n",
    "    }, index = ['row_0', 'row_1', 'row_2'])\n",
    "print(df)\n",
    "print(df.idxmin(axis=1))"
   ]
  },
  {
   "cell_type": "code",
   "execution_count": 125,
   "metadata": {},
   "outputs": [
    {
     "name": "stdout",
     "output_type": "stream",
     "text": [
      "       col_0  col_1\n",
      "row_0      0      1\n",
      "row_1     10     11\n",
      "row_2     20     21\n",
      "row_0     0.5\n",
      "row_1    10.5\n",
      "row_2    20.5\n",
      "dtype: float64\n"
     ]
    }
   ],
   "source": [
    "# DataFrame mean\n",
    "df = pd.DataFrame({\n",
    "        'col_0': [0, 10, 20],\n",
    "        'col_1': [1, 11, 21]\n",
    "    }, index = ['row_0', 'row_1', 'row_2'])\n",
    "print(df)\n",
    "print(df.mean(axis=1))"
   ]
  },
  {
   "cell_type": "code",
   "execution_count": 126,
   "metadata": {},
   "outputs": [
    {
     "name": "stdout",
     "output_type": "stream",
     "text": [
      "       col_0  col_1\n",
      "row_0      0      1\n",
      "row_1     10     11\n",
      "row_2     20     21\n",
      "col_0    10.0\n",
      "col_1    11.0\n",
      "dtype: float64\n"
     ]
    }
   ],
   "source": [
    "# DataFrame median\n",
    "df = pd.DataFrame({\n",
    "        'col_0': [0, 10, 20],\n",
    "        'col_1': [1, 11, 21]\n",
    "    }, index = ['row_0', 'row_1', 'row_2'])\n",
    "print(df)\n",
    "print(df.median())"
   ]
  },
  {
   "cell_type": "code",
   "execution_count": 127,
   "metadata": {
    "scrolled": false
   },
   "outputs": [
    {
     "name": "stdout",
     "output_type": "stream",
     "text": [
      "       col_0  col_1\n",
      "row_0      0      1\n",
      "row_1     10     11\n",
      "row_2     20     21\n",
      "col_0    30\n",
      "col_1    33\n",
      "dtype: int64\n"
     ]
    }
   ],
   "source": [
    "# DataFrame sum\n",
    "df = pd.DataFrame({\n",
    "        'col_0': [0, 10, 20],\n",
    "        'col_1': [1, 11, 21]\n",
    "    }, index = ['row_0', 'row_1', 'row_2'])\n",
    "print(df)\n",
    "print(df.sum())"
   ]
  },
  {
   "cell_type": "markdown",
   "metadata": {},
   "source": [
    "### DataFrame Applying Function"
   ]
  },
  {
   "cell_type": "code",
   "execution_count": 89,
   "metadata": {
    "scrolled": true
   },
   "outputs": [
    {
     "name": "stdout",
     "output_type": "stream",
     "text": [
      "       col_0  col_1\n",
      "row_0      0      1\n",
      "row_1     10     11\n",
      "row_2     20     21\n",
      "       col_0  col_1\n",
      "row_0      0      1\n",
      "row_1    100    121\n",
      "row_2    400    441\n"
     ]
    }
   ],
   "source": [
    "# DataFrame element-wise function application\n",
    "df = pd.DataFrame({\n",
    "        'col_0': [0, 10, 20],\n",
    "        'col_1': [1, 11, 21]\n",
    "    }, index = ['row_0', 'row_1', 'row_2'])\n",
    "print(df)\n",
    "print(df.applymap(np.square))"
   ]
  },
  {
   "cell_type": "code",
   "execution_count": 90,
   "metadata": {
    "scrolled": true
   },
   "outputs": [
    {
     "name": "stdout",
     "output_type": "stream",
     "text": [
      "       col_0  col_1\n",
      "row_0      0      1\n",
      "row_1     10     11\n",
      "row_2     20     21\n",
      "col_0    20\n",
      "col_1    20\n",
      "dtype: int64\n"
     ]
    }
   ],
   "source": [
    "# DataFrame column-wise function application\n",
    "df = pd.DataFrame({\n",
    "        'col_0': [0, 10, 20],\n",
    "        'col_1': [1, 11, 21]\n",
    "    }, index = ['row_0', 'row_1', 'row_2'])\n",
    "print(df)\n",
    "print(df.apply(lambda x: x.max() - x.min()))"
   ]
  },
  {
   "cell_type": "code",
   "execution_count": 96,
   "metadata": {
    "scrolled": false
   },
   "outputs": [
    {
     "name": "stdout",
     "output_type": "stream",
     "text": [
      "       col_0  col_1\n",
      "row_0      0      1\n",
      "row_1     10     11\n",
      "row_2     20     21\n",
      "row_0    1\n",
      "row_1    1\n",
      "row_2    1\n",
      "dtype: int64\n"
     ]
    }
   ],
   "source": [
    "# DataFrame row-wise function application\n",
    "df = pd.DataFrame({\n",
    "        'col_0': [0, 10, 20],\n",
    "        'col_1': [1, 11, 21]\n",
    "    }, index = ['row_0', 'row_1', 'row_2'])\n",
    "print(df)\n",
    "print(df.apply(lambda x: x.max() - x.min(), axis=1))"
   ]
  },
  {
   "cell_type": "markdown",
   "metadata": {},
   "source": [
    "### DataFrame Missing Values"
   ]
  },
  {
   "cell_type": "markdown",
   "metadata": {},
   "source": [
    "#### Counting"
   ]
  },
  {
   "cell_type": "code",
   "execution_count": 137,
   "metadata": {},
   "outputs": [
    {
     "name": "stdout",
     "output_type": "stream",
     "text": [
      "       col_0  col_1\n",
      "row_0    0.0    1.0\n",
      "row_1   10.0    NaN\n",
      "row_2    NaN    NaN\n",
      "col_0    2\n",
      "col_1    1\n",
      "dtype: int64\n"
     ]
    }
   ],
   "source": [
    "# Count the number of null values\n",
    "df = pd.DataFrame({\n",
    "        'col_0': [0, 10, np.nan],\n",
    "        'col_1': [1, np.nan, np.nan]\n",
    "    }, index = ['row_0', 'row_1', 'row_2'])\n",
    "print(df)\n",
    "print(df.count())"
   ]
  },
  {
   "cell_type": "markdown",
   "metadata": {},
   "source": [
    "#### Filtering"
   ]
  },
  {
   "cell_type": "code",
   "execution_count": 139,
   "metadata": {},
   "outputs": [
    {
     "name": "stdout",
     "output_type": "stream",
     "text": [
      "       col_0  col_1\n",
      "row_0    0.0    1.0\n",
      "row_1   10.0    NaN\n",
      "row_2    NaN    NaN\n",
      "       col_0  col_1\n",
      "row_0  False  False\n",
      "row_1  False   True\n",
      "row_2   True   True\n"
     ]
    }
   ],
   "source": [
    "# Whether the values are null\n",
    "df = pd.DataFrame({\n",
    "        'col_0': [0, 10, np.nan],\n",
    "        'col_1': [1, np.nan, np.nan]\n",
    "    }, index = ['row_0', 'row_1', 'row_2'])\n",
    "print(df)\n",
    "print(df.isnull())"
   ]
  },
  {
   "cell_type": "code",
   "execution_count": 145,
   "metadata": {},
   "outputs": [
    {
     "name": "stdout",
     "output_type": "stream",
     "text": [
      "       col_0  col_1\n",
      "row_0    0.0    1.0\n",
      "row_1   10.0    NaN\n",
      "row_2    NaN    NaN\n",
      "       col_0  col_1\n",
      "row_0   True   True\n",
      "row_1   True  False\n",
      "row_2  False  False\n"
     ]
    }
   ],
   "source": [
    "# Whether the values are not null\n",
    "df = pd.DataFrame({\n",
    "        'col_0': [0, 10, np.nan],\n",
    "        'col_1': [1, np.nan, np.nan]\n",
    "    }, index = ['row_0', 'row_1', 'row_2'])\n",
    "print(df)\n",
    "print(df.notnull())"
   ]
  },
  {
   "cell_type": "markdown",
   "metadata": {},
   "source": [
    "#### Dropping"
   ]
  },
  {
   "cell_type": "code",
   "execution_count": 146,
   "metadata": {},
   "outputs": [
    {
     "name": "stdout",
     "output_type": "stream",
     "text": [
      "       col_0  col_1\n",
      "row_0    0.0    1.0\n",
      "row_1   10.0    NaN\n",
      "row_2    NaN    NaN\n",
      "       col_0  col_1\n",
      "row_0    0.0    1.0\n"
     ]
    }
   ],
   "source": [
    "# Drop rows with ANY null values\n",
    "df = pd.DataFrame({\n",
    "        'col_0': [0, 10, np.nan],\n",
    "        'col_1': [1, np.nan, np.nan]\n",
    "    }, index = ['row_0', 'row_1', 'row_2'])\n",
    "print(df)\n",
    "df_dropped = df.dropna()\n",
    "print(df_dropped)"
   ]
  },
  {
   "cell_type": "code",
   "execution_count": 147,
   "metadata": {},
   "outputs": [
    {
     "name": "stdout",
     "output_type": "stream",
     "text": [
      "       col_0  col_1\n",
      "row_0    0.0    1.0\n",
      "row_1   10.0    NaN\n",
      "row_2    NaN    NaN\n",
      "       col_0  col_1\n",
      "row_0    0.0    1.0\n",
      "row_1   10.0    NaN\n"
     ]
    }
   ],
   "source": [
    "# Drop rows with ALL null values\n",
    "df = pd.DataFrame({\n",
    "        'col_0': [0, 10, np.nan],\n",
    "        'col_1': [1, np.nan, np.nan]\n",
    "    }, index = ['row_0', 'row_1', 'row_2'])\n",
    "print(df)\n",
    "df_dropped = df.dropna(how='all')\n",
    "print(df_dropped)"
   ]
  },
  {
   "cell_type": "markdown",
   "metadata": {},
   "source": [
    "#### Filling"
   ]
  },
  {
   "cell_type": "code",
   "execution_count": 148,
   "metadata": {},
   "outputs": [
    {
     "name": "stdout",
     "output_type": "stream",
     "text": [
      "       col_0  col_1\n",
      "row_0    0.0    1.0\n",
      "row_1   10.0    NaN\n",
      "row_2    NaN    NaN\n",
      "       col_0  col_1\n",
      "row_0    0.0    1.0\n",
      "row_1   10.0  999.0\n",
      "row_2  999.0  999.0\n"
     ]
    }
   ],
   "source": [
    "# Fill the null values\n",
    "df = pd.DataFrame({\n",
    "        'col_0': [0, 10, np.nan],\n",
    "        'col_1': [1, np.nan, np.nan]\n",
    "    }, index = ['row_0', 'row_1', 'row_2'])\n",
    "print(df)\n",
    "df_filled = df.fillna(999)\n",
    "print(df_filled)"
   ]
  },
  {
   "cell_type": "code",
   "execution_count": 149,
   "metadata": {
    "scrolled": true
   },
   "outputs": [
    {
     "name": "stdout",
     "output_type": "stream",
     "text": [
      "       col_0  col_1\n",
      "row_0    0.0    1.0\n",
      "row_1   10.0    NaN\n",
      "row_2    NaN    NaN\n",
      "       col_0  col_1\n",
      "row_0    0.0    1.0\n",
      "row_1   10.0  888.0\n",
      "row_2  777.0  888.0\n"
     ]
    }
   ],
   "source": [
    "# Fill the null values, column specific\n",
    "df = pd.DataFrame({\n",
    "        'col_0': [0, 10, np.nan],\n",
    "        'col_1': [1, np.nan, np.nan]\n",
    "    }, index = ['row_0', 'row_1', 'row_2'])\n",
    "print(df)\n",
    "df_filled = df.fillna({'col_0': 777, 'col_1': 888})\n",
    "print(df_filled)"
   ]
  }
 ],
 "metadata": {
  "kernelspec": {
   "display_name": "Python 3",
   "language": "python",
   "name": "python3"
  },
  "language_info": {
   "codemirror_mode": {
    "name": "ipython",
    "version": 3
   },
   "file_extension": ".py",
   "mimetype": "text/x-python",
   "name": "python",
   "nbconvert_exporter": "python",
   "pygments_lexer": "ipython3",
   "version": "3.6.2"
  }
 },
 "nbformat": 4,
 "nbformat_minor": 2
}
