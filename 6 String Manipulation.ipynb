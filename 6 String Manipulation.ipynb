{
 "cells": [
  {
   "cell_type": "markdown",
   "metadata": {},
   "source": [
    "# 6 String Manipulation"
   ]
  },
  {
   "cell_type": "code",
   "execution_count": 1,
   "metadata": {
    "collapsed": true
   },
   "outputs": [],
   "source": [
    "import pandas as pd"
   ]
  },
  {
   "cell_type": "markdown",
   "metadata": {},
   "source": [
    "## Vectorized String Method"
   ]
  },
  {
   "cell_type": "markdown",
   "metadata": {},
   "source": [
    "### Uppercase"
   ]
  },
  {
   "cell_type": "code",
   "execution_count": 2,
   "metadata": {},
   "outputs": [
    {
     "name": "stdout",
     "output_type": "stream",
     "text": [
      "0     Apple\n",
      "1    Banana\n",
      "2    Orange\n",
      "dtype: object\n",
      "0     APPLE\n",
      "1    BANANA\n",
      "2    ORANGE\n",
      "dtype: object\n"
     ]
    }
   ],
   "source": [
    "s = pd.Series(['Apple', 'Banana', 'Orange'])\n",
    "print(s)\n",
    "print(s.str.upper())"
   ]
  },
  {
   "cell_type": "markdown",
   "metadata": {},
   "source": [
    "### Lowercase"
   ]
  },
  {
   "cell_type": "code",
   "execution_count": 3,
   "metadata": {},
   "outputs": [
    {
     "name": "stdout",
     "output_type": "stream",
     "text": [
      "0     Apple\n",
      "1    Banana\n",
      "2    Orange\n",
      "dtype: object\n",
      "0     apple\n",
      "1    banana\n",
      "2    orange\n",
      "dtype: object\n"
     ]
    }
   ],
   "source": [
    "s = pd.Series(['Apple', 'Banana', 'Orange'])\n",
    "print(s)\n",
    "print(s.str.lower())"
   ]
  },
  {
   "cell_type": "markdown",
   "metadata": {},
   "source": [
    "### String Length"
   ]
  },
  {
   "cell_type": "code",
   "execution_count": 4,
   "metadata": {},
   "outputs": [
    {
     "name": "stdout",
     "output_type": "stream",
     "text": [
      "0     Apple\n",
      "1    Banana\n",
      "2    Orange\n",
      "dtype: object\n",
      "0    5\n",
      "1    6\n",
      "2    6\n",
      "dtype: int64\n"
     ]
    }
   ],
   "source": [
    "s = pd.Series(['Apple', 'Banana', 'Orange'])\n",
    "print(s)\n",
    "print(s.str.len())"
   ]
  },
  {
   "cell_type": "markdown",
   "metadata": {},
   "source": [
    "### Trimming Whitespace"
   ]
  },
  {
   "cell_type": "code",
   "execution_count": 10,
   "metadata": {},
   "outputs": [
    {
     "name": "stdout",
     "output_type": "stream",
     "text": [
      "Index(['none', '   left', 'right   ', '   both   '], dtype='object')\n",
      "Index(['none', 'left', 'right', 'both'], dtype='object')\n",
      "Index(['none', 'left', 'right   ', 'both   '], dtype='object')\n",
      "Index(['none', '   left', 'right', '   both'], dtype='object')\n"
     ]
    }
   ],
   "source": [
    "s = pd.Index(['none', '   left', 'right   ', '   both   '])\n",
    "print(s)\n",
    "# strip trims both sides\n",
    "print(s.str.strip())\n",
    "# lstrip trims left side\n",
    "print(s.str.lstrip())\n",
    "# rstrip trims right side\n",
    "print(s.str.rstrip())"
   ]
  },
  {
   "cell_type": "markdown",
   "metadata": {},
   "source": [
    "### Index of Found Substring"
   ]
  },
  {
   "cell_type": "code",
   "execution_count": 16,
   "metadata": {},
   "outputs": [
    {
     "name": "stdout",
     "output_type": "stream",
     "text": [
      "0     Apple\n",
      "1    Banana\n",
      "2    Orange\n",
      "dtype: object\n",
      "0   -1\n",
      "1    1\n",
      "2    2\n",
      "dtype: int64\n"
     ]
    }
   ],
   "source": [
    "# find\n",
    "# Returns lowest indexes in each strings\n",
    "# Returns -1 on failure\n",
    "s = pd.Series(['Apple', 'Banana', 'Orange'])\n",
    "print(s)\n",
    "print(s.str.find('a'))"
   ]
  },
  {
   "cell_type": "code",
   "execution_count": 17,
   "metadata": {},
   "outputs": [
    {
     "name": "stdout",
     "output_type": "stream",
     "text": [
      "0     Apple\n",
      "1    Banana\n",
      "2    Orange\n",
      "dtype: object\n"
     ]
    }
   ],
   "source": [
    "# index\n",
    "# Returns lowest indexes in each strings\n",
    "# Raises ValueError on failure\n",
    "s = pd.Series(['Apple', 'Banana', 'Orange'])\n",
    "print(s)\n",
    "# print(s.str.index('a')) #Uncomment this line will raise ValueError"
   ]
  },
  {
   "cell_type": "markdown",
   "metadata": {},
   "source": [
    "### Replacing"
   ]
  },
  {
   "cell_type": "code",
   "execution_count": 23,
   "metadata": {},
   "outputs": [
    {
     "name": "stdout",
     "output_type": "stream",
     "text": [
      "0     Apple\n",
      "1    Banana\n",
      "2    Orange\n",
      "dtype: object\n",
      "0     Apple\n",
      "1    B@n@n@\n",
      "2    Or@nge\n",
      "dtype: object\n"
     ]
    }
   ],
   "source": [
    "s = pd.Series(['Apple', 'Banana', 'Orange'])\n",
    "print(s)\n",
    "print(s.str.replace('a', '@'))"
   ]
  },
  {
   "cell_type": "markdown",
   "metadata": {},
   "source": [
    "### Splitting "
   ]
  },
  {
   "cell_type": "code",
   "execution_count": 18,
   "metadata": {},
   "outputs": [
    {
     "name": "stdout",
     "output_type": "stream",
     "text": [
      "0    a_b_c\n",
      "1      d_e\n",
      "dtype: object\n",
      "0    [a, b, c]\n",
      "1       [d, e]\n",
      "dtype: object\n"
     ]
    }
   ],
   "source": [
    "s = pd.Series(['a_b_c', 'd_e'])\n",
    "print(s)\n",
    "print(s.str.split('_'))"
   ]
  },
  {
   "cell_type": "code",
   "execution_count": 19,
   "metadata": {},
   "outputs": [
    {
     "name": "stdout",
     "output_type": "stream",
     "text": [
      "0    a_b_c\n",
      "1      d_e\n",
      "dtype: object\n",
      "   0  1     2\n",
      "0  a  b     c\n",
      "1  d  e  None\n"
     ]
    }
   ],
   "source": [
    "s = pd.Series(['a_b_c', 'd_e'])\n",
    "print(s)\n",
    "print(s.str.split('_', expand=True)) # Expanding into DataFrame"
   ]
  },
  {
   "cell_type": "markdown",
   "metadata": {},
   "source": [
    "### Joining"
   ]
  },
  {
   "cell_type": "code",
   "execution_count": 22,
   "metadata": {
    "scrolled": true
   },
   "outputs": [
    {
     "name": "stdout",
     "output_type": "stream",
     "text": [
      "0    [a, b, c]\n",
      "1       [d, e]\n",
      "dtype: object\n",
      "0    a_b_c\n",
      "1      d_e\n",
      "dtype: object\n"
     ]
    }
   ],
   "source": [
    "s = pd.Series([['a', 'b', 'c'], ['d', 'e']])\n",
    "print(s)\n",
    "print(s.str.join('_'))"
   ]
  },
  {
   "cell_type": "markdown",
   "metadata": {},
   "source": [
    "## Vectorized String Method with Regular Expressions"
   ]
  },
  {
   "cell_type": "markdown",
   "metadata": {},
   "source": [
    "### Counting Matched Pattern"
   ]
  },
  {
   "cell_type": "code",
   "execution_count": 24,
   "metadata": {},
   "outputs": [
    {
     "name": "stdout",
     "output_type": "stream",
     "text": [
      "0       1\n",
      "1      a2\n",
      "2     3b4\n",
      "3    c5d6\n",
      "dtype: object\n",
      "0    0\n",
      "1    1\n",
      "2    1\n",
      "3    2\n",
      "dtype: int64\n"
     ]
    }
   ],
   "source": [
    "pattern = r'[a-z][0-9]'\n",
    "s = pd.Series(['1', 'a2', '3b4', 'c5d6'])\n",
    "print(s)\n",
    "print(s.str.count(pattern))"
   ]
  },
  {
   "cell_type": "markdown",
   "metadata": {},
   "source": [
    "### Finding Pattern"
   ]
  },
  {
   "cell_type": "code",
   "execution_count": 27,
   "metadata": {
    "scrolled": true
   },
   "outputs": [
    {
     "name": "stdout",
     "output_type": "stream",
     "text": [
      "0       1\n",
      "1      a2\n",
      "2     3b4\n",
      "3    c5d6\n",
      "dtype: object\n",
      "0    False\n",
      "1     True\n",
      "2     True\n",
      "3     True\n",
      "dtype: bool\n"
     ]
    }
   ],
   "source": [
    "# Contains relies on re.search, and matches any part of the string\n",
    "pattern = r'[a-z][0-9]'\n",
    "s = pd.Series(['1', 'a2', '3b4', 'c5d6'])\n",
    "print(s)\n",
    "print(s.str.contains(pattern))"
   ]
  },
  {
   "cell_type": "code",
   "execution_count": 28,
   "metadata": {},
   "outputs": [
    {
     "name": "stdout",
     "output_type": "stream",
     "text": [
      "0       1\n",
      "1      a2\n",
      "2     3b4\n",
      "3    c5d6\n",
      "dtype: object\n",
      "0    False\n",
      "1     True\n",
      "2    False\n",
      "3     True\n",
      "dtype: bool\n"
     ]
    }
   ],
   "source": [
    "# Match relies on re.match, and matches only the beginning of the string\n",
    "pattern = r'[a-z][0-9]'\n",
    "s = pd.Series(['1', 'a2', '3b4', 'c5d6'])\n",
    "print(s)\n",
    "print(s.str.match(pattern))"
   ]
  },
  {
   "cell_type": "code",
   "execution_count": 29,
   "metadata": {},
   "outputs": [
    {
     "name": "stdout",
     "output_type": "stream",
     "text": [
      "0       1\n",
      "1      a2\n",
      "2     3b4\n",
      "3    c5d6\n",
      "dtype: object\n",
      "0          []\n",
      "1        [a2]\n",
      "2        [b4]\n",
      "3    [c5, d6]\n",
      "dtype: object\n"
     ]
    }
   ],
   "source": [
    "# Finding all occurrences of pattern\n",
    "pattern = r'[a-z][0-9]'\n",
    "s = pd.Series(['1', 'a2', '3b4', 'c5d6'])\n",
    "print(s)\n",
    "print(s.str.findall(pattern))"
   ]
  },
  {
   "cell_type": "markdown",
   "metadata": {},
   "source": [
    "### Extracting Matched Pattern"
   ]
  },
  {
   "cell_type": "code",
   "execution_count": 39,
   "metadata": {},
   "outputs": [
    {
     "name": "stdout",
     "output_type": "stream",
     "text": [
      "0       1\n",
      "1      a2\n",
      "2     3b4\n",
      "3    c5d6\n",
      "dtype: object\n",
      "  col_0 col_1\n",
      "0   NaN   NaN\n",
      "1     a     2\n",
      "2     b     4\n",
      "3     c     5\n"
     ]
    }
   ],
   "source": [
    "# Extract groups from the first matched patterns\n",
    "pattern='(?P<col_0>[a-z])(?P<col_1>[0-9])'\n",
    "s = pd.Series(['1', 'a2', '3b4', 'c5d6'])\n",
    "print(s)\n",
    "print(s.str.extract(pattern, expand=True))"
   ]
  },
  {
   "cell_type": "code",
   "execution_count": 37,
   "metadata": {},
   "outputs": [
    {
     "name": "stdout",
     "output_type": "stream",
     "text": [
      "0       1\n",
      "1      a2\n",
      "2     3b4\n",
      "3    c5d6\n",
      "dtype: object\n",
      "        col_0 col_1\n",
      "  match            \n",
      "1 0         a     2\n",
      "2 0         b     4\n",
      "3 0         c     5\n",
      "  1         d     6\n"
     ]
    }
   ],
   "source": [
    "# Extract groups from all matched patterns\n",
    "pattern='(?P<col_0>[a-z])(?P<col_1>[0-9])'\n",
    "s = pd.Series(['1', 'a2', '3b4', 'c5d6'])\n",
    "print(s)\n",
    "print(s.str.extractall(pattern))"
   ]
  }
 ],
 "metadata": {
  "kernelspec": {
   "display_name": "Python 3",
   "language": "python",
   "name": "python3"
  },
  "language_info": {
   "codemirror_mode": {
    "name": "ipython",
    "version": 3
   },
   "file_extension": ".py",
   "mimetype": "text/x-python",
   "name": "python",
   "nbconvert_exporter": "python",
   "pygments_lexer": "ipython3",
   "version": "3.6.2"
  }
 },
 "nbformat": 4,
 "nbformat_minor": 2
}
