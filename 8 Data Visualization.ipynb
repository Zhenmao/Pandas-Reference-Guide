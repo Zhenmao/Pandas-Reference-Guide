{
 "cells": [
  {
   "cell_type": "markdown",
   "metadata": {},
   "source": [
    "# 8 Data Visualization"
   ]
  },
  {
   "cell_type": "code",
   "execution_count": 193,
   "metadata": {},
   "outputs": [
    {
     "name": "stdout",
     "output_type": "stream",
     "text": [
      "Populating the interactive namespace from numpy and matplotlib\n"
     ]
    }
   ],
   "source": [
    "import pandas as pd\n",
    "import numpy as np\n",
    "import matplotlib.pyplot as plt\n",
    "%pylab inline\n",
    "matplotlib.rcParams['figure.figsize'] = (8, 6)"
   ]
  },
  {
   "cell_type": "markdown",
   "metadata": {},
   "source": [
    "Data source: [CO2 emissions (kt) from World Bank](https://data.worldbank.org/indicator/EN.ATM.CO2E.KT)"
   ]
  },
  {
   "cell_type": "code",
   "execution_count": 125,
   "metadata": {},
   "outputs": [
    {
     "data": {
      "text/html": [
       "<div>\n",
       "<style>\n",
       "    .dataframe thead tr:only-child th {\n",
       "        text-align: right;\n",
       "    }\n",
       "\n",
       "    .dataframe thead th {\n",
       "        text-align: left;\n",
       "    }\n",
       "\n",
       "    .dataframe tbody tr th {\n",
       "        vertical-align: top;\n",
       "    }\n",
       "</style>\n",
       "<table border=\"1\" class=\"dataframe\">\n",
       "  <thead>\n",
       "    <tr style=\"text-align: right;\">\n",
       "      <th></th>\n",
       "      <th>Country Name</th>\n",
       "      <th>1960</th>\n",
       "      <th>1961</th>\n",
       "      <th>1962</th>\n",
       "      <th>1963</th>\n",
       "      <th>1964</th>\n",
       "      <th>1965</th>\n",
       "      <th>1966</th>\n",
       "      <th>1967</th>\n",
       "      <th>1968</th>\n",
       "      <th>...</th>\n",
       "      <th>2005</th>\n",
       "      <th>2006</th>\n",
       "      <th>2007</th>\n",
       "      <th>2008</th>\n",
       "      <th>2009</th>\n",
       "      <th>2010</th>\n",
       "      <th>2011</th>\n",
       "      <th>2012</th>\n",
       "      <th>2013</th>\n",
       "      <th>2014</th>\n",
       "    </tr>\n",
       "    <tr>\n",
       "      <th>Country Code</th>\n",
       "      <th></th>\n",
       "      <th></th>\n",
       "      <th></th>\n",
       "      <th></th>\n",
       "      <th></th>\n",
       "      <th></th>\n",
       "      <th></th>\n",
       "      <th></th>\n",
       "      <th></th>\n",
       "      <th></th>\n",
       "      <th></th>\n",
       "      <th></th>\n",
       "      <th></th>\n",
       "      <th></th>\n",
       "      <th></th>\n",
       "      <th></th>\n",
       "      <th></th>\n",
       "      <th></th>\n",
       "      <th></th>\n",
       "      <th></th>\n",
       "      <th></th>\n",
       "    </tr>\n",
       "  </thead>\n",
       "  <tbody>\n",
       "    <tr>\n",
       "      <th>ABW</th>\n",
       "      <td>Aruba</td>\n",
       "      <td>NaN</td>\n",
       "      <td>NaN</td>\n",
       "      <td>NaN</td>\n",
       "      <td>NaN</td>\n",
       "      <td>NaN</td>\n",
       "      <td>NaN</td>\n",
       "      <td>NaN</td>\n",
       "      <td>NaN</td>\n",
       "      <td>NaN</td>\n",
       "      <td>...</td>\n",
       "      <td>2720.914</td>\n",
       "      <td>2717.247</td>\n",
       "      <td>2823.590</td>\n",
       "      <td>2658.575</td>\n",
       "      <td>2629.239</td>\n",
       "      <td>2508.228</td>\n",
       "      <td>2500.894</td>\n",
       "      <td>1349.456</td>\n",
       "      <td>861.745</td>\n",
       "      <td>872.746</td>\n",
       "    </tr>\n",
       "    <tr>\n",
       "      <th>AFG</th>\n",
       "      <td>Afghanistan</td>\n",
       "      <td>414.371</td>\n",
       "      <td>491.378</td>\n",
       "      <td>689.396</td>\n",
       "      <td>707.731</td>\n",
       "      <td>839.743</td>\n",
       "      <td>1008.425</td>\n",
       "      <td>1092.766</td>\n",
       "      <td>1283.450</td>\n",
       "      <td>1224.778</td>\n",
       "      <td>...</td>\n",
       "      <td>1327.454</td>\n",
       "      <td>1650.150</td>\n",
       "      <td>2273.540</td>\n",
       "      <td>4206.049</td>\n",
       "      <td>6769.282</td>\n",
       "      <td>8463.436</td>\n",
       "      <td>12240.446</td>\n",
       "      <td>10755.311</td>\n",
       "      <td>10014.577</td>\n",
       "      <td>9809.225</td>\n",
       "    </tr>\n",
       "    <tr>\n",
       "      <th>AGO</th>\n",
       "      <td>Angola</td>\n",
       "      <td>550.050</td>\n",
       "      <td>454.708</td>\n",
       "      <td>1180.774</td>\n",
       "      <td>1151.438</td>\n",
       "      <td>1224.778</td>\n",
       "      <td>1188.108</td>\n",
       "      <td>1554.808</td>\n",
       "      <td>993.757</td>\n",
       "      <td>1672.152</td>\n",
       "      <td>...</td>\n",
       "      <td>19156.408</td>\n",
       "      <td>22266.024</td>\n",
       "      <td>25151.953</td>\n",
       "      <td>25709.337</td>\n",
       "      <td>27792.193</td>\n",
       "      <td>29057.308</td>\n",
       "      <td>30340.758</td>\n",
       "      <td>33399.036</td>\n",
       "      <td>32617.965</td>\n",
       "      <td>34763.160</td>\n",
       "    </tr>\n",
       "    <tr>\n",
       "      <th>ALB</th>\n",
       "      <td>Albania</td>\n",
       "      <td>2024.184</td>\n",
       "      <td>2280.874</td>\n",
       "      <td>2464.224</td>\n",
       "      <td>2082.856</td>\n",
       "      <td>2016.850</td>\n",
       "      <td>2174.531</td>\n",
       "      <td>2552.232</td>\n",
       "      <td>2680.577</td>\n",
       "      <td>3072.946</td>\n",
       "      <td>...</td>\n",
       "      <td>4253.720</td>\n",
       "      <td>3898.021</td>\n",
       "      <td>3927.357</td>\n",
       "      <td>4374.731</td>\n",
       "      <td>4378.398</td>\n",
       "      <td>4598.418</td>\n",
       "      <td>5240.143</td>\n",
       "      <td>4910.113</td>\n",
       "      <td>5064.127</td>\n",
       "      <td>5716.853</td>\n",
       "    </tr>\n",
       "    <tr>\n",
       "      <th>AND</th>\n",
       "      <td>Andorra</td>\n",
       "      <td>NaN</td>\n",
       "      <td>NaN</td>\n",
       "      <td>NaN</td>\n",
       "      <td>NaN</td>\n",
       "      <td>NaN</td>\n",
       "      <td>NaN</td>\n",
       "      <td>NaN</td>\n",
       "      <td>NaN</td>\n",
       "      <td>NaN</td>\n",
       "      <td>...</td>\n",
       "      <td>575.719</td>\n",
       "      <td>546.383</td>\n",
       "      <td>539.049</td>\n",
       "      <td>539.049</td>\n",
       "      <td>517.047</td>\n",
       "      <td>517.047</td>\n",
       "      <td>491.378</td>\n",
       "      <td>487.711</td>\n",
       "      <td>476.710</td>\n",
       "      <td>462.042</td>\n",
       "    </tr>\n",
       "  </tbody>\n",
       "</table>\n",
       "<p>5 rows × 56 columns</p>\n",
       "</div>"
      ],
      "text/plain": [
       "             Country Name      1960      1961      1962      1963      1964  \\\n",
       "Country Code                                                                  \n",
       "ABW                 Aruba       NaN       NaN       NaN       NaN       NaN   \n",
       "AFG           Afghanistan   414.371   491.378   689.396   707.731   839.743   \n",
       "AGO                Angola   550.050   454.708  1180.774  1151.438  1224.778   \n",
       "ALB               Albania  2024.184  2280.874  2464.224  2082.856  2016.850   \n",
       "AND               Andorra       NaN       NaN       NaN       NaN       NaN   \n",
       "\n",
       "                  1965      1966      1967      1968    ...           2005  \\\n",
       "Country Code                                            ...                  \n",
       "ABW                NaN       NaN       NaN       NaN    ...       2720.914   \n",
       "AFG           1008.425  1092.766  1283.450  1224.778    ...       1327.454   \n",
       "AGO           1188.108  1554.808   993.757  1672.152    ...      19156.408   \n",
       "ALB           2174.531  2552.232  2680.577  3072.946    ...       4253.720   \n",
       "AND                NaN       NaN       NaN       NaN    ...        575.719   \n",
       "\n",
       "                   2006       2007       2008       2009       2010  \\\n",
       "Country Code                                                          \n",
       "ABW            2717.247   2823.590   2658.575   2629.239   2508.228   \n",
       "AFG            1650.150   2273.540   4206.049   6769.282   8463.436   \n",
       "AGO           22266.024  25151.953  25709.337  27792.193  29057.308   \n",
       "ALB            3898.021   3927.357   4374.731   4378.398   4598.418   \n",
       "AND             546.383    539.049    539.049    517.047    517.047   \n",
       "\n",
       "                   2011       2012       2013       2014  \n",
       "Country Code                                              \n",
       "ABW            2500.894   1349.456    861.745    872.746  \n",
       "AFG           12240.446  10755.311  10014.577   9809.225  \n",
       "AGO           30340.758  33399.036  32617.965  34763.160  \n",
       "ALB            5240.143   4910.113   5064.127   5716.853  \n",
       "AND             491.378    487.711    476.710    462.042  \n",
       "\n",
       "[5 rows x 56 columns]"
      ]
     },
     "execution_count": 125,
     "metadata": {},
     "output_type": "execute_result"
    }
   ],
   "source": [
    "df_co2_data = pd.read_csv(\"API_EN.ATM.CO2E.KT_DS2_en_csv_v2.csv\", skiprows=4)\n",
    "df_co2_data = df_co2_data.set_index('Country Code').drop(['Indicator Name', 'Indicator Code', '2015', '2016', 'Unnamed: 61'], axis=1)\n",
    "df_co2_data.head()"
   ]
  },
  {
   "cell_type": "code",
   "execution_count": 156,
   "metadata": {
    "scrolled": true
   },
   "outputs": [
    {
     "data": {
      "text/html": [
       "<div>\n",
       "<style>\n",
       "    .dataframe thead tr:only-child th {\n",
       "        text-align: right;\n",
       "    }\n",
       "\n",
       "    .dataframe thead th {\n",
       "        text-align: left;\n",
       "    }\n",
       "\n",
       "    .dataframe tbody tr th {\n",
       "        vertical-align: top;\n",
       "    }\n",
       "</style>\n",
       "<table border=\"1\" class=\"dataframe\">\n",
       "  <thead>\n",
       "    <tr style=\"text-align: right;\">\n",
       "      <th></th>\n",
       "      <th>Region</th>\n",
       "      <th>IncomeGroup</th>\n",
       "      <th>TableName</th>\n",
       "    </tr>\n",
       "    <tr>\n",
       "      <th>Country Code</th>\n",
       "      <th></th>\n",
       "      <th></th>\n",
       "      <th></th>\n",
       "    </tr>\n",
       "  </thead>\n",
       "  <tbody>\n",
       "    <tr>\n",
       "      <th>ABW</th>\n",
       "      <td>Latin America &amp; Caribbean</td>\n",
       "      <td>High income</td>\n",
       "      <td>Aruba</td>\n",
       "    </tr>\n",
       "    <tr>\n",
       "      <th>AFG</th>\n",
       "      <td>South Asia</td>\n",
       "      <td>Low income</td>\n",
       "      <td>Afghanistan</td>\n",
       "    </tr>\n",
       "    <tr>\n",
       "      <th>AGO</th>\n",
       "      <td>Sub-Saharan Africa</td>\n",
       "      <td>Lower middle income</td>\n",
       "      <td>Angola</td>\n",
       "    </tr>\n",
       "    <tr>\n",
       "      <th>ALB</th>\n",
       "      <td>Europe &amp; Central Asia</td>\n",
       "      <td>Upper middle income</td>\n",
       "      <td>Albania</td>\n",
       "    </tr>\n",
       "    <tr>\n",
       "      <th>AND</th>\n",
       "      <td>Europe &amp; Central Asia</td>\n",
       "      <td>High income</td>\n",
       "      <td>Andorra</td>\n",
       "    </tr>\n",
       "    <tr>\n",
       "      <th>ARB</th>\n",
       "      <td>NaN</td>\n",
       "      <td>NaN</td>\n",
       "      <td>Arab World</td>\n",
       "    </tr>\n",
       "    <tr>\n",
       "      <th>ARE</th>\n",
       "      <td>Middle East &amp; North Africa</td>\n",
       "      <td>High income</td>\n",
       "      <td>United Arab Emirates</td>\n",
       "    </tr>\n",
       "    <tr>\n",
       "      <th>ARG</th>\n",
       "      <td>Latin America &amp; Caribbean</td>\n",
       "      <td>Upper middle income</td>\n",
       "      <td>Argentina</td>\n",
       "    </tr>\n",
       "    <tr>\n",
       "      <th>ARM</th>\n",
       "      <td>Europe &amp; Central Asia</td>\n",
       "      <td>Lower middle income</td>\n",
       "      <td>Armenia</td>\n",
       "    </tr>\n",
       "    <tr>\n",
       "      <th>ASM</th>\n",
       "      <td>East Asia &amp; Pacific</td>\n",
       "      <td>Upper middle income</td>\n",
       "      <td>American Samoa</td>\n",
       "    </tr>\n",
       "  </tbody>\n",
       "</table>\n",
       "</div>"
      ],
      "text/plain": [
       "                                  Region          IncomeGroup  \\\n",
       "Country Code                                                    \n",
       "ABW            Latin America & Caribbean          High income   \n",
       "AFG                           South Asia           Low income   \n",
       "AGO                   Sub-Saharan Africa  Lower middle income   \n",
       "ALB                Europe & Central Asia  Upper middle income   \n",
       "AND                Europe & Central Asia          High income   \n",
       "ARB                                  NaN                  NaN   \n",
       "ARE           Middle East & North Africa          High income   \n",
       "ARG            Latin America & Caribbean  Upper middle income   \n",
       "ARM                Europe & Central Asia  Lower middle income   \n",
       "ASM                  East Asia & Pacific  Upper middle income   \n",
       "\n",
       "                         TableName  \n",
       "Country Code                        \n",
       "ABW                          Aruba  \n",
       "AFG                    Afghanistan  \n",
       "AGO                         Angola  \n",
       "ALB                        Albania  \n",
       "AND                        Andorra  \n",
       "ARB                     Arab World  \n",
       "ARE           United Arab Emirates  \n",
       "ARG                      Argentina  \n",
       "ARM                        Armenia  \n",
       "ASM                 American Samoa  "
      ]
     },
     "execution_count": 156,
     "metadata": {},
     "output_type": "execute_result"
    }
   ],
   "source": [
    "df_all_regions = pd.read_csv(\"Metadata_Country_API_EN.ATM.CO2E.KT_DS2_en_csv_v2.csv\")\n",
    "df_all_regions = df_all_regions.set_index('Country Code').drop(['SpecialNotes', 'Unnamed: 5'], axis=1)\n",
    "df_all_regions.head(10)"
   ]
  },
  {
   "cell_type": "code",
   "execution_count": 162,
   "metadata": {},
   "outputs": [],
   "source": [
    "country_codes = df_all_regions.dropna().index"
   ]
  },
  {
   "cell_type": "markdown",
   "metadata": {},
   "source": [
    "Pre-defined styles provided by matplotlib"
   ]
  },
  {
   "cell_type": "code",
   "execution_count": 4,
   "metadata": {},
   "outputs": [
    {
     "name": "stdout",
     "output_type": "stream",
     "text": [
      "['seaborn-dark', 'seaborn-darkgrid', 'seaborn-ticks', 'fivethirtyeight', 'seaborn-whitegrid', 'classic', '_classic_test', 'seaborn-talk', 'seaborn-dark-palette', 'seaborn-bright', 'seaborn-pastel', 'grayscale', 'seaborn-notebook', 'ggplot', 'seaborn-colorblind', 'seaborn-muted', 'seaborn', 'seaborn-paper', 'bmh', 'seaborn-white', 'dark_background', 'seaborn-poster', 'seaborn-deep']\n"
     ]
    }
   ],
   "source": [
    "print(plt.style.available)"
   ]
  },
  {
   "cell_type": "code",
   "execution_count": 117,
   "metadata": {
    "collapsed": true
   },
   "outputs": [],
   "source": [
    "plt.style.use('fivethirtyeight')"
   ]
  },
  {
   "cell_type": "markdown",
   "metadata": {},
   "source": [
    "## Pandas Plot Types\n",
    "\n",
    "| kind      | Chart Type                   |\n",
    "|-----------|------------------------------|\n",
    "| 'line'    | Line plot                    |\n",
    "| 'bar'     | Vertical bar plot            |\n",
    "| 'barh'    | Horizontal bar plot          |\n",
    "| 'hist'    | Histogram                    |\n",
    "| 'box'     | Boxplot                      |\n",
    "| 'density' | Kernel Density Estimate plot |\n",
    "| 'area'    | Area plot                    |\n",
    "| 'pie'     | Pie chart                    |\n",
    "| 'scatter' | Scatter plot                 |\n",
    "| 'hexbin'  | Hexbin plot                  |"
   ]
  },
  {
   "cell_type": "markdown",
   "metadata": {},
   "source": [
    "## Line Plot"
   ]
  },
  {
   "cell_type": "code",
   "execution_count": 136,
   "metadata": {},
   "outputs": [
    {
     "data": {
      "text/html": [
       "<div>\n",
       "<style>\n",
       "    .dataframe thead tr:only-child th {\n",
       "        text-align: right;\n",
       "    }\n",
       "\n",
       "    .dataframe thead th {\n",
       "        text-align: left;\n",
       "    }\n",
       "\n",
       "    .dataframe tbody tr th {\n",
       "        vertical-align: top;\n",
       "    }\n",
       "</style>\n",
       "<table border=\"1\" class=\"dataframe\">\n",
       "  <thead>\n",
       "    <tr style=\"text-align: right;\">\n",
       "      <th></th>\n",
       "      <th>Year</th>\n",
       "      <th>WLD</th>\n",
       "      <th>CHN</th>\n",
       "      <th>USA</th>\n",
       "    </tr>\n",
       "  </thead>\n",
       "  <tbody>\n",
       "    <tr>\n",
       "      <th>0</th>\n",
       "      <td>1960</td>\n",
       "      <td>9.396706e+06</td>\n",
       "      <td>780726.302</td>\n",
       "      <td>2890696.100</td>\n",
       "    </tr>\n",
       "    <tr>\n",
       "      <th>1</th>\n",
       "      <td>1961</td>\n",
       "      <td>9.434403e+06</td>\n",
       "      <td>552066.850</td>\n",
       "      <td>2880505.507</td>\n",
       "    </tr>\n",
       "    <tr>\n",
       "      <th>2</th>\n",
       "      <td>1962</td>\n",
       "      <td>9.818840e+06</td>\n",
       "      <td>440359.029</td>\n",
       "      <td>2987207.873</td>\n",
       "    </tr>\n",
       "    <tr>\n",
       "      <th>3</th>\n",
       "      <td>1963</td>\n",
       "      <td>1.035575e+07</td>\n",
       "      <td>436695.696</td>\n",
       "      <td>3119230.874</td>\n",
       "    </tr>\n",
       "    <tr>\n",
       "      <th>4</th>\n",
       "      <td>1964</td>\n",
       "      <td>1.094701e+07</td>\n",
       "      <td>436923.050</td>\n",
       "      <td>3255995.306</td>\n",
       "    </tr>\n",
       "  </tbody>\n",
       "</table>\n",
       "</div>"
      ],
      "text/plain": [
       "   Year           WLD         CHN          USA\n",
       "0  1960  9.396706e+06  780726.302  2890696.100\n",
       "1  1961  9.434403e+06  552066.850  2880505.507\n",
       "2  1962  9.818840e+06  440359.029  2987207.873\n",
       "3  1963  1.035575e+07  436695.696  3119230.874\n",
       "4  1964  1.094701e+07  436923.050  3255995.306"
      ]
     },
     "execution_count": 136,
     "metadata": {},
     "output_type": "execute_result"
    }
   ],
   "source": [
    "df_wide = df_co2_data.loc[['WLD', 'CHN', 'USA'], df_co2_data.columns[1:]].T\n",
    "df_wide = df_wide.rename_axis('Year').reset_index().rename_axis('', axis=1)\n",
    "df_wide.head()"
   ]
  },
  {
   "cell_type": "code",
   "execution_count": 222,
   "metadata": {},
   "outputs": [
    {
     "data": {
      "text/plain": [
       "<matplotlib.axes._subplots.AxesSubplot at 0x11ea6ec18>"
      ]
     },
     "execution_count": 222,
     "metadata": {},
     "output_type": "execute_result"
    },
    {
     "data": {
      "image/png": "[encoded data removed]",
      "text/plain": [
       "<matplotlib.figure.Figure at 0x11eadcf60>"
      ]
     },
     "metadata": {},
     "output_type": "display_data"
    }
   ],
   "source": [
    "df_wide.plot(x='Year', y='WLD', kind='line', title='World CO2 Emmision')"
   ]
  },
  {
   "cell_type": "code",
   "execution_count": 205,
   "metadata": {},
   "outputs": [
    {
     "data": {
      "text/plain": [
       "<matplotlib.axes._subplots.AxesSubplot at 0x11e48b9e8>"
      ]
     },
     "execution_count": 205,
     "metadata": {},
     "output_type": "execute_result"
    },
    {
     "data": {
      "image/png": "[encoded data removed]",
      "text/plain": [
       "<matplotlib.figure.Figure at 0x11e593320>"
      ]
     },
     "metadata": {},
     "output_type": "display_data"
    }
   ],
   "source": [
    "df_wide.plot(x='Year', y=['WLD', 'CHN', 'USA'], kind='line', title='World, China, United States CO2 Emmision')"
   ]
  },
  {
   "cell_type": "code",
   "execution_count": 140,
   "metadata": {},
   "outputs": [
    {
     "data": {
      "text/html": [
       "<div>\n",
       "<style>\n",
       "    .dataframe thead tr:only-child th {\n",
       "        text-align: right;\n",
       "    }\n",
       "\n",
       "    .dataframe thead th {\n",
       "        text-align: left;\n",
       "    }\n",
       "\n",
       "    .dataframe tbody tr th {\n",
       "        vertical-align: top;\n",
       "    }\n",
       "</style>\n",
       "<table border=\"1\" class=\"dataframe\">\n",
       "  <thead>\n",
       "    <tr style=\"text-align: right;\">\n",
       "      <th></th>\n",
       "      <th>Country Code</th>\n",
       "      <th>Year</th>\n",
       "      <th>CO2</th>\n",
       "    </tr>\n",
       "  </thead>\n",
       "  <tbody>\n",
       "    <tr>\n",
       "      <th>0</th>\n",
       "      <td>WLD</td>\n",
       "      <td>1960</td>\n",
       "      <td>9.396706e+06</td>\n",
       "    </tr>\n",
       "    <tr>\n",
       "      <th>1</th>\n",
       "      <td>WLD</td>\n",
       "      <td>1961</td>\n",
       "      <td>9.434403e+06</td>\n",
       "    </tr>\n",
       "    <tr>\n",
       "      <th>2</th>\n",
       "      <td>WLD</td>\n",
       "      <td>1962</td>\n",
       "      <td>9.818840e+06</td>\n",
       "    </tr>\n",
       "    <tr>\n",
       "      <th>3</th>\n",
       "      <td>WLD</td>\n",
       "      <td>1963</td>\n",
       "      <td>1.035575e+07</td>\n",
       "    </tr>\n",
       "    <tr>\n",
       "      <th>4</th>\n",
       "      <td>WLD</td>\n",
       "      <td>1964</td>\n",
       "      <td>1.094701e+07</td>\n",
       "    </tr>\n",
       "  </tbody>\n",
       "</table>\n",
       "</div>"
      ],
      "text/plain": [
       "  Country Code  Year           CO2\n",
       "0          WLD  1960  9.396706e+06\n",
       "1          WLD  1961  9.434403e+06\n",
       "2          WLD  1962  9.818840e+06\n",
       "3          WLD  1963  1.035575e+07\n",
       "4          WLD  1964  1.094701e+07"
      ]
     },
     "execution_count": 140,
     "metadata": {},
     "output_type": "execute_result"
    }
   ],
   "source": [
    "df_long = df_co2_data.loc[['WLD', 'CHN', 'USA'], df_co2_data.columns[1:]].T\n",
    "df_long = df_long.unstack().reset_index().rename(columns={'level_1': 'Year', 0: 'CO2'})\n",
    "df_long.head()"
   ]
  },
  {
   "cell_type": "code",
   "execution_count": 206,
   "metadata": {},
   "outputs": [
    {
     "data": {
      "text/plain": [
       "<matplotlib.legend.Legend at 0x11e2ca4e0>"
      ]
     },
     "execution_count": 206,
     "metadata": {},
     "output_type": "execute_result"
    },
    {
     "data": {
      "image/png": "[encoded data removed]",
      "text/plain": [
       "<matplotlib.figure.Figure at 0x11e2ca8d0>"
      ]
     },
     "metadata": {},
     "output_type": "display_data"
    }
   ],
   "source": [
    "fig, ax = plt.subplots()\n",
    "df_long.groupby('Country Code').plot(x='Year', y='CO2', kind='line', ax=ax, title='World, China, United States CO2 Emmision')\n",
    "plt.legend(['WLD', 'CHN', 'USA'])"
   ]
  },
  {
   "cell_type": "markdown",
   "metadata": {},
   "source": [
    "## Vertical bar plot"
   ]
  },
  {
   "cell_type": "code",
   "execution_count": 172,
   "metadata": {},
   "outputs": [
    {
     "data": {
      "text/html": [
       "<div>\n",
       "<style>\n",
       "    .dataframe thead tr:only-child th {\n",
       "        text-align: right;\n",
       "    }\n",
       "\n",
       "    .dataframe thead th {\n",
       "        text-align: left;\n",
       "    }\n",
       "\n",
       "    .dataframe tbody tr th {\n",
       "        vertical-align: top;\n",
       "    }\n",
       "</style>\n",
       "<table border=\"1\" class=\"dataframe\">\n",
       "  <thead>\n",
       "    <tr style=\"text-align: right;\">\n",
       "      <th></th>\n",
       "      <th>Country Name</th>\n",
       "      <th>2014</th>\n",
       "    </tr>\n",
       "    <tr>\n",
       "      <th>Country Code</th>\n",
       "      <th></th>\n",
       "      <th></th>\n",
       "    </tr>\n",
       "  </thead>\n",
       "  <tbody>\n",
       "    <tr>\n",
       "      <th>CHN</th>\n",
       "      <td>China</td>\n",
       "      <td>1.029193e+07</td>\n",
       "    </tr>\n",
       "    <tr>\n",
       "      <th>USA</th>\n",
       "      <td>United States</td>\n",
       "      <td>5.254279e+06</td>\n",
       "    </tr>\n",
       "    <tr>\n",
       "      <th>IND</th>\n",
       "      <td>India</td>\n",
       "      <td>2.238377e+06</td>\n",
       "    </tr>\n",
       "    <tr>\n",
       "      <th>RUS</th>\n",
       "      <td>Russian Federation</td>\n",
       "      <td>1.705346e+06</td>\n",
       "    </tr>\n",
       "    <tr>\n",
       "      <th>JPN</th>\n",
       "      <td>Japan</td>\n",
       "      <td>1.214048e+06</td>\n",
       "    </tr>\n",
       "  </tbody>\n",
       "</table>\n",
       "</div>"
      ],
      "text/plain": [
       "                    Country Name          2014\n",
       "Country Code                                  \n",
       "CHN                        China  1.029193e+07\n",
       "USA                United States  5.254279e+06\n",
       "IND                        India  2.238377e+06\n",
       "RUS           Russian Federation  1.705346e+06\n",
       "JPN                        Japan  1.214048e+06"
      ]
     },
     "execution_count": 172,
     "metadata": {},
     "output_type": "execute_result"
    }
   ],
   "source": [
    "df_top5 = df_co2_data.loc[country_codes, ['Country Name', '2014']].sort_values(by='2014', ascending=False).iloc[:5]\n",
    "df_top5"
   ]
  },
  {
   "cell_type": "code",
   "execution_count": 208,
   "metadata": {},
   "outputs": [
    {
     "data": {
      "text/plain": [
       "<matplotlib.axes._subplots.AxesSubplot at 0x11dda2c18>"
      ]
     },
     "execution_count": 208,
     "metadata": {},
     "output_type": "execute_result"
    },
    {
     "data": {
      "image/png": "[encoded data removed]",
      "text/plain": [
       "<matplotlib.figure.Figure at 0x11b4b1198>"
      ]
     },
     "metadata": {},
     "output_type": "display_data"
    }
   ],
   "source": [
    "df_top5.plot(x='Country Name', y='2014', kind='bar', title='World Top 5 CO2 Emmision Countries in 2014', legend=False)"
   ]
  },
  {
   "cell_type": "markdown",
   "metadata": {},
   "source": [
    "## Horizontal Bar Plot"
   ]
  },
  {
   "cell_type": "code",
   "execution_count": 238,
   "metadata": {},
   "outputs": [
    {
     "data": {
      "text/html": [
       "<div>\n",
       "<style>\n",
       "    .dataframe thead tr:only-child th {\n",
       "        text-align: right;\n",
       "    }\n",
       "\n",
       "    .dataframe thead th {\n",
       "        text-align: left;\n",
       "    }\n",
       "\n",
       "    .dataframe tbody tr th {\n",
       "        vertical-align: top;\n",
       "    }\n",
       "</style>\n",
       "<table border=\"1\" class=\"dataframe\">\n",
       "  <thead>\n",
       "    <tr style=\"text-align: right;\">\n",
       "      <th></th>\n",
       "      <th>Country Name</th>\n",
       "      <th>2014</th>\n",
       "    </tr>\n",
       "    <tr>\n",
       "      <th>Country Code</th>\n",
       "      <th></th>\n",
       "      <th></th>\n",
       "    </tr>\n",
       "  </thead>\n",
       "  <tbody>\n",
       "    <tr>\n",
       "      <th>CAN</th>\n",
       "      <td>Canada</td>\n",
       "      <td>5.371935e+05</td>\n",
       "    </tr>\n",
       "    <tr>\n",
       "      <th>KOR</th>\n",
       "      <td>Korea, Rep.</td>\n",
       "      <td>5.871564e+05</td>\n",
       "    </tr>\n",
       "    <tr>\n",
       "      <th>SAU</th>\n",
       "      <td>Saudi Arabia</td>\n",
       "      <td>6.010470e+05</td>\n",
       "    </tr>\n",
       "    <tr>\n",
       "      <th>IRN</th>\n",
       "      <td>Iran, Islamic Rep.</td>\n",
       "      <td>6.494807e+05</td>\n",
       "    </tr>\n",
       "    <tr>\n",
       "      <th>DEU</th>\n",
       "      <td>Germany</td>\n",
       "      <td>7.198834e+05</td>\n",
       "    </tr>\n",
       "    <tr>\n",
       "      <th>JPN</th>\n",
       "      <td>Japan</td>\n",
       "      <td>1.214048e+06</td>\n",
       "    </tr>\n",
       "    <tr>\n",
       "      <th>RUS</th>\n",
       "      <td>Russian Federation</td>\n",
       "      <td>1.705346e+06</td>\n",
       "    </tr>\n",
       "    <tr>\n",
       "      <th>IND</th>\n",
       "      <td>India</td>\n",
       "      <td>2.238377e+06</td>\n",
       "    </tr>\n",
       "    <tr>\n",
       "      <th>USA</th>\n",
       "      <td>United States</td>\n",
       "      <td>5.254279e+06</td>\n",
       "    </tr>\n",
       "    <tr>\n",
       "      <th>CHN</th>\n",
       "      <td>China</td>\n",
       "      <td>1.029193e+07</td>\n",
       "    </tr>\n",
       "  </tbody>\n",
       "</table>\n",
       "</div>"
      ],
      "text/plain": [
       "                    Country Name          2014\n",
       "Country Code                                  \n",
       "CAN                       Canada  5.371935e+05\n",
       "KOR                  Korea, Rep.  5.871564e+05\n",
       "SAU                 Saudi Arabia  6.010470e+05\n",
       "IRN           Iran, Islamic Rep.  6.494807e+05\n",
       "DEU                      Germany  7.198834e+05\n",
       "JPN                        Japan  1.214048e+06\n",
       "RUS           Russian Federation  1.705346e+06\n",
       "IND                        India  2.238377e+06\n",
       "USA                United States  5.254279e+06\n",
       "CHN                        China  1.029193e+07"
      ]
     },
     "execution_count": 238,
     "metadata": {},
     "output_type": "execute_result"
    }
   ],
   "source": [
    "df_top10 = df_co2_data.loc[country_codes, ['Country Name', '2014']].sort_values(by='2014', na_position='first')[-10:]\n",
    "df_top10"
   ]
  },
  {
   "cell_type": "code",
   "execution_count": 239,
   "metadata": {},
   "outputs": [
    {
     "data": {
      "text/plain": [
       "<matplotlib.axes._subplots.AxesSubplot at 0x11f56e080>"
      ]
     },
     "execution_count": 239,
     "metadata": {},
     "output_type": "execute_result"
    },
    {
     "data": {
      "image/png": "[encoded data removed]",
      "text/plain": [
       "<matplotlib.figure.Figure at 0x11f2354e0>"
      ]
     },
     "metadata": {},
     "output_type": "display_data"
    }
   ],
   "source": [
    "df_top10.plot(x='Country Name', y='2014', kind='barh', title='World Top 10 CO2 Emmision Countries in 2014', legend=False)"
   ]
  },
  {
   "cell_type": "code",
   "execution_count": null,
   "metadata": {
    "collapsed": true
   },
   "outputs": [],
   "source": []
  }
 ],
 "metadata": {
  "kernelspec": {
   "display_name": "Python 3",
   "language": "python",
   "name": "python3"
  },
  "language_info": {
   "codemirror_mode": {
    "name": "ipython",
    "version": 3
   },
   "file_extension": ".py",
   "mimetype": "text/x-python",
   "name": "python",
   "nbconvert_exporter": "python",
   "pygments_lexer": "ipython3",
   "version": "3.6.2"
  }
 },
 "nbformat": 4,
 "nbformat_minor": 2
}
