{
 "cells": [
  {
   "cell_type": "markdown",
   "metadata": {},
   "source": [
    "# 8 Data Visualization"
   ]
  },
  {
   "cell_type": "code",
   "execution_count": 3,
   "metadata": {
    "collapsed": true
   },
   "outputs": [],
   "source": [
    "import pandas as pd\n",
    "import numpy as np\n",
    "import matplotlib.pyplot as plt"
   ]
  },
  {
   "cell_type": "markdown",
   "metadata": {},
   "source": [
    "Data source: [CO2 emissions (kt) from World Bank](https://data.worldbank.org/indicator/EN.ATM.CO2E.KT)"
   ]
  },
  {
   "cell_type": "code",
   "execution_count": 10,
   "metadata": {},
   "outputs": [
    {
     "data": {
      "text/html": [
       "<div>\n",
       "<style>\n",
       "    .dataframe thead tr:only-child th {\n",
       "        text-align: right;\n",
       "    }\n",
       "\n",
       "    .dataframe thead th {\n",
       "        text-align: left;\n",
       "    }\n",
       "\n",
       "    .dataframe tbody tr th {\n",
       "        vertical-align: top;\n",
       "    }\n",
       "</style>\n",
       "<table border=\"1\" class=\"dataframe\">\n",
       "  <thead>\n",
       "    <tr style=\"text-align: right;\">\n",
       "      <th></th>\n",
       "      <th>Country Name</th>\n",
       "      <th>Country Code</th>\n",
       "      <th>Indicator Name</th>\n",
       "      <th>Indicator Code</th>\n",
       "      <th>1960</th>\n",
       "      <th>1961</th>\n",
       "      <th>1962</th>\n",
       "      <th>1963</th>\n",
       "      <th>1964</th>\n",
       "      <th>1965</th>\n",
       "      <th>...</th>\n",
       "      <th>2008</th>\n",
       "      <th>2009</th>\n",
       "      <th>2010</th>\n",
       "      <th>2011</th>\n",
       "      <th>2012</th>\n",
       "      <th>2013</th>\n",
       "      <th>2014</th>\n",
       "      <th>2015</th>\n",
       "      <th>2016</th>\n",
       "      <th>Unnamed: 61</th>\n",
       "    </tr>\n",
       "  </thead>\n",
       "  <tbody>\n",
       "    <tr>\n",
       "      <th>0</th>\n",
       "      <td>Aruba</td>\n",
       "      <td>ABW</td>\n",
       "      <td>CO2 emissions (metric tons per capita)</td>\n",
       "      <td>EN.ATM.CO2E.PC</td>\n",
       "      <td>NaN</td>\n",
       "      <td>NaN</td>\n",
       "      <td>NaN</td>\n",
       "      <td>NaN</td>\n",
       "      <td>NaN</td>\n",
       "      <td>NaN</td>\n",
       "      <td>...</td>\n",
       "      <td>26.230847</td>\n",
       "      <td>25.915833</td>\n",
       "      <td>24.670529</td>\n",
       "      <td>24.505835</td>\n",
       "      <td>13.155542</td>\n",
       "      <td>8.351294</td>\n",
       "      <td>8.408363</td>\n",
       "      <td>NaN</td>\n",
       "      <td>NaN</td>\n",
       "      <td>NaN</td>\n",
       "    </tr>\n",
       "    <tr>\n",
       "      <th>1</th>\n",
       "      <td>Afghanistan</td>\n",
       "      <td>AFG</td>\n",
       "      <td>CO2 emissions (metric tons per capita)</td>\n",
       "      <td>EN.ATM.CO2E.PC</td>\n",
       "      <td>0.046060</td>\n",
       "      <td>0.053604</td>\n",
       "      <td>0.073765</td>\n",
       "      <td>0.074233</td>\n",
       "      <td>0.086292</td>\n",
       "      <td>0.101467</td>\n",
       "      <td>...</td>\n",
       "      <td>0.154101</td>\n",
       "      <td>0.241723</td>\n",
       "      <td>0.293837</td>\n",
       "      <td>0.412017</td>\n",
       "      <td>0.350371</td>\n",
       "      <td>0.315602</td>\n",
       "      <td>0.299445</td>\n",
       "      <td>NaN</td>\n",
       "      <td>NaN</td>\n",
       "      <td>NaN</td>\n",
       "    </tr>\n",
       "    <tr>\n",
       "      <th>2</th>\n",
       "      <td>Angola</td>\n",
       "      <td>AGO</td>\n",
       "      <td>CO2 emissions (metric tons per capita)</td>\n",
       "      <td>EN.ATM.CO2E.PC</td>\n",
       "      <td>0.097472</td>\n",
       "      <td>0.079038</td>\n",
       "      <td>0.201289</td>\n",
       "      <td>0.192535</td>\n",
       "      <td>0.201003</td>\n",
       "      <td>0.191528</td>\n",
       "      <td>...</td>\n",
       "      <td>1.181527</td>\n",
       "      <td>1.232495</td>\n",
       "      <td>1.243406</td>\n",
       "      <td>1.252789</td>\n",
       "      <td>1.330843</td>\n",
       "      <td>1.254617</td>\n",
       "      <td>1.291328</td>\n",
       "      <td>NaN</td>\n",
       "      <td>NaN</td>\n",
       "      <td>NaN</td>\n",
       "    </tr>\n",
       "    <tr>\n",
       "      <th>3</th>\n",
       "      <td>Albania</td>\n",
       "      <td>ALB</td>\n",
       "      <td>CO2 emissions (metric tons per capita)</td>\n",
       "      <td>EN.ATM.CO2E.PC</td>\n",
       "      <td>1.258195</td>\n",
       "      <td>1.374186</td>\n",
       "      <td>1.439956</td>\n",
       "      <td>1.181681</td>\n",
       "      <td>1.111742</td>\n",
       "      <td>1.166099</td>\n",
       "      <td>...</td>\n",
       "      <td>1.484311</td>\n",
       "      <td>1.495600</td>\n",
       "      <td>1.578574</td>\n",
       "      <td>1.803715</td>\n",
       "      <td>1.692908</td>\n",
       "      <td>1.749211</td>\n",
       "      <td>1.978763</td>\n",
       "      <td>NaN</td>\n",
       "      <td>NaN</td>\n",
       "      <td>NaN</td>\n",
       "    </tr>\n",
       "    <tr>\n",
       "      <th>4</th>\n",
       "      <td>Andorra</td>\n",
       "      <td>AND</td>\n",
       "      <td>CO2 emissions (metric tons per capita)</td>\n",
       "      <td>EN.ATM.CO2E.PC</td>\n",
       "      <td>NaN</td>\n",
       "      <td>NaN</td>\n",
       "      <td>NaN</td>\n",
       "      <td>NaN</td>\n",
       "      <td>NaN</td>\n",
       "      <td>NaN</td>\n",
       "      <td>...</td>\n",
       "      <td>6.427887</td>\n",
       "      <td>6.121652</td>\n",
       "      <td>6.122595</td>\n",
       "      <td>5.867130</td>\n",
       "      <td>5.916597</td>\n",
       "      <td>5.900753</td>\n",
       "      <td>5.832170</td>\n",
       "      <td>NaN</td>\n",
       "      <td>NaN</td>\n",
       "      <td>NaN</td>\n",
       "    </tr>\n",
       "  </tbody>\n",
       "</table>\n",
       "<p>5 rows × 62 columns</p>\n",
       "</div>"
      ],
      "text/plain": [
       "  Country Name Country Code                          Indicator Name  \\\n",
       "0        Aruba          ABW  CO2 emissions (metric tons per capita)   \n",
       "1  Afghanistan          AFG  CO2 emissions (metric tons per capita)   \n",
       "2       Angola          AGO  CO2 emissions (metric tons per capita)   \n",
       "3      Albania          ALB  CO2 emissions (metric tons per capita)   \n",
       "4      Andorra          AND  CO2 emissions (metric tons per capita)   \n",
       "\n",
       "   Indicator Code      1960      1961      1962      1963      1964      1965  \\\n",
       "0  EN.ATM.CO2E.PC       NaN       NaN       NaN       NaN       NaN       NaN   \n",
       "1  EN.ATM.CO2E.PC  0.046060  0.053604  0.073765  0.074233  0.086292  0.101467   \n",
       "2  EN.ATM.CO2E.PC  0.097472  0.079038  0.201289  0.192535  0.201003  0.191528   \n",
       "3  EN.ATM.CO2E.PC  1.258195  1.374186  1.439956  1.181681  1.111742  1.166099   \n",
       "4  EN.ATM.CO2E.PC       NaN       NaN       NaN       NaN       NaN       NaN   \n",
       "\n",
       "      ...            2008       2009       2010       2011       2012  \\\n",
       "0     ...       26.230847  25.915833  24.670529  24.505835  13.155542   \n",
       "1     ...        0.154101   0.241723   0.293837   0.412017   0.350371   \n",
       "2     ...        1.181527   1.232495   1.243406   1.252789   1.330843   \n",
       "3     ...        1.484311   1.495600   1.578574   1.803715   1.692908   \n",
       "4     ...        6.427887   6.121652   6.122595   5.867130   5.916597   \n",
       "\n",
       "       2013      2014  2015  2016  Unnamed: 61  \n",
       "0  8.351294  8.408363   NaN   NaN          NaN  \n",
       "1  0.315602  0.299445   NaN   NaN          NaN  \n",
       "2  1.254617  1.291328   NaN   NaN          NaN  \n",
       "3  1.749211  1.978763   NaN   NaN          NaN  \n",
       "4  5.900753  5.832170   NaN   NaN          NaN  \n",
       "\n",
       "[5 rows x 62 columns]"
      ]
     },
     "execution_count": 10,
     "metadata": {},
     "output_type": "execute_result"
    }
   ],
   "source": [
    "df_co2_data = pd.read_csv('API_EN.ATM.CO2E.KT_DS2_en_csv_v2', skiprows=4)\n",
    "df_co2_data.head()"
   ]
  },
  {
   "cell_type": "markdown",
   "metadata": {},
   "source": [
    "Pre-defined styles provided by matplotlib"
   ]
  },
  {
   "cell_type": "code",
   "execution_count": 4,
   "metadata": {},
   "outputs": [
    {
     "name": "stdout",
     "output_type": "stream",
     "text": [
      "['seaborn-dark', 'seaborn-darkgrid', 'seaborn-ticks', 'fivethirtyeight', 'seaborn-whitegrid', 'classic', '_classic_test', 'seaborn-talk', 'seaborn-dark-palette', 'seaborn-bright', 'seaborn-pastel', 'grayscale', 'seaborn-notebook', 'ggplot', 'seaborn-colorblind', 'seaborn-muted', 'seaborn', 'seaborn-paper', 'bmh', 'seaborn-white', 'dark_background', 'seaborn-poster', 'seaborn-deep']\n"
     ]
    }
   ],
   "source": [
    "print(plt.style.available)"
   ]
  },
  {
   "cell_type": "code",
   "execution_count": 5,
   "metadata": {
    "collapsed": true
   },
   "outputs": [],
   "source": [
    "plt.style.use('fivethirtyeight')"
   ]
  },
  {
   "cell_type": "markdown",
   "metadata": {},
   "source": [
    "## Pandas Plot Types\n",
    "\n",
    "| kind      | Chart Type                   |\n",
    "|-----------|------------------------------|\n",
    "| 'line'    | Line plot                    |\n",
    "| 'bar'     | Horizontal bar plot          |\n",
    "| 'barh'    | Vertical bar plot            |\n",
    "| 'hist'    | Histogram                    |\n",
    "| 'box'     | Boxplot                      |\n",
    "| 'density' | Kernel Density Estimate plot |\n",
    "| 'area'    | Area plot                    |\n",
    "| 'pie'     | Pie chart                    |\n",
    "| 'scatter' | Scatter plot                 |\n",
    "| 'hexbin'  | Hexbin plot                  |"
   ]
  }
 ],
 "metadata": {
  "kernelspec": {
   "display_name": "Python 3",
   "language": "python",
   "name": "python3"
  },
  "language_info": {
   "codemirror_mode": {
    "name": "ipython",
    "version": 3
   },
   "file_extension": ".py",
   "mimetype": "text/x-python",
   "name": "python",
   "nbconvert_exporter": "python",
   "pygments_lexer": "ipython3",
   "version": "3.6.2"
  }
 },
 "nbformat": 4,
 "nbformat_minor": 2
}
