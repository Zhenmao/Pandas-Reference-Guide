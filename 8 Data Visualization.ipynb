{
 "cells": [
  {
   "cell_type": "markdown",
   "metadata": {},
   "source": [
    "# 8 Data Visualization"
   ]
  },
  {
   "cell_type": "code",
   "execution_count": 240,
   "metadata": {},
   "outputs": [
    {
     "name": "stdout",
     "output_type": "stream",
     "text": [
      "Populating the interactive namespace from numpy and matplotlib\n"
     ]
    }
   ],
   "source": [
    "import pandas as pd\n",
    "import numpy as np\n",
    "import matplotlib.pyplot as plt\n",
    "%pylab inline\n",
    "pylab.rcParams['figure.figsize'] = (8, 6)"
   ]
  },
  {
   "cell_type": "markdown",
   "metadata": {},
   "source": [
    "Data source: [CO2 emissions (kt) from World Bank](https://data.worldbank.org/indicator/EN.ATM.CO2E.KT)"
   ]
  },
  {
   "cell_type": "code",
   "execution_count": 241,
   "metadata": {},
   "outputs": [
    {
     "data": {
      "text/html": [
       "<div>\n",
       "<style>\n",
       "    .dataframe thead tr:only-child th {\n",
       "        text-align: right;\n",
       "    }\n",
       "\n",
       "    .dataframe thead th {\n",
       "        text-align: left;\n",
       "    }\n",
       "\n",
       "    .dataframe tbody tr th {\n",
       "        vertical-align: top;\n",
       "    }\n",
       "</style>\n",
       "<table border=\"1\" class=\"dataframe\">\n",
       "  <thead>\n",
       "    <tr style=\"text-align: right;\">\n",
       "      <th></th>\n",
       "      <th>Country Name</th>\n",
       "      <th>1960</th>\n",
       "      <th>1961</th>\n",
       "      <th>1962</th>\n",
       "      <th>1963</th>\n",
       "      <th>1964</th>\n",
       "      <th>1965</th>\n",
       "      <th>1966</th>\n",
       "      <th>1967</th>\n",
       "      <th>1968</th>\n",
       "      <th>...</th>\n",
       "      <th>2005</th>\n",
       "      <th>2006</th>\n",
       "      <th>2007</th>\n",
       "      <th>2008</th>\n",
       "      <th>2009</th>\n",
       "      <th>2010</th>\n",
       "      <th>2011</th>\n",
       "      <th>2012</th>\n",
       "      <th>2013</th>\n",
       "      <th>2014</th>\n",
       "    </tr>\n",
       "    <tr>\n",
       "      <th>Country Code</th>\n",
       "      <th></th>\n",
       "      <th></th>\n",
       "      <th></th>\n",
       "      <th></th>\n",
       "      <th></th>\n",
       "      <th></th>\n",
       "      <th></th>\n",
       "      <th></th>\n",
       "      <th></th>\n",
       "      <th></th>\n",
       "      <th></th>\n",
       "      <th></th>\n",
       "      <th></th>\n",
       "      <th></th>\n",
       "      <th></th>\n",
       "      <th></th>\n",
       "      <th></th>\n",
       "      <th></th>\n",
       "      <th></th>\n",
       "      <th></th>\n",
       "      <th></th>\n",
       "    </tr>\n",
       "  </thead>\n",
       "  <tbody>\n",
       "    <tr>\n",
       "      <th>ABW</th>\n",
       "      <td>Aruba</td>\n",
       "      <td>NaN</td>\n",
       "      <td>NaN</td>\n",
       "      <td>NaN</td>\n",
       "      <td>NaN</td>\n",
       "      <td>NaN</td>\n",
       "      <td>NaN</td>\n",
       "      <td>NaN</td>\n",
       "      <td>NaN</td>\n",
       "      <td>NaN</td>\n",
       "      <td>...</td>\n",
       "      <td>2720.914</td>\n",
       "      <td>2717.247</td>\n",
       "      <td>2823.590</td>\n",
       "      <td>2658.575</td>\n",
       "      <td>2629.239</td>\n",
       "      <td>2508.228</td>\n",
       "      <td>2500.894</td>\n",
       "      <td>1349.456</td>\n",
       "      <td>861.745</td>\n",
       "      <td>872.746</td>\n",
       "    </tr>\n",
       "    <tr>\n",
       "      <th>AFG</th>\n",
       "      <td>Afghanistan</td>\n",
       "      <td>414.371</td>\n",
       "      <td>491.378</td>\n",
       "      <td>689.396</td>\n",
       "      <td>707.731</td>\n",
       "      <td>839.743</td>\n",
       "      <td>1008.425</td>\n",
       "      <td>1092.766</td>\n",
       "      <td>1283.450</td>\n",
       "      <td>1224.778</td>\n",
       "      <td>...</td>\n",
       "      <td>1327.454</td>\n",
       "      <td>1650.150</td>\n",
       "      <td>2273.540</td>\n",
       "      <td>4206.049</td>\n",
       "      <td>6769.282</td>\n",
       "      <td>8463.436</td>\n",
       "      <td>12240.446</td>\n",
       "      <td>10755.311</td>\n",
       "      <td>10014.577</td>\n",
       "      <td>9809.225</td>\n",
       "    </tr>\n",
       "    <tr>\n",
       "      <th>AGO</th>\n",
       "      <td>Angola</td>\n",
       "      <td>550.050</td>\n",
       "      <td>454.708</td>\n",
       "      <td>1180.774</td>\n",
       "      <td>1151.438</td>\n",
       "      <td>1224.778</td>\n",
       "      <td>1188.108</td>\n",
       "      <td>1554.808</td>\n",
       "      <td>993.757</td>\n",
       "      <td>1672.152</td>\n",
       "      <td>...</td>\n",
       "      <td>19156.408</td>\n",
       "      <td>22266.024</td>\n",
       "      <td>25151.953</td>\n",
       "      <td>25709.337</td>\n",
       "      <td>27792.193</td>\n",
       "      <td>29057.308</td>\n",
       "      <td>30340.758</td>\n",
       "      <td>33399.036</td>\n",
       "      <td>32617.965</td>\n",
       "      <td>34763.160</td>\n",
       "    </tr>\n",
       "    <tr>\n",
       "      <th>ALB</th>\n",
       "      <td>Albania</td>\n",
       "      <td>2024.184</td>\n",
       "      <td>2280.874</td>\n",
       "      <td>2464.224</td>\n",
       "      <td>2082.856</td>\n",
       "      <td>2016.850</td>\n",
       "      <td>2174.531</td>\n",
       "      <td>2552.232</td>\n",
       "      <td>2680.577</td>\n",
       "      <td>3072.946</td>\n",
       "      <td>...</td>\n",
       "      <td>4253.720</td>\n",
       "      <td>3898.021</td>\n",
       "      <td>3927.357</td>\n",
       "      <td>4374.731</td>\n",
       "      <td>4378.398</td>\n",
       "      <td>4598.418</td>\n",
       "      <td>5240.143</td>\n",
       "      <td>4910.113</td>\n",
       "      <td>5064.127</td>\n",
       "      <td>5716.853</td>\n",
       "    </tr>\n",
       "    <tr>\n",
       "      <th>AND</th>\n",
       "      <td>Andorra</td>\n",
       "      <td>NaN</td>\n",
       "      <td>NaN</td>\n",
       "      <td>NaN</td>\n",
       "      <td>NaN</td>\n",
       "      <td>NaN</td>\n",
       "      <td>NaN</td>\n",
       "      <td>NaN</td>\n",
       "      <td>NaN</td>\n",
       "      <td>NaN</td>\n",
       "      <td>...</td>\n",
       "      <td>575.719</td>\n",
       "      <td>546.383</td>\n",
       "      <td>539.049</td>\n",
       "      <td>539.049</td>\n",
       "      <td>517.047</td>\n",
       "      <td>517.047</td>\n",
       "      <td>491.378</td>\n",
       "      <td>487.711</td>\n",
       "      <td>476.710</td>\n",
       "      <td>462.042</td>\n",
       "    </tr>\n",
       "  </tbody>\n",
       "</table>\n",
       "<p>5 rows × 56 columns</p>\n",
       "</div>"
      ],
      "text/plain": [
       "             Country Name      1960      1961      1962      1963      1964  \\\n",
       "Country Code                                                                  \n",
       "ABW                 Aruba       NaN       NaN       NaN       NaN       NaN   \n",
       "AFG           Afghanistan   414.371   491.378   689.396   707.731   839.743   \n",
       "AGO                Angola   550.050   454.708  1180.774  1151.438  1224.778   \n",
       "ALB               Albania  2024.184  2280.874  2464.224  2082.856  2016.850   \n",
       "AND               Andorra       NaN       NaN       NaN       NaN       NaN   \n",
       "\n",
       "                  1965      1966      1967      1968    ...           2005  \\\n",
       "Country Code                                            ...                  \n",
       "ABW                NaN       NaN       NaN       NaN    ...       2720.914   \n",
       "AFG           1008.425  1092.766  1283.450  1224.778    ...       1327.454   \n",
       "AGO           1188.108  1554.808   993.757  1672.152    ...      19156.408   \n",
       "ALB           2174.531  2552.232  2680.577  3072.946    ...       4253.720   \n",
       "AND                NaN       NaN       NaN       NaN    ...        575.719   \n",
       "\n",
       "                   2006       2007       2008       2009       2010  \\\n",
       "Country Code                                                          \n",
       "ABW            2717.247   2823.590   2658.575   2629.239   2508.228   \n",
       "AFG            1650.150   2273.540   4206.049   6769.282   8463.436   \n",
       "AGO           22266.024  25151.953  25709.337  27792.193  29057.308   \n",
       "ALB            3898.021   3927.357   4374.731   4378.398   4598.418   \n",
       "AND             546.383    539.049    539.049    517.047    517.047   \n",
       "\n",
       "                   2011       2012       2013       2014  \n",
       "Country Code                                              \n",
       "ABW            2500.894   1349.456    861.745    872.746  \n",
       "AFG           12240.446  10755.311  10014.577   9809.225  \n",
       "AGO           30340.758  33399.036  32617.965  34763.160  \n",
       "ALB            5240.143   4910.113   5064.127   5716.853  \n",
       "AND             491.378    487.711    476.710    462.042  \n",
       "\n",
       "[5 rows x 56 columns]"
      ]
     },
     "execution_count": 241,
     "metadata": {},
     "output_type": "execute_result"
    }
   ],
   "source": [
    "df_co2_data = pd.read_csv(\"API_EN.ATM.CO2E.KT_DS2_en_csv_v2.csv\", skiprows=4)\n",
    "df_co2_data = df_co2_data.set_index('Country Code').drop(['Indicator Name', 'Indicator Code', '2015', '2016', 'Unnamed: 61'], axis=1)\n",
    "df_co2_data.head()"
   ]
  },
  {
   "cell_type": "code",
   "execution_count": 242,
   "metadata": {
    "scrolled": true
   },
   "outputs": [
    {
     "data": {
      "text/html": [
       "<div>\n",
       "<style>\n",
       "    .dataframe thead tr:only-child th {\n",
       "        text-align: right;\n",
       "    }\n",
       "\n",
       "    .dataframe thead th {\n",
       "        text-align: left;\n",
       "    }\n",
       "\n",
       "    .dataframe tbody tr th {\n",
       "        vertical-align: top;\n",
       "    }\n",
       "</style>\n",
       "<table border=\"1\" class=\"dataframe\">\n",
       "  <thead>\n",
       "    <tr style=\"text-align: right;\">\n",
       "      <th></th>\n",
       "      <th>Region</th>\n",
       "      <th>IncomeGroup</th>\n",
       "      <th>TableName</th>\n",
       "    </tr>\n",
       "    <tr>\n",
       "      <th>Country Code</th>\n",
       "      <th></th>\n",
       "      <th></th>\n",
       "      <th></th>\n",
       "    </tr>\n",
       "  </thead>\n",
       "  <tbody>\n",
       "    <tr>\n",
       "      <th>ABW</th>\n",
       "      <td>Latin America &amp; Caribbean</td>\n",
       "      <td>High income</td>\n",
       "      <td>Aruba</td>\n",
       "    </tr>\n",
       "    <tr>\n",
       "      <th>AFG</th>\n",
       "      <td>South Asia</td>\n",
       "      <td>Low income</td>\n",
       "      <td>Afghanistan</td>\n",
       "    </tr>\n",
       "    <tr>\n",
       "      <th>AGO</th>\n",
       "      <td>Sub-Saharan Africa</td>\n",
       "      <td>Lower middle income</td>\n",
       "      <td>Angola</td>\n",
       "    </tr>\n",
       "    <tr>\n",
       "      <th>ALB</th>\n",
       "      <td>Europe &amp; Central Asia</td>\n",
       "      <td>Upper middle income</td>\n",
       "      <td>Albania</td>\n",
       "    </tr>\n",
       "    <tr>\n",
       "      <th>AND</th>\n",
       "      <td>Europe &amp; Central Asia</td>\n",
       "      <td>High income</td>\n",
       "      <td>Andorra</td>\n",
       "    </tr>\n",
       "    <tr>\n",
       "      <th>ARB</th>\n",
       "      <td>NaN</td>\n",
       "      <td>NaN</td>\n",
       "      <td>Arab World</td>\n",
       "    </tr>\n",
       "    <tr>\n",
       "      <th>ARE</th>\n",
       "      <td>Middle East &amp; North Africa</td>\n",
       "      <td>High income</td>\n",
       "      <td>United Arab Emirates</td>\n",
       "    </tr>\n",
       "    <tr>\n",
       "      <th>ARG</th>\n",
       "      <td>Latin America &amp; Caribbean</td>\n",
       "      <td>Upper middle income</td>\n",
       "      <td>Argentina</td>\n",
       "    </tr>\n",
       "    <tr>\n",
       "      <th>ARM</th>\n",
       "      <td>Europe &amp; Central Asia</td>\n",
       "      <td>Lower middle income</td>\n",
       "      <td>Armenia</td>\n",
       "    </tr>\n",
       "    <tr>\n",
       "      <th>ASM</th>\n",
       "      <td>East Asia &amp; Pacific</td>\n",
       "      <td>Upper middle income</td>\n",
       "      <td>American Samoa</td>\n",
       "    </tr>\n",
       "  </tbody>\n",
       "</table>\n",
       "</div>"
      ],
      "text/plain": [
       "                                  Region          IncomeGroup  \\\n",
       "Country Code                                                    \n",
       "ABW            Latin America & Caribbean          High income   \n",
       "AFG                           South Asia           Low income   \n",
       "AGO                   Sub-Saharan Africa  Lower middle income   \n",
       "ALB                Europe & Central Asia  Upper middle income   \n",
       "AND                Europe & Central Asia          High income   \n",
       "ARB                                  NaN                  NaN   \n",
       "ARE           Middle East & North Africa          High income   \n",
       "ARG            Latin America & Caribbean  Upper middle income   \n",
       "ARM                Europe & Central Asia  Lower middle income   \n",
       "ASM                  East Asia & Pacific  Upper middle income   \n",
       "\n",
       "                         TableName  \n",
       "Country Code                        \n",
       "ABW                          Aruba  \n",
       "AFG                    Afghanistan  \n",
       "AGO                         Angola  \n",
       "ALB                        Albania  \n",
       "AND                        Andorra  \n",
       "ARB                     Arab World  \n",
       "ARE           United Arab Emirates  \n",
       "ARG                      Argentina  \n",
       "ARM                        Armenia  \n",
       "ASM                 American Samoa  "
      ]
     },
     "execution_count": 242,
     "metadata": {},
     "output_type": "execute_result"
    }
   ],
   "source": [
    "df_all_regions = pd.read_csv(\"Metadata_Country_API_EN.ATM.CO2E.KT_DS2_en_csv_v2.csv\")\n",
    "df_all_regions = df_all_regions.set_index('Country Code').drop(['SpecialNotes', 'Unnamed: 5'], axis=1)\n",
    "df_all_regions.head(10)"
   ]
  },
  {
   "cell_type": "code",
   "execution_count": 243,
   "metadata": {
    "collapsed": true
   },
   "outputs": [],
   "source": [
    "country_codes = df_all_regions.dropna().index"
   ]
  },
  {
   "cell_type": "markdown",
   "metadata": {},
   "source": [
    "Pre-defined styles provided by matplotlib"
   ]
  },
  {
   "cell_type": "code",
   "execution_count": 244,
   "metadata": {},
   "outputs": [
    {
     "name": "stdout",
     "output_type": "stream",
     "text": [
      "['seaborn-dark', 'seaborn-darkgrid', 'seaborn-ticks', 'fivethirtyeight', 'seaborn-whitegrid', 'classic', '_classic_test', 'seaborn-talk', 'seaborn-dark-palette', 'seaborn-bright', 'seaborn-pastel', 'grayscale', 'seaborn-notebook', 'ggplot', 'seaborn-colorblind', 'seaborn-muted', 'seaborn', 'seaborn-paper', 'bmh', 'seaborn-white', 'dark_background', 'seaborn-poster', 'seaborn-deep']\n"
     ]
    }
   ],
   "source": [
    "print(plt.style.available)"
   ]
  },
  {
   "cell_type": "code",
   "execution_count": 245,
   "metadata": {
    "collapsed": true
   },
   "outputs": [],
   "source": [
    "plt.style.use('fivethirtyeight')"
   ]
  },
  {
   "cell_type": "markdown",
   "metadata": {},
   "source": [
    "## Line Plot\n",
    "### Single Line Plot"
   ]
  },
  {
   "cell_type": "code",
   "execution_count": 246,
   "metadata": {},
   "outputs": [
    {
     "data": {
      "text/html": [
       "<div>\n",
       "<style>\n",
       "    .dataframe thead tr:only-child th {\n",
       "        text-align: right;\n",
       "    }\n",
       "\n",
       "    .dataframe thead th {\n",
       "        text-align: left;\n",
       "    }\n",
       "\n",
       "    .dataframe tbody tr th {\n",
       "        vertical-align: top;\n",
       "    }\n",
       "</style>\n",
       "<table border=\"1\" class=\"dataframe\">\n",
       "  <thead>\n",
       "    <tr style=\"text-align: right;\">\n",
       "      <th></th>\n",
       "      <th>Year</th>\n",
       "      <th>WLD</th>\n",
       "      <th>CHN</th>\n",
       "      <th>USA</th>\n",
       "    </tr>\n",
       "  </thead>\n",
       "  <tbody>\n",
       "    <tr>\n",
       "      <th>0</th>\n",
       "      <td>1960</td>\n",
       "      <td>9.396706e+06</td>\n",
       "      <td>780726.302</td>\n",
       "      <td>2890696.100</td>\n",
       "    </tr>\n",
       "    <tr>\n",
       "      <th>1</th>\n",
       "      <td>1961</td>\n",
       "      <td>9.434403e+06</td>\n",
       "      <td>552066.850</td>\n",
       "      <td>2880505.507</td>\n",
       "    </tr>\n",
       "    <tr>\n",
       "      <th>2</th>\n",
       "      <td>1962</td>\n",
       "      <td>9.818840e+06</td>\n",
       "      <td>440359.029</td>\n",
       "      <td>2987207.873</td>\n",
       "    </tr>\n",
       "    <tr>\n",
       "      <th>3</th>\n",
       "      <td>1963</td>\n",
       "      <td>1.035575e+07</td>\n",
       "      <td>436695.696</td>\n",
       "      <td>3119230.874</td>\n",
       "    </tr>\n",
       "    <tr>\n",
       "      <th>4</th>\n",
       "      <td>1964</td>\n",
       "      <td>1.094701e+07</td>\n",
       "      <td>436923.050</td>\n",
       "      <td>3255995.306</td>\n",
       "    </tr>\n",
       "  </tbody>\n",
       "</table>\n",
       "</div>"
      ],
      "text/plain": [
       "   Year           WLD         CHN          USA\n",
       "0  1960  9.396706e+06  780726.302  2890696.100\n",
       "1  1961  9.434403e+06  552066.850  2880505.507\n",
       "2  1962  9.818840e+06  440359.029  2987207.873\n",
       "3  1963  1.035575e+07  436695.696  3119230.874\n",
       "4  1964  1.094701e+07  436923.050  3255995.306"
      ]
     },
     "execution_count": 246,
     "metadata": {},
     "output_type": "execute_result"
    }
   ],
   "source": [
    "df_wide = df_co2_data.loc[['WLD', 'CHN', 'USA'], df_co2_data.columns[1:]].T\n",
    "df_wide = df_wide.rename_axis('Year').reset_index().rename_axis('', axis=1)\n",
    "df_wide.head()"
   ]
  },
  {
   "cell_type": "code",
   "execution_count": 337,
   "metadata": {
    "scrolled": false
   },
   "outputs": [
    {
     "data": {
      "text/plain": [
       "<matplotlib.text.Text at 0x1266cdcc0>"
      ]
     },
     "execution_count": 337,
     "metadata": {},
     "output_type": "execute_result"
    },
    {
     "data": {
      "image/png": "[encoded data removed]",
      "text/plain": [
       "<matplotlib.figure.Figure at 0x126683cc0>"
      ]
     },
     "metadata": {},
     "output_type": "display_data"
    }
   ],
   "source": [
    "x = df_wide['Year']\n",
    "y = df_wide['WLD']\n",
    "plt.plot(x, y)\n",
    "plt.xlabel('Year')\n",
    "plt.ylabel('CO2 Emmision (kt)')\n",
    "plt.title('World CO2 Emmision')"
   ]
  },
  {
   "cell_type": "markdown",
   "metadata": {},
   "source": [
    "### Multiple Lines Plot\n",
    "#### Wide Format Data"
   ]
  },
  {
   "cell_type": "code",
   "execution_count": 248,
   "metadata": {},
   "outputs": [
    {
     "data": {
      "text/html": [
       "<div>\n",
       "<style>\n",
       "    .dataframe thead tr:only-child th {\n",
       "        text-align: right;\n",
       "    }\n",
       "\n",
       "    .dataframe thead th {\n",
       "        text-align: left;\n",
       "    }\n",
       "\n",
       "    .dataframe tbody tr th {\n",
       "        vertical-align: top;\n",
       "    }\n",
       "</style>\n",
       "<table border=\"1\" class=\"dataframe\">\n",
       "  <thead>\n",
       "    <tr style=\"text-align: right;\">\n",
       "      <th></th>\n",
       "      <th>Year</th>\n",
       "      <th>WLD</th>\n",
       "      <th>CHN</th>\n",
       "      <th>USA</th>\n",
       "    </tr>\n",
       "  </thead>\n",
       "  <tbody>\n",
       "    <tr>\n",
       "      <th>0</th>\n",
       "      <td>1960</td>\n",
       "      <td>9.396706e+06</td>\n",
       "      <td>780726.302</td>\n",
       "      <td>2890696.100</td>\n",
       "    </tr>\n",
       "    <tr>\n",
       "      <th>1</th>\n",
       "      <td>1961</td>\n",
       "      <td>9.434403e+06</td>\n",
       "      <td>552066.850</td>\n",
       "      <td>2880505.507</td>\n",
       "    </tr>\n",
       "    <tr>\n",
       "      <th>2</th>\n",
       "      <td>1962</td>\n",
       "      <td>9.818840e+06</td>\n",
       "      <td>440359.029</td>\n",
       "      <td>2987207.873</td>\n",
       "    </tr>\n",
       "    <tr>\n",
       "      <th>3</th>\n",
       "      <td>1963</td>\n",
       "      <td>1.035575e+07</td>\n",
       "      <td>436695.696</td>\n",
       "      <td>3119230.874</td>\n",
       "    </tr>\n",
       "    <tr>\n",
       "      <th>4</th>\n",
       "      <td>1964</td>\n",
       "      <td>1.094701e+07</td>\n",
       "      <td>436923.050</td>\n",
       "      <td>3255995.306</td>\n",
       "    </tr>\n",
       "  </tbody>\n",
       "</table>\n",
       "</div>"
      ],
      "text/plain": [
       "   Year           WLD         CHN          USA\n",
       "0  1960  9.396706e+06  780726.302  2890696.100\n",
       "1  1961  9.434403e+06  552066.850  2880505.507\n",
       "2  1962  9.818840e+06  440359.029  2987207.873\n",
       "3  1963  1.035575e+07  436695.696  3119230.874\n",
       "4  1964  1.094701e+07  436923.050  3255995.306"
      ]
     },
     "execution_count": 248,
     "metadata": {},
     "output_type": "execute_result"
    }
   ],
   "source": [
    "df_wide.head()"
   ]
  },
  {
   "cell_type": "code",
   "execution_count": 275,
   "metadata": {
    "scrolled": false
   },
   "outputs": [
    {
     "data": {
      "text/plain": [
       "<matplotlib.text.Text at 0x1236ef908>"
      ]
     },
     "execution_count": 275,
     "metadata": {},
     "output_type": "execute_result"
    },
    {
     "data": {
      "image/png": "[encoded data removed]",
      "text/plain": [
       "<matplotlib.figure.Figure at 0x1230ecf60>"
      ]
     },
     "metadata": {},
     "output_type": "display_data"
    }
   ],
   "source": [
    "x = df_wide['Year']\n",
    "y1 = df_wide['WLD']\n",
    "y2 = df_wide['CHN']\n",
    "y3 = df_wide['USA']\n",
    "plt.plot(x, y1)\n",
    "plt.plot(x, y2)\n",
    "plt.plot(x, y3)\n",
    "plt.xlabel('Year')\n",
    "plt.ylabel('CO2 Emmision (kt)')\n",
    "plt.title('World, China, United States CO2 Emmision')"
   ]
  },
  {
   "cell_type": "markdown",
   "metadata": {},
   "source": [
    "#### Long Format Data"
   ]
  },
  {
   "cell_type": "code",
   "execution_count": 250,
   "metadata": {},
   "outputs": [
    {
     "data": {
      "text/html": [
       "<div>\n",
       "<style>\n",
       "    .dataframe thead tr:only-child th {\n",
       "        text-align: right;\n",
       "    }\n",
       "\n",
       "    .dataframe thead th {\n",
       "        text-align: left;\n",
       "    }\n",
       "\n",
       "    .dataframe tbody tr th {\n",
       "        vertical-align: top;\n",
       "    }\n",
       "</style>\n",
       "<table border=\"1\" class=\"dataframe\">\n",
       "  <thead>\n",
       "    <tr style=\"text-align: right;\">\n",
       "      <th></th>\n",
       "      <th>Country Code</th>\n",
       "      <th>Year</th>\n",
       "      <th>CO2</th>\n",
       "    </tr>\n",
       "  </thead>\n",
       "  <tbody>\n",
       "    <tr>\n",
       "      <th>0</th>\n",
       "      <td>WLD</td>\n",
       "      <td>1960</td>\n",
       "      <td>9.396706e+06</td>\n",
       "    </tr>\n",
       "    <tr>\n",
       "      <th>1</th>\n",
       "      <td>WLD</td>\n",
       "      <td>1961</td>\n",
       "      <td>9.434403e+06</td>\n",
       "    </tr>\n",
       "    <tr>\n",
       "      <th>2</th>\n",
       "      <td>WLD</td>\n",
       "      <td>1962</td>\n",
       "      <td>9.818840e+06</td>\n",
       "    </tr>\n",
       "    <tr>\n",
       "      <th>3</th>\n",
       "      <td>WLD</td>\n",
       "      <td>1963</td>\n",
       "      <td>1.035575e+07</td>\n",
       "    </tr>\n",
       "    <tr>\n",
       "      <th>4</th>\n",
       "      <td>WLD</td>\n",
       "      <td>1964</td>\n",
       "      <td>1.094701e+07</td>\n",
       "    </tr>\n",
       "  </tbody>\n",
       "</table>\n",
       "</div>"
      ],
      "text/plain": [
       "  Country Code  Year           CO2\n",
       "0          WLD  1960  9.396706e+06\n",
       "1          WLD  1961  9.434403e+06\n",
       "2          WLD  1962  9.818840e+06\n",
       "3          WLD  1963  1.035575e+07\n",
       "4          WLD  1964  1.094701e+07"
      ]
     },
     "execution_count": 250,
     "metadata": {},
     "output_type": "execute_result"
    }
   ],
   "source": [
    "df_long = df_co2_data.loc[['WLD', 'CHN', 'USA'], df_co2_data.columns[1:]].T\n",
    "df_long = df_long.unstack().reset_index().rename(columns={'level_1': 'Year', 0: 'CO2'})\n",
    "df_long.head()"
   ]
  },
  {
   "cell_type": "code",
   "execution_count": 251,
   "metadata": {},
   "outputs": [
    {
     "data": {
      "text/html": [
       "<div>\n",
       "<style>\n",
       "    .dataframe thead tr:only-child th {\n",
       "        text-align: right;\n",
       "    }\n",
       "\n",
       "    .dataframe thead th {\n",
       "        text-align: left;\n",
       "    }\n",
       "\n",
       "    .dataframe tbody tr th {\n",
       "        vertical-align: top;\n",
       "    }\n",
       "</style>\n",
       "<table border=\"1\" class=\"dataframe\">\n",
       "  <thead>\n",
       "    <tr style=\"text-align: right;\">\n",
       "      <th>Country Code</th>\n",
       "      <th>Year</th>\n",
       "      <th>CHN</th>\n",
       "      <th>USA</th>\n",
       "      <th>WLD</th>\n",
       "    </tr>\n",
       "  </thead>\n",
       "  <tbody>\n",
       "    <tr>\n",
       "      <th>0</th>\n",
       "      <td>1960</td>\n",
       "      <td>780726.302</td>\n",
       "      <td>2890696.100</td>\n",
       "      <td>9.396706e+06</td>\n",
       "    </tr>\n",
       "    <tr>\n",
       "      <th>1</th>\n",
       "      <td>1961</td>\n",
       "      <td>552066.850</td>\n",
       "      <td>2880505.507</td>\n",
       "      <td>9.434403e+06</td>\n",
       "    </tr>\n",
       "    <tr>\n",
       "      <th>2</th>\n",
       "      <td>1962</td>\n",
       "      <td>440359.029</td>\n",
       "      <td>2987207.873</td>\n",
       "      <td>9.818840e+06</td>\n",
       "    </tr>\n",
       "    <tr>\n",
       "      <th>3</th>\n",
       "      <td>1963</td>\n",
       "      <td>436695.696</td>\n",
       "      <td>3119230.874</td>\n",
       "      <td>1.035575e+07</td>\n",
       "    </tr>\n",
       "    <tr>\n",
       "      <th>4</th>\n",
       "      <td>1964</td>\n",
       "      <td>436923.050</td>\n",
       "      <td>3255995.306</td>\n",
       "      <td>1.094701e+07</td>\n",
       "    </tr>\n",
       "  </tbody>\n",
       "</table>\n",
       "</div>"
      ],
      "text/plain": [
       "Country Code  Year         CHN          USA           WLD\n",
       "0             1960  780726.302  2890696.100  9.396706e+06\n",
       "1             1961  552066.850  2880505.507  9.434403e+06\n",
       "2             1962  440359.029  2987207.873  9.818840e+06\n",
       "3             1963  436695.696  3119230.874  1.035575e+07\n",
       "4             1964  436923.050  3255995.306  1.094701e+07"
      ]
     },
     "execution_count": 251,
     "metadata": {},
     "output_type": "execute_result"
    }
   ],
   "source": [
    "# Pivot long format data to wide format data\n",
    "df_pivoted = df_long.pivot(index='Year', columns='Country Code', values='CO2').reset_index()\n",
    "df_pivoted.head()"
   ]
  },
  {
   "cell_type": "markdown",
   "metadata": {},
   "source": [
    "## Vertical bar plot"
   ]
  },
  {
   "cell_type": "code",
   "execution_count": 252,
   "metadata": {},
   "outputs": [
    {
     "data": {
      "text/html": [
       "<div>\n",
       "<style>\n",
       "    .dataframe thead tr:only-child th {\n",
       "        text-align: right;\n",
       "    }\n",
       "\n",
       "    .dataframe thead th {\n",
       "        text-align: left;\n",
       "    }\n",
       "\n",
       "    .dataframe tbody tr th {\n",
       "        vertical-align: top;\n",
       "    }\n",
       "</style>\n",
       "<table border=\"1\" class=\"dataframe\">\n",
       "  <thead>\n",
       "    <tr style=\"text-align: right;\">\n",
       "      <th></th>\n",
       "      <th>Country Name</th>\n",
       "      <th>2014</th>\n",
       "    </tr>\n",
       "    <tr>\n",
       "      <th>Country Code</th>\n",
       "      <th></th>\n",
       "      <th></th>\n",
       "    </tr>\n",
       "  </thead>\n",
       "  <tbody>\n",
       "    <tr>\n",
       "      <th>CHN</th>\n",
       "      <td>China</td>\n",
       "      <td>1.029193e+07</td>\n",
       "    </tr>\n",
       "    <tr>\n",
       "      <th>USA</th>\n",
       "      <td>United States</td>\n",
       "      <td>5.254279e+06</td>\n",
       "    </tr>\n",
       "    <tr>\n",
       "      <th>IND</th>\n",
       "      <td>India</td>\n",
       "      <td>2.238377e+06</td>\n",
       "    </tr>\n",
       "    <tr>\n",
       "      <th>RUS</th>\n",
       "      <td>Russian Federation</td>\n",
       "      <td>1.705346e+06</td>\n",
       "    </tr>\n",
       "    <tr>\n",
       "      <th>JPN</th>\n",
       "      <td>Japan</td>\n",
       "      <td>1.214048e+06</td>\n",
       "    </tr>\n",
       "  </tbody>\n",
       "</table>\n",
       "</div>"
      ],
      "text/plain": [
       "                    Country Name          2014\n",
       "Country Code                                  \n",
       "CHN                        China  1.029193e+07\n",
       "USA                United States  5.254279e+06\n",
       "IND                        India  2.238377e+06\n",
       "RUS           Russian Federation  1.705346e+06\n",
       "JPN                        Japan  1.214048e+06"
      ]
     },
     "execution_count": 252,
     "metadata": {},
     "output_type": "execute_result"
    }
   ],
   "source": [
    "df_top5 = df_co2_data.loc[country_codes, ['Country Name', '2014']].sort_values(by='2014', ascending=False).iloc[:5]\n",
    "df_top5"
   ]
  },
  {
   "cell_type": "code",
   "execution_count": 253,
   "metadata": {},
   "outputs": [
    {
     "data": {
      "text/plain": [
       "<matplotlib.text.Text at 0x122c15208>"
      ]
     },
     "execution_count": 253,
     "metadata": {},
     "output_type": "execute_result"
    },
    {
     "data": {
      "image/png": "[encoded data removed]",
      "text/plain": [
       "<matplotlib.figure.Figure at 0x122bf3b38>"
      ]
     },
     "metadata": {},
     "output_type": "display_data"
    }
   ],
   "source": [
    "x = np.arange(len(df_top5['Country Name']))\n",
    "y = df_top5['2014']\n",
    "plt.bar(x, y)\n",
    "plt.xticks(x, df_top5['Country Name'])\n",
    "plt.xlabel('Country')\n",
    "plt.ylabel('CO2 Emmision (kt)')\n",
    "plt.title('World Top 5 CO2 Emmision Countries in 2014')"
   ]
  },
  {
   "cell_type": "markdown",
   "metadata": {},
   "source": [
    "## Horizontal Bar Plot"
   ]
  },
  {
   "cell_type": "code",
   "execution_count": 254,
   "metadata": {},
   "outputs": [
    {
     "data": {
      "text/html": [
       "<div>\n",
       "<style>\n",
       "    .dataframe thead tr:only-child th {\n",
       "        text-align: right;\n",
       "    }\n",
       "\n",
       "    .dataframe thead th {\n",
       "        text-align: left;\n",
       "    }\n",
       "\n",
       "    .dataframe tbody tr th {\n",
       "        vertical-align: top;\n",
       "    }\n",
       "</style>\n",
       "<table border=\"1\" class=\"dataframe\">\n",
       "  <thead>\n",
       "    <tr style=\"text-align: right;\">\n",
       "      <th></th>\n",
       "      <th>Country Name</th>\n",
       "      <th>2014</th>\n",
       "    </tr>\n",
       "    <tr>\n",
       "      <th>Country Code</th>\n",
       "      <th></th>\n",
       "      <th></th>\n",
       "    </tr>\n",
       "  </thead>\n",
       "  <tbody>\n",
       "    <tr>\n",
       "      <th>CAN</th>\n",
       "      <td>Canada</td>\n",
       "      <td>5.371935e+05</td>\n",
       "    </tr>\n",
       "    <tr>\n",
       "      <th>KOR</th>\n",
       "      <td>Korea, Rep.</td>\n",
       "      <td>5.871564e+05</td>\n",
       "    </tr>\n",
       "    <tr>\n",
       "      <th>SAU</th>\n",
       "      <td>Saudi Arabia</td>\n",
       "      <td>6.010470e+05</td>\n",
       "    </tr>\n",
       "    <tr>\n",
       "      <th>IRN</th>\n",
       "      <td>Iran, Islamic Rep.</td>\n",
       "      <td>6.494807e+05</td>\n",
       "    </tr>\n",
       "    <tr>\n",
       "      <th>DEU</th>\n",
       "      <td>Germany</td>\n",
       "      <td>7.198834e+05</td>\n",
       "    </tr>\n",
       "    <tr>\n",
       "      <th>JPN</th>\n",
       "      <td>Japan</td>\n",
       "      <td>1.214048e+06</td>\n",
       "    </tr>\n",
       "    <tr>\n",
       "      <th>RUS</th>\n",
       "      <td>Russian Federation</td>\n",
       "      <td>1.705346e+06</td>\n",
       "    </tr>\n",
       "    <tr>\n",
       "      <th>IND</th>\n",
       "      <td>India</td>\n",
       "      <td>2.238377e+06</td>\n",
       "    </tr>\n",
       "    <tr>\n",
       "      <th>USA</th>\n",
       "      <td>United States</td>\n",
       "      <td>5.254279e+06</td>\n",
       "    </tr>\n",
       "    <tr>\n",
       "      <th>CHN</th>\n",
       "      <td>China</td>\n",
       "      <td>1.029193e+07</td>\n",
       "    </tr>\n",
       "  </tbody>\n",
       "</table>\n",
       "</div>"
      ],
      "text/plain": [
       "                    Country Name          2014\n",
       "Country Code                                  \n",
       "CAN                       Canada  5.371935e+05\n",
       "KOR                  Korea, Rep.  5.871564e+05\n",
       "SAU                 Saudi Arabia  6.010470e+05\n",
       "IRN           Iran, Islamic Rep.  6.494807e+05\n",
       "DEU                      Germany  7.198834e+05\n",
       "JPN                        Japan  1.214048e+06\n",
       "RUS           Russian Federation  1.705346e+06\n",
       "IND                        India  2.238377e+06\n",
       "USA                United States  5.254279e+06\n",
       "CHN                        China  1.029193e+07"
      ]
     },
     "execution_count": 254,
     "metadata": {},
     "output_type": "execute_result"
    }
   ],
   "source": [
    "df_top10 = df_co2_data.loc[country_codes, ['Country Name', '2014']].sort_values(by='2014', na_position='first')[-10:]\n",
    "df_top10"
   ]
  },
  {
   "cell_type": "code",
   "execution_count": 255,
   "metadata": {},
   "outputs": [
    {
     "data": {
      "text/plain": [
       "<matplotlib.text.Text at 0x122cbd358>"
      ]
     },
     "execution_count": 255,
     "metadata": {},
     "output_type": "execute_result"
    },
    {
     "data": {
      "image/png": "[encoded data removed]",
      "text/plain": [
       "<matplotlib.figure.Figure at 0x122c08048>"
      ]
     },
     "metadata": {},
     "output_type": "display_data"
    }
   ],
   "source": [
    "x = np.arange(len(df_top10['Country Name']))\n",
    "y = df_top10['2014']\n",
    "plt.barh(x, y)\n",
    "plt.yticks(x, df_top10['Country Name'])\n",
    "plt.xlabel('CO2 Emmision (kt)')\n",
    "plt.ylabel('Country')\n",
    "plt.title('World Top 10 CO2 Emmision Countries in 2014')"
   ]
  },
  {
   "cell_type": "markdown",
   "metadata": {},
   "source": [
    "## Histogram"
   ]
  },
  {
   "cell_type": "code",
   "execution_count": 256,
   "metadata": {
    "scrolled": true
   },
   "outputs": [
    {
     "data": {
      "text/html": [
       "<div>\n",
       "<style>\n",
       "    .dataframe thead tr:only-child th {\n",
       "        text-align: right;\n",
       "    }\n",
       "\n",
       "    .dataframe thead th {\n",
       "        text-align: left;\n",
       "    }\n",
       "\n",
       "    .dataframe tbody tr th {\n",
       "        vertical-align: top;\n",
       "    }\n",
       "</style>\n",
       "<table border=\"1\" class=\"dataframe\">\n",
       "  <thead>\n",
       "    <tr style=\"text-align: right;\">\n",
       "      <th></th>\n",
       "      <th>Country Name</th>\n",
       "      <th>2014</th>\n",
       "    </tr>\n",
       "    <tr>\n",
       "      <th>Country Code</th>\n",
       "      <th></th>\n",
       "      <th></th>\n",
       "    </tr>\n",
       "  </thead>\n",
       "  <tbody>\n",
       "    <tr>\n",
       "      <th>CHN</th>\n",
       "      <td>China</td>\n",
       "      <td>1.029193e+07</td>\n",
       "    </tr>\n",
       "    <tr>\n",
       "      <th>USA</th>\n",
       "      <td>United States</td>\n",
       "      <td>5.254279e+06</td>\n",
       "    </tr>\n",
       "    <tr>\n",
       "      <th>IND</th>\n",
       "      <td>India</td>\n",
       "      <td>2.238377e+06</td>\n",
       "    </tr>\n",
       "    <tr>\n",
       "      <th>RUS</th>\n",
       "      <td>Russian Federation</td>\n",
       "      <td>1.705346e+06</td>\n",
       "    </tr>\n",
       "    <tr>\n",
       "      <th>JPN</th>\n",
       "      <td>Japan</td>\n",
       "      <td>1.214048e+06</td>\n",
       "    </tr>\n",
       "  </tbody>\n",
       "</table>\n",
       "</div>"
      ],
      "text/plain": [
       "                    Country Name          2014\n",
       "Country Code                                  \n",
       "CHN                        China  1.029193e+07\n",
       "USA                United States  5.254279e+06\n",
       "IND                        India  2.238377e+06\n",
       "RUS           Russian Federation  1.705346e+06\n",
       "JPN                        Japan  1.214048e+06"
      ]
     },
     "execution_count": 256,
     "metadata": {},
     "output_type": "execute_result"
    }
   ],
   "source": [
    "df_all = df_co2_data.loc[country_codes, ['Country Name', '2014']].sort_values(by='2014', ascending=False).dropna()\n",
    "df_all.head()"
   ]
  },
  {
   "cell_type": "code",
   "execution_count": 257,
   "metadata": {},
   "outputs": [
    {
     "data": {
      "text/html": [
       "<div>\n",
       "<style>\n",
       "    .dataframe thead tr:only-child th {\n",
       "        text-align: right;\n",
       "    }\n",
       "\n",
       "    .dataframe thead th {\n",
       "        text-align: left;\n",
       "    }\n",
       "\n",
       "    .dataframe tbody tr th {\n",
       "        vertical-align: top;\n",
       "    }\n",
       "</style>\n",
       "<table border=\"1\" class=\"dataframe\">\n",
       "  <thead>\n",
       "    <tr style=\"text-align: right;\">\n",
       "      <th></th>\n",
       "      <th>Country Name</th>\n",
       "      <th>2014</th>\n",
       "    </tr>\n",
       "    <tr>\n",
       "      <th>Country Code</th>\n",
       "      <th></th>\n",
       "      <th></th>\n",
       "    </tr>\n",
       "  </thead>\n",
       "  <tbody>\n",
       "    <tr>\n",
       "      <th>MHL</th>\n",
       "      <td>Marshall Islands</td>\n",
       "      <td>102.676</td>\n",
       "    </tr>\n",
       "    <tr>\n",
       "      <th>KIR</th>\n",
       "      <td>Kiribati</td>\n",
       "      <td>62.339</td>\n",
       "    </tr>\n",
       "    <tr>\n",
       "      <th>NRU</th>\n",
       "      <td>Nauru</td>\n",
       "      <td>47.671</td>\n",
       "    </tr>\n",
       "    <tr>\n",
       "      <th>LIE</th>\n",
       "      <td>Liechtenstein</td>\n",
       "      <td>44.004</td>\n",
       "    </tr>\n",
       "    <tr>\n",
       "      <th>TUV</th>\n",
       "      <td>Tuvalu</td>\n",
       "      <td>11.001</td>\n",
       "    </tr>\n",
       "  </tbody>\n",
       "</table>\n",
       "</div>"
      ],
      "text/plain": [
       "                  Country Name     2014\n",
       "Country Code                           \n",
       "MHL           Marshall Islands  102.676\n",
       "KIR                   Kiribati   62.339\n",
       "NRU                      Nauru   47.671\n",
       "LIE              Liechtenstein   44.004\n",
       "TUV                     Tuvalu   11.001"
      ]
     },
     "execution_count": 257,
     "metadata": {},
     "output_type": "execute_result"
    }
   ],
   "source": [
    "df_all.tail()"
   ]
  },
  {
   "cell_type": "code",
   "execution_count": 258,
   "metadata": {},
   "outputs": [
    {
     "data": {
      "text/html": [
       "<div>\n",
       "<style>\n",
       "    .dataframe thead tr:only-child th {\n",
       "        text-align: right;\n",
       "    }\n",
       "\n",
       "    .dataframe thead th {\n",
       "        text-align: left;\n",
       "    }\n",
       "\n",
       "    .dataframe tbody tr th {\n",
       "        vertical-align: top;\n",
       "    }\n",
       "</style>\n",
       "<table border=\"1\" class=\"dataframe\">\n",
       "  <thead>\n",
       "    <tr style=\"text-align: right;\">\n",
       "      <th></th>\n",
       "      <th>Country Name</th>\n",
       "      <th>2014</th>\n",
       "    </tr>\n",
       "    <tr>\n",
       "      <th>Country Code</th>\n",
       "      <th></th>\n",
       "      <th></th>\n",
       "    </tr>\n",
       "  </thead>\n",
       "  <tbody>\n",
       "    <tr>\n",
       "      <th>CHN</th>\n",
       "      <td>China</td>\n",
       "      <td>7.012497</td>\n",
       "    </tr>\n",
       "    <tr>\n",
       "      <th>USA</th>\n",
       "      <td>United States</td>\n",
       "      <td>6.720513</td>\n",
       "    </tr>\n",
       "    <tr>\n",
       "      <th>IND</th>\n",
       "      <td>India</td>\n",
       "      <td>6.349933</td>\n",
       "    </tr>\n",
       "    <tr>\n",
       "      <th>RUS</th>\n",
       "      <td>Russian Federation</td>\n",
       "      <td>6.231812</td>\n",
       "    </tr>\n",
       "    <tr>\n",
       "      <th>JPN</th>\n",
       "      <td>Japan</td>\n",
       "      <td>6.084236</td>\n",
       "    </tr>\n",
       "  </tbody>\n",
       "</table>\n",
       "</div>"
      ],
      "text/plain": [
       "                    Country Name      2014\n",
       "Country Code                              \n",
       "CHN                        China  7.012497\n",
       "USA                United States  6.720513\n",
       "IND                        India  6.349933\n",
       "RUS           Russian Federation  6.231812\n",
       "JPN                        Japan  6.084236"
      ]
     },
     "execution_count": 258,
     "metadata": {},
     "output_type": "execute_result"
    }
   ],
   "source": [
    "df_all_log = df_all.copy()\n",
    "df_all_log['2014'] = log10(df_all_log['2014'])\n",
    "df_all_log.head()"
   ]
  },
  {
   "cell_type": "code",
   "execution_count": 259,
   "metadata": {},
   "outputs": [
    {
     "data": {
      "text/html": [
       "<div>\n",
       "<style>\n",
       "    .dataframe thead tr:only-child th {\n",
       "        text-align: right;\n",
       "    }\n",
       "\n",
       "    .dataframe thead th {\n",
       "        text-align: left;\n",
       "    }\n",
       "\n",
       "    .dataframe tbody tr th {\n",
       "        vertical-align: top;\n",
       "    }\n",
       "</style>\n",
       "<table border=\"1\" class=\"dataframe\">\n",
       "  <thead>\n",
       "    <tr style=\"text-align: right;\">\n",
       "      <th></th>\n",
       "      <th>Country Name</th>\n",
       "      <th>2014</th>\n",
       "    </tr>\n",
       "    <tr>\n",
       "      <th>Country Code</th>\n",
       "      <th></th>\n",
       "      <th></th>\n",
       "    </tr>\n",
       "  </thead>\n",
       "  <tbody>\n",
       "    <tr>\n",
       "      <th>MHL</th>\n",
       "      <td>Marshall Islands</td>\n",
       "      <td>2.011469</td>\n",
       "    </tr>\n",
       "    <tr>\n",
       "      <th>KIR</th>\n",
       "      <td>Kiribati</td>\n",
       "      <td>1.794760</td>\n",
       "    </tr>\n",
       "    <tr>\n",
       "      <th>NRU</th>\n",
       "      <td>Nauru</td>\n",
       "      <td>1.678254</td>\n",
       "    </tr>\n",
       "    <tr>\n",
       "      <th>LIE</th>\n",
       "      <td>Liechtenstein</td>\n",
       "      <td>1.643492</td>\n",
       "    </tr>\n",
       "    <tr>\n",
       "      <th>TUV</th>\n",
       "      <td>Tuvalu</td>\n",
       "      <td>1.041432</td>\n",
       "    </tr>\n",
       "  </tbody>\n",
       "</table>\n",
       "</div>"
      ],
      "text/plain": [
       "                  Country Name      2014\n",
       "Country Code                            \n",
       "MHL           Marshall Islands  2.011469\n",
       "KIR                   Kiribati  1.794760\n",
       "NRU                      Nauru  1.678254\n",
       "LIE              Liechtenstein  1.643492\n",
       "TUV                     Tuvalu  1.041432"
      ]
     },
     "execution_count": 259,
     "metadata": {},
     "output_type": "execute_result"
    }
   ],
   "source": [
    "df_all_log.tail()"
   ]
  },
  {
   "cell_type": "code",
   "execution_count": 260,
   "metadata": {},
   "outputs": [
    {
     "data": {
      "text/plain": [
       "<matplotlib.text.Text at 0x122d8f3c8>"
      ]
     },
     "execution_count": 260,
     "metadata": {},
     "output_type": "execute_result"
    },
    {
     "data": {
      "image/png": "[encoded data removed]",
      "text/plain": [
       "<matplotlib.figure.Figure at 0x122d1c898>"
      ]
     },
     "metadata": {},
     "output_type": "display_data"
    }
   ],
   "source": [
    "x = df_all_log['2014']\n",
    "bins = np.linspace(1, 7, 13)\n",
    "plt.hist(x, bins)\n",
    "plt.xlabel('log10(CO2 Emmision (kt))')\n",
    "plt.ylabel('Frequency')\n",
    "plt.title('Histogram of World Countries\\' log10(CO2 Emmision) in 2014')"
   ]
  },
  {
   "cell_type": "markdown",
   "metadata": {
    "collapsed": true
   },
   "source": [
    "## Boxplot"
   ]
  },
  {
   "cell_type": "code",
   "execution_count": 261,
   "metadata": {},
   "outputs": [
    {
     "data": {
      "text/html": [
       "<div>\n",
       "<style>\n",
       "    .dataframe thead tr:only-child th {\n",
       "        text-align: right;\n",
       "    }\n",
       "\n",
       "    .dataframe thead th {\n",
       "        text-align: left;\n",
       "    }\n",
       "\n",
       "    .dataframe tbody tr th {\n",
       "        vertical-align: top;\n",
       "    }\n",
       "</style>\n",
       "<table border=\"1\" class=\"dataframe\">\n",
       "  <thead>\n",
       "    <tr style=\"text-align: right;\">\n",
       "      <th></th>\n",
       "      <th>Country Name</th>\n",
       "      <th>2014</th>\n",
       "    </tr>\n",
       "    <tr>\n",
       "      <th>Country Code</th>\n",
       "      <th></th>\n",
       "      <th></th>\n",
       "    </tr>\n",
       "  </thead>\n",
       "  <tbody>\n",
       "    <tr>\n",
       "      <th>CHN</th>\n",
       "      <td>China</td>\n",
       "      <td>1.029193e+07</td>\n",
       "    </tr>\n",
       "    <tr>\n",
       "      <th>USA</th>\n",
       "      <td>United States</td>\n",
       "      <td>5.254279e+06</td>\n",
       "    </tr>\n",
       "    <tr>\n",
       "      <th>IND</th>\n",
       "      <td>India</td>\n",
       "      <td>2.238377e+06</td>\n",
       "    </tr>\n",
       "    <tr>\n",
       "      <th>RUS</th>\n",
       "      <td>Russian Federation</td>\n",
       "      <td>1.705346e+06</td>\n",
       "    </tr>\n",
       "    <tr>\n",
       "      <th>JPN</th>\n",
       "      <td>Japan</td>\n",
       "      <td>1.214048e+06</td>\n",
       "    </tr>\n",
       "  </tbody>\n",
       "</table>\n",
       "</div>"
      ],
      "text/plain": [
       "                    Country Name          2014\n",
       "Country Code                                  \n",
       "CHN                        China  1.029193e+07\n",
       "USA                United States  5.254279e+06\n",
       "IND                        India  2.238377e+06\n",
       "RUS           Russian Federation  1.705346e+06\n",
       "JPN                        Japan  1.214048e+06"
      ]
     },
     "execution_count": 261,
     "metadata": {},
     "output_type": "execute_result"
    }
   ],
   "source": [
    "df_all.head()"
   ]
  },
  {
   "cell_type": "code",
   "execution_count": 262,
   "metadata": {},
   "outputs": [
    {
     "data": {
      "text/plain": [
       "<matplotlib.text.Text at 0x122f6bc18>"
      ]
     },
     "execution_count": 262,
     "metadata": {},
     "output_type": "execute_result"
    },
    {
     "data": {
      "image/png": "[encoded data removed]",
      "text/plain": [
       "<matplotlib.figure.Figure at 0x122d5e320>"
      ]
     },
     "metadata": {},
     "output_type": "display_data"
    }
   ],
   "source": [
    "x = df_all['2014']\n",
    "plt.boxplot(x)\n",
    "plt.yscale('log')\n",
    "plt.ylabel('CO2 Emmision (kt)')\n",
    "plt.title('Boxplot of World Countries\\' CO2 Emmision in 2014')"
   ]
  },
  {
   "cell_type": "code",
   "execution_count": 263,
   "metadata": {},
   "outputs": [
    {
     "data": {
      "text/html": [
       "<div>\n",
       "<style>\n",
       "    .dataframe thead tr:only-child th {\n",
       "        text-align: right;\n",
       "    }\n",
       "\n",
       "    .dataframe thead th {\n",
       "        text-align: left;\n",
       "    }\n",
       "\n",
       "    .dataframe tbody tr th {\n",
       "        vertical-align: top;\n",
       "    }\n",
       "</style>\n",
       "<table border=\"1\" class=\"dataframe\">\n",
       "  <thead>\n",
       "    <tr style=\"text-align: right;\">\n",
       "      <th></th>\n",
       "      <th>Country Name</th>\n",
       "      <th>2014</th>\n",
       "      <th>IncomeGroup</th>\n",
       "    </tr>\n",
       "    <tr>\n",
       "      <th>Country Code</th>\n",
       "      <th></th>\n",
       "      <th></th>\n",
       "      <th></th>\n",
       "    </tr>\n",
       "  </thead>\n",
       "  <tbody>\n",
       "    <tr>\n",
       "      <th>ABW</th>\n",
       "      <td>Aruba</td>\n",
       "      <td>872.746</td>\n",
       "      <td>High income</td>\n",
       "    </tr>\n",
       "    <tr>\n",
       "      <th>AFG</th>\n",
       "      <td>Afghanistan</td>\n",
       "      <td>9809.225</td>\n",
       "      <td>Low income</td>\n",
       "    </tr>\n",
       "    <tr>\n",
       "      <th>AGO</th>\n",
       "      <td>Angola</td>\n",
       "      <td>34763.160</td>\n",
       "      <td>Lower middle income</td>\n",
       "    </tr>\n",
       "    <tr>\n",
       "      <th>ALB</th>\n",
       "      <td>Albania</td>\n",
       "      <td>5716.853</td>\n",
       "      <td>Upper middle income</td>\n",
       "    </tr>\n",
       "    <tr>\n",
       "      <th>AND</th>\n",
       "      <td>Andorra</td>\n",
       "      <td>462.042</td>\n",
       "      <td>High income</td>\n",
       "    </tr>\n",
       "  </tbody>\n",
       "</table>\n",
       "</div>"
      ],
      "text/plain": [
       "             Country Name       2014          IncomeGroup\n",
       "Country Code                                             \n",
       "ABW                 Aruba    872.746          High income\n",
       "AFG           Afghanistan   9809.225           Low income\n",
       "AGO                Angola  34763.160  Lower middle income\n",
       "ALB               Albania   5716.853  Upper middle income\n",
       "AND               Andorra    462.042          High income"
      ]
     },
     "execution_count": 263,
     "metadata": {},
     "output_type": "execute_result"
    }
   ],
   "source": [
    "df_with_income = pd.concat([df_co2_data, df_all_regions], axis=1).loc[country_codes, ['Country Name', '2014', 'IncomeGroup']]\n",
    "df_with_income.head()"
   ]
  },
  {
   "cell_type": "code",
   "execution_count": 264,
   "metadata": {},
   "outputs": [
    {
     "data": {
      "text/html": [
       "<div>\n",
       "<style>\n",
       "    .dataframe thead tr:only-child th {\n",
       "        text-align: right;\n",
       "    }\n",
       "\n",
       "    .dataframe thead th {\n",
       "        text-align: left;\n",
       "    }\n",
       "\n",
       "    .dataframe tbody tr th {\n",
       "        vertical-align: top;\n",
       "    }\n",
       "</style>\n",
       "<table border=\"1\" class=\"dataframe\">\n",
       "  <thead>\n",
       "    <tr style=\"text-align: right;\">\n",
       "      <th></th>\n",
       "      <th>0</th>\n",
       "      <th>1</th>\n",
       "      <th>2</th>\n",
       "      <th>3</th>\n",
       "      <th>4</th>\n",
       "      <th>5</th>\n",
       "      <th>6</th>\n",
       "      <th>7</th>\n",
       "      <th>8</th>\n",
       "      <th>9</th>\n",
       "      <th>...</th>\n",
       "      <th>67</th>\n",
       "      <th>68</th>\n",
       "      <th>69</th>\n",
       "      <th>70</th>\n",
       "      <th>71</th>\n",
       "      <th>72</th>\n",
       "      <th>73</th>\n",
       "      <th>74</th>\n",
       "      <th>75</th>\n",
       "      <th>76</th>\n",
       "    </tr>\n",
       "    <tr>\n",
       "      <th>IncomeGroup</th>\n",
       "      <th></th>\n",
       "      <th></th>\n",
       "      <th></th>\n",
       "      <th></th>\n",
       "      <th></th>\n",
       "      <th></th>\n",
       "      <th></th>\n",
       "      <th></th>\n",
       "      <th></th>\n",
       "      <th></th>\n",
       "      <th></th>\n",
       "      <th></th>\n",
       "      <th></th>\n",
       "      <th></th>\n",
       "      <th></th>\n",
       "      <th></th>\n",
       "      <th></th>\n",
       "      <th></th>\n",
       "      <th></th>\n",
       "      <th></th>\n",
       "      <th></th>\n",
       "    </tr>\n",
       "  </thead>\n",
       "  <tbody>\n",
       "    <tr>\n",
       "      <th>High income</th>\n",
       "      <td>872.746</td>\n",
       "      <td>462.042</td>\n",
       "      <td>211369.547</td>\n",
       "      <td>531.715</td>\n",
       "      <td>361261.839</td>\n",
       "      <td>58712.337</td>\n",
       "      <td>93350.819</td>\n",
       "      <td>31338.182</td>\n",
       "      <td>2416.553</td>\n",
       "      <td>575.719</td>\n",
       "      <td>...</td>\n",
       "      <td>12812.498</td>\n",
       "      <td>43420.947</td>\n",
       "      <td>733.4</td>\n",
       "      <td>495.045</td>\n",
       "      <td>205.352</td>\n",
       "      <td>46273.873</td>\n",
       "      <td>6747.28</td>\n",
       "      <td>5254279.285</td>\n",
       "      <td>179.683</td>\n",
       "      <td>NaN</td>\n",
       "    </tr>\n",
       "    <tr>\n",
       "      <th>Low income</th>\n",
       "      <td>9809.225</td>\n",
       "      <td>440.040</td>\n",
       "      <td>6318.241</td>\n",
       "      <td>2849.259</td>\n",
       "      <td>300.694</td>\n",
       "      <td>4671.758</td>\n",
       "      <td>154.014</td>\n",
       "      <td>696.730</td>\n",
       "      <td>11598.721</td>\n",
       "      <td>2449.556</td>\n",
       "      <td>...</td>\n",
       "      <td>NaN</td>\n",
       "      <td>NaN</td>\n",
       "      <td>NaN</td>\n",
       "      <td>NaN</td>\n",
       "      <td>NaN</td>\n",
       "      <td>NaN</td>\n",
       "      <td>NaN</td>\n",
       "      <td>NaN</td>\n",
       "      <td>NaN</td>\n",
       "      <td>NaN</td>\n",
       "    </tr>\n",
       "    <tr>\n",
       "      <th>Lower middle income</th>\n",
       "      <td>34763.160</td>\n",
       "      <td>5529.836</td>\n",
       "      <td>73189.653</td>\n",
       "      <td>20410.522</td>\n",
       "      <td>1001.091</td>\n",
       "      <td>11045.004</td>\n",
       "      <td>7003.970</td>\n",
       "      <td>3094.948</td>\n",
       "      <td>491.378</td>\n",
       "      <td>722.399</td>\n",
       "      <td>...</td>\n",
       "      <td>NaN</td>\n",
       "      <td>NaN</td>\n",
       "      <td>NaN</td>\n",
       "      <td>NaN</td>\n",
       "      <td>NaN</td>\n",
       "      <td>NaN</td>\n",
       "      <td>NaN</td>\n",
       "      <td>NaN</td>\n",
       "      <td>NaN</td>\n",
       "      <td>NaN</td>\n",
       "    </tr>\n",
       "    <tr>\n",
       "      <th>Upper middle income</th>\n",
       "      <td>5716.853</td>\n",
       "      <td>204024.546</td>\n",
       "      <td>NaN</td>\n",
       "      <td>37487.741</td>\n",
       "      <td>42416.189</td>\n",
       "      <td>22233.021</td>\n",
       "      <td>63497.772</td>\n",
       "      <td>495.045</td>\n",
       "      <td>529808.160</td>\n",
       "      <td>7033.306</td>\n",
       "      <td>...</td>\n",
       "      <td>NaN</td>\n",
       "      <td>NaN</td>\n",
       "      <td>NaN</td>\n",
       "      <td>NaN</td>\n",
       "      <td>NaN</td>\n",
       "      <td>NaN</td>\n",
       "      <td>NaN</td>\n",
       "      <td>NaN</td>\n",
       "      <td>NaN</td>\n",
       "      <td>NaN</td>\n",
       "    </tr>\n",
       "  </tbody>\n",
       "</table>\n",
       "<p>4 rows × 77 columns</p>\n",
       "</div>"
      ],
      "text/plain": [
       "                            0           1           2          3           4   \\\n",
       "IncomeGroup                                                                     \n",
       "High income            872.746     462.042  211369.547    531.715  361261.839   \n",
       "Low income            9809.225     440.040    6318.241   2849.259     300.694   \n",
       "Lower middle income  34763.160    5529.836   73189.653  20410.522    1001.091   \n",
       "Upper middle income   5716.853  204024.546         NaN  37487.741   42416.189   \n",
       "\n",
       "                            5          6          7           8         9   \\\n",
       "IncomeGroup                                                                  \n",
       "High income          58712.337  93350.819  31338.182    2416.553   575.719   \n",
       "Low income            4671.758    154.014    696.730   11598.721  2449.556   \n",
       "Lower middle income  11045.004   7003.970   3094.948     491.378   722.399   \n",
       "Upper middle income  22233.021  63497.772    495.045  529808.160  7033.306   \n",
       "\n",
       "                    ...         67         68     69       70       71  \\\n",
       "IncomeGroup         ...                                                  \n",
       "High income         ...  12812.498  43420.947  733.4  495.045  205.352   \n",
       "Low income          ...        NaN        NaN    NaN      NaN      NaN   \n",
       "Lower middle income ...        NaN        NaN    NaN      NaN      NaN   \n",
       "Upper middle income ...        NaN        NaN    NaN      NaN      NaN   \n",
       "\n",
       "                            72       73           74       75  76  \n",
       "IncomeGroup                                                        \n",
       "High income          46273.873  6747.28  5254279.285  179.683 NaN  \n",
       "Low income                 NaN      NaN          NaN      NaN NaN  \n",
       "Lower middle income        NaN      NaN          NaN      NaN NaN  \n",
       "Upper middle income        NaN      NaN          NaN      NaN NaN  \n",
       "\n",
       "[4 rows x 77 columns]"
      ]
     },
     "execution_count": 264,
     "metadata": {},
     "output_type": "execute_result"
    }
   ],
   "source": [
    "df_by_income = df_with_income.groupby('IncomeGroup')['2014'].apply(pd.Series.reset_index, drop=True).unstack()\n",
    "df_by_income.head()"
   ]
  },
  {
   "cell_type": "code",
   "execution_count": 265,
   "metadata": {},
   "outputs": [
    {
     "data": {
      "text/plain": [
       "<matplotlib.text.Text at 0x1233025f8>"
      ]
     },
     "execution_count": 265,
     "metadata": {},
     "output_type": "execute_result"
    },
    {
     "data": {
      "image/png": "[encoded data removed]",
      "text/plain": [
       "<matplotlib.figure.Figure at 0x122fff4e0>"
      ]
     },
     "metadata": {},
     "output_type": "display_data"
    }
   ],
   "source": [
    "xs = [x[~np.isnan(x)] for x in df_by_income.values]\n",
    "plt.boxplot(xs)\n",
    "plt.xticks(arange(1, len(xs)+1), df_by_income.index)\n",
    "plt.yscale('log')\n",
    "plt.ylabel('CO2 Emmision (kt)')\n",
    "plt.title('Boxplot of World Countries\\' CO2 Emmision in 2014')"
   ]
  },
  {
   "cell_type": "markdown",
   "metadata": {
    "collapsed": true
   },
   "source": [
    "## Pie Chart"
   ]
  },
  {
   "cell_type": "code",
   "execution_count": 268,
   "metadata": {},
   "outputs": [
    {
     "data": {
      "text/plain": [
       "[10291926.877999999, 25846358.122000001]"
      ]
     },
     "execution_count": 268,
     "metadata": {},
     "output_type": "execute_result"
    }
   ],
   "source": [
    "china = df_co2_data.loc['CHN', '2014']\n",
    "rest = df_co2_data.loc['WLD', '2014'] - china\n",
    "[china, rest]"
   ]
  },
  {
   "cell_type": "code",
   "execution_count": 270,
   "metadata": {},
   "outputs": [
    {
     "data": {
      "text/plain": [
       "<matplotlib.text.Text at 0x11fb25978>"
      ]
     },
     "execution_count": 270,
     "metadata": {},
     "output_type": "execute_result"
    },
    {
     "data": {
      "image/png": "[encoded data removed]",
      "text/plain": [
       "<matplotlib.figure.Figure at 0x120d6e828>"
      ]
     },
     "metadata": {},
     "output_type": "display_data"
    }
   ],
   "source": [
    "x = [china, rest]\n",
    "labels = ['China', 'Rest of the world']\n",
    "plt.pie(x, labels=labels, autopct='%1.1f%%')\n",
    "plt.axis('equal')\n",
    "plt.title('China vs World CO2 Emmision in 2014')"
   ]
  },
  {
   "cell_type": "markdown",
   "metadata": {},
   "source": [
    "## Area Plot"
   ]
  },
  {
   "cell_type": "code",
   "execution_count": 273,
   "metadata": {},
   "outputs": [
    {
     "data": {
      "text/html": [
       "<div>\n",
       "<style>\n",
       "    .dataframe thead tr:only-child th {\n",
       "        text-align: right;\n",
       "    }\n",
       "\n",
       "    .dataframe thead th {\n",
       "        text-align: left;\n",
       "    }\n",
       "\n",
       "    .dataframe tbody tr th {\n",
       "        vertical-align: top;\n",
       "    }\n",
       "</style>\n",
       "<table border=\"1\" class=\"dataframe\">\n",
       "  <thead>\n",
       "    <tr style=\"text-align: right;\">\n",
       "      <th></th>\n",
       "      <th>Year</th>\n",
       "      <th>WLD</th>\n",
       "      <th>CHN</th>\n",
       "      <th>USA</th>\n",
       "      <th>Rest</th>\n",
       "    </tr>\n",
       "  </thead>\n",
       "  <tbody>\n",
       "    <tr>\n",
       "      <th>0</th>\n",
       "      <td>1960</td>\n",
       "      <td>9.396706e+06</td>\n",
       "      <td>780726.302</td>\n",
       "      <td>2890696.100</td>\n",
       "      <td>5725283.433</td>\n",
       "    </tr>\n",
       "    <tr>\n",
       "      <th>1</th>\n",
       "      <td>1961</td>\n",
       "      <td>9.434403e+06</td>\n",
       "      <td>552066.850</td>\n",
       "      <td>2880505.507</td>\n",
       "      <td>6001830.238</td>\n",
       "    </tr>\n",
       "    <tr>\n",
       "      <th>2</th>\n",
       "      <td>1962</td>\n",
       "      <td>9.818840e+06</td>\n",
       "      <td>440359.029</td>\n",
       "      <td>2987207.873</td>\n",
       "      <td>6391272.972</td>\n",
       "    </tr>\n",
       "    <tr>\n",
       "      <th>3</th>\n",
       "      <td>1963</td>\n",
       "      <td>1.035575e+07</td>\n",
       "      <td>436695.696</td>\n",
       "      <td>3119230.874</td>\n",
       "      <td>6799820.776</td>\n",
       "    </tr>\n",
       "    <tr>\n",
       "      <th>4</th>\n",
       "      <td>1964</td>\n",
       "      <td>1.094701e+07</td>\n",
       "      <td>436923.050</td>\n",
       "      <td>3255995.306</td>\n",
       "      <td>7254088.736</td>\n",
       "    </tr>\n",
       "  </tbody>\n",
       "</table>\n",
       "</div>"
      ],
      "text/plain": [
       "   Year           WLD         CHN          USA         Rest\n",
       "0  1960  9.396706e+06  780726.302  2890696.100  5725283.433\n",
       "1  1961  9.434403e+06  552066.850  2880505.507  6001830.238\n",
       "2  1962  9.818840e+06  440359.029  2987207.873  6391272.972\n",
       "3  1963  1.035575e+07  436695.696  3119230.874  6799820.776\n",
       "4  1964  1.094701e+07  436923.050  3255995.306  7254088.736"
      ]
     },
     "execution_count": 273,
     "metadata": {},
     "output_type": "execute_result"
    }
   ],
   "source": [
    "df_wide_2 = df_wide.copy()\n",
    "df_wide_2['Rest'] = df_wide_2['WLD'] - df_wide_2['CHN'] - df_wide_2['USA']\n",
    "df_wide_2.head()"
   ]
  },
  {
   "cell_type": "code",
   "execution_count": 344,
   "metadata": {},
   "outputs": [
    {
     "data": {
      "text/plain": [
       "<matplotlib.text.Text at 0x1269c4fd0>"
      ]
     },
     "execution_count": 344,
     "metadata": {},
     "output_type": "execute_result"
    },
    {
     "data": {
      "image/png": "[encoded data removed]",
      "text/plain": [
       "<matplotlib.figure.Figure at 0x126923dd8>"
      ]
     },
     "metadata": {},
     "output_type": "display_data"
    }
   ],
   "source": [
    "x = df_wide_2['Year'].astype(int)\n",
    "y = df_wide_2[['CHN', 'USA', 'Rest']].T\n",
    "plt.stackplot(arange(x.size), y)\n",
    "plt.xlabel('Year')\n",
    "plt.ylabel('CO2 Emmision (kt)')\n",
    "plt.title('World, China, United States CO2 Emmision')"
   ]
  },
  {
   "cell_type": "markdown",
   "metadata": {},
   "source": [
    "## Scatter Plot"
   ]
  },
  {
   "cell_type": "code",
   "execution_count": 342,
   "metadata": {},
   "outputs": [
    {
     "data": {
      "text/html": [
       "<div>\n",
       "<style>\n",
       "    .dataframe thead tr:only-child th {\n",
       "        text-align: right;\n",
       "    }\n",
       "\n",
       "    .dataframe thead th {\n",
       "        text-align: left;\n",
       "    }\n",
       "\n",
       "    .dataframe tbody tr th {\n",
       "        vertical-align: top;\n",
       "    }\n",
       "</style>\n",
       "<table border=\"1\" class=\"dataframe\">\n",
       "  <thead>\n",
       "    <tr style=\"text-align: right;\">\n",
       "      <th></th>\n",
       "      <th>Country Name</th>\n",
       "      <th>2000</th>\n",
       "      <th>2014</th>\n",
       "    </tr>\n",
       "    <tr>\n",
       "      <th>Country Code</th>\n",
       "      <th></th>\n",
       "      <th></th>\n",
       "      <th></th>\n",
       "    </tr>\n",
       "  </thead>\n",
       "  <tbody>\n",
       "    <tr>\n",
       "      <th>ABW</th>\n",
       "      <td>Aruba</td>\n",
       "      <td>2379.883</td>\n",
       "      <td>872.746</td>\n",
       "    </tr>\n",
       "    <tr>\n",
       "      <th>AFG</th>\n",
       "      <td>Afghanistan</td>\n",
       "      <td>773.737</td>\n",
       "      <td>9809.225</td>\n",
       "    </tr>\n",
       "    <tr>\n",
       "      <th>AGO</th>\n",
       "      <td>Angola</td>\n",
       "      <td>9541.534</td>\n",
       "      <td>34763.160</td>\n",
       "    </tr>\n",
       "    <tr>\n",
       "      <th>ALB</th>\n",
       "      <td>Albania</td>\n",
       "      <td>3021.608</td>\n",
       "      <td>5716.853</td>\n",
       "    </tr>\n",
       "    <tr>\n",
       "      <th>AND</th>\n",
       "      <td>Andorra</td>\n",
       "      <td>524.381</td>\n",
       "      <td>462.042</td>\n",
       "    </tr>\n",
       "  </tbody>\n",
       "</table>\n",
       "</div>"
      ],
      "text/plain": [
       "             Country Name      2000       2014\n",
       "Country Code                                  \n",
       "ABW                 Aruba  2379.883    872.746\n",
       "AFG           Afghanistan   773.737   9809.225\n",
       "AGO                Angola  9541.534  34763.160\n",
       "ALB               Albania  3021.608   5716.853\n",
       "AND               Andorra   524.381    462.042"
      ]
     },
     "execution_count": 342,
     "metadata": {},
     "output_type": "execute_result"
    }
   ],
   "source": [
    "df_compare = df_co2_data.loc[country_codes, ['Country Name', '2000', '2014']]\n",
    "df_compare.head()"
   ]
  },
  {
   "cell_type": "code",
   "execution_count": 348,
   "metadata": {},
   "outputs": [
    {
     "data": {
      "text/plain": [
       "<matplotlib.text.Text at 0x123cd7a20>"
      ]
     },
     "execution_count": 348,
     "metadata": {},
     "output_type": "execute_result"
    },
    {
     "data": {
      "image/png": "[encoded data removed]",
      "text/plain": [
       "<matplotlib.figure.Figure at 0x123dbe198>"
      ]
     },
     "metadata": {},
     "output_type": "display_data"
    }
   ],
   "source": [
    "x = df_compare['2000']\n",
    "y = df_compare['2014']\n",
    "plt.scatter(x, y)\n",
    "plt.xscale('log')\n",
    "plt.yscale('log')\n",
    "plt.title('World Countries CO2 Emmision 2000 vs 2014')\n",
    "plt.xlabel('CO2 Emmision in 2000 (kt)')\n",
    "plt.ylabel('CO2 Emmision in 2014 (kt)')"
   ]
  },
  {
   "cell_type": "code",
   "execution_count": 394,
   "metadata": {},
   "outputs": [
    {
     "data": {
      "text/plain": [
       "<matplotlib.text.Text at 0x12a92f940>"
      ]
     },
     "execution_count": 394,
     "metadata": {},
     "output_type": "execute_result"
    },
    {
     "data": {
      "image/png": "[encoded data removed]",
      "text/plain": [
       "<matplotlib.figure.Figure at 0x128c42828>"
      ]
     },
     "metadata": {},
     "output_type": "display_data"
    }
   ],
   "source": [
    "import matplotlib\n",
    "\n",
    "x = df_compare['2000']\n",
    "y = df_compare['2014']\n",
    "\n",
    "# Color\n",
    "color = numpy.where(x<y, '#FC4F30', '#028DD3')\n",
    "# Size\n",
    "size = abs(y - x) / x * 100\n",
    "\n",
    "plt.scatter(x, y, c=color, s=size, alpha=0.6)\n",
    "plt.xscale('log')\n",
    "plt.yscale('log')\n",
    "plt.axis('equal')\n",
    "plt.title('World Countries CO2 Emmision 2000 vs 2014')\n",
    "plt.xlabel('CO2 Emmision (kt)')\n",
    "plt.ylabel('CO2 Emmision (kt)')"
   ]
  }
 ],
 "metadata": {
  "kernelspec": {
   "display_name": "Python 3",
   "language": "python",
   "name": "python3"
  },
  "language_info": {
   "codemirror_mode": {
    "name": "ipython",
    "version": 3
   },
   "file_extension": ".py",
   "mimetype": "text/x-python",
   "name": "python",
   "nbconvert_exporter": "python",
   "pygments_lexer": "ipython3",
   "version": "3.6.2"
  }
 },
 "nbformat": 4,
 "nbformat_minor": 2
}
